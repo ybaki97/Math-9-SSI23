{
 "cells": [
  {
   "cell_type": "markdown",
   "id": "99d248a2",
   "metadata": {},
   "source": [
    "# Lecture 12: July 21st, 2023"
   ]
  },
  {
   "cell_type": "markdown",
   "id": "49c94e3b",
   "metadata": {},
   "source": [
    "__Updates and Reminders:__\n",
    "* Opportunity to earn four (4) tokens: complete the two evaluations released by UCI EEE evaluations. Details are on Canvas.\n",
    "* Try to get pillow installed as soon as possibe, and let us know if there are any issues. This will be the focus of next week's lectures, and also crucial for your final creative homework assignment. Instructions are on Canvas under the Week 5 section.\n",
    "* Monday we will go over the instructions for the final creative homework.\n",
    "* Have a nice weekend :)"
   ]
  },
  {
   "cell_type": "markdown",
   "id": "9c5fae8b",
   "metadata": {},
   "source": [
    "## More on the `axis` keyword argument"
   ]
  },
  {
   "cell_type": "markdown",
   "id": "cdce3ff3",
   "metadata": {},
   "source": [
    "This is a portion that uses the iPad :)"
   ]
  },
  {
   "cell_type": "markdown",
   "id": "c0625a5d",
   "metadata": {},
   "source": [
    "![Teaching-28.jpg](Teaching-28.jpg)"
   ]
  },
  {
   "cell_type": "markdown",
   "id": "9f8f1586",
   "metadata": {},
   "source": [
    "![Teaching-29.jpg](Teaching-29.jpg)"
   ]
  },
  {
   "cell_type": "markdown",
   "id": "c7a0c326",
   "metadata": {},
   "source": [
    "![Teaching-30.jpg](Teaching-30.jpg)"
   ]
  },
  {
   "cell_type": "markdown",
   "id": "ea86eeaa",
   "metadata": {},
   "source": [
    "A very nice question was asked in lecture about the order in which concatenation is done. The first element of the tuple `(A,B)` specifies the starting array. Then `B` is appended in the direction that the indices increase."
   ]
  },
  {
   "cell_type": "code",
   "execution_count": 1,
   "id": "345a8c2d",
   "metadata": {
    "scrolled": false
   },
   "outputs": [],
   "source": [
    "import numpy as np"
   ]
  },
  {
   "cell_type": "markdown",
   "id": "6458980a",
   "metadata": {},
   "source": [
    "Here are some examples along `axis = 0`."
   ]
  },
  {
   "cell_type": "code",
   "execution_count": 126,
   "id": "987e5899",
   "metadata": {
    "scrolled": false
   },
   "outputs": [
    {
     "data": {
      "text/plain": [
       "array([[0., 0., 0., 0.],\n",
       "       [0., 0., 0., 0.],\n",
       "       [0., 0., 0., 0.],\n",
       "       [0., 0., 0., 0.]])"
      ]
     },
     "execution_count": 126,
     "metadata": {},
     "output_type": "execute_result"
    }
   ],
   "source": [
    "A = np.zeros((4,4))\n",
    "A"
   ]
  },
  {
   "cell_type": "code",
   "execution_count": 127,
   "id": "fbd68d0b",
   "metadata": {
    "scrolled": false
   },
   "outputs": [
    {
     "data": {
      "text/plain": [
       "array([[1., 1., 1., 1.]])"
      ]
     },
     "execution_count": 127,
     "metadata": {},
     "output_type": "execute_result"
    }
   ],
   "source": [
    "B = np.ones((1,4))\n",
    "B"
   ]
  },
  {
   "cell_type": "code",
   "execution_count": 128,
   "id": "e95c2740",
   "metadata": {
    "scrolled": false
   },
   "outputs": [
    {
     "data": {
      "text/plain": [
       "array([[0., 0., 0., 0.],\n",
       "       [0., 0., 0., 0.],\n",
       "       [0., 0., 0., 0.],\n",
       "       [0., 0., 0., 0.],\n",
       "       [1., 1., 1., 1.]])"
      ]
     },
     "execution_count": 128,
     "metadata": {},
     "output_type": "execute_result"
    }
   ],
   "source": [
    "np.concatenate((A,B),axis=0)"
   ]
  },
  {
   "cell_type": "code",
   "execution_count": 129,
   "id": "1865365c",
   "metadata": {
    "scrolled": false
   },
   "outputs": [
    {
     "data": {
      "text/plain": [
       "array([[1., 1., 1., 1.],\n",
       "       [0., 0., 0., 0.],\n",
       "       [0., 0., 0., 0.],\n",
       "       [0., 0., 0., 0.],\n",
       "       [0., 0., 0., 0.]])"
      ]
     },
     "execution_count": 129,
     "metadata": {},
     "output_type": "execute_result"
    }
   ],
   "source": [
    "np.concatenate((B,A),axis=0)"
   ]
  },
  {
   "cell_type": "markdown",
   "id": "57d8dd23",
   "metadata": {},
   "source": [
    "Here are some examples along `axis = 1`."
   ]
  },
  {
   "cell_type": "code",
   "execution_count": 130,
   "id": "c94666e7",
   "metadata": {},
   "outputs": [
    {
     "data": {
      "text/plain": [
       "array([[0., 0., 0., 0., 1.],\n",
       "       [0., 0., 0., 0., 1.],\n",
       "       [0., 0., 0., 0., 1.],\n",
       "       [0., 0., 0., 0., 1.]])"
      ]
     },
     "execution_count": 130,
     "metadata": {},
     "output_type": "execute_result"
    }
   ],
   "source": [
    "np.concatenate((A,B.T),axis=1)"
   ]
  },
  {
   "cell_type": "code",
   "execution_count": 131,
   "id": "fdc68bec",
   "metadata": {},
   "outputs": [
    {
     "data": {
      "text/plain": [
       "array([[1., 0., 0., 0., 0.],\n",
       "       [1., 0., 0., 0., 0.],\n",
       "       [1., 0., 0., 0., 0.],\n",
       "       [1., 0., 0., 0., 0.]])"
      ]
     },
     "execution_count": 131,
     "metadata": {},
     "output_type": "execute_result"
    }
   ],
   "source": [
    "np.concatenate((B.T,A),axis=1)"
   ]
  },
  {
   "cell_type": "markdown",
   "id": "04ec3ff0",
   "metadata": {},
   "source": [
    "## List Comprehension"
   ]
  },
  {
   "cell_type": "markdown",
   "id": "b20f2eb0",
   "metadata": {},
   "source": [
    "* Advice: If any of these ideas seem confusing, try coding them first with a for-loop, and then see how they relate to list comprehension.\n",
    "\n",
    "* Why list comprehension:\n",
    " - Readable code (easier than tracing through a for-loop)\n",
    " - More elegant"
   ]
  },
  {
   "cell_type": "markdown",
   "id": "4469eb0f",
   "metadata": {},
   "source": [
    "* Length 8 list of all 7s"
   ]
  },
  {
   "cell_type": "markdown",
   "id": "5cf1825a",
   "metadata": {},
   "source": [
    "Recall how we would do this with a for-loop."
   ]
  },
  {
   "cell_type": "code",
   "execution_count": 9,
   "id": "09742df3",
   "metadata": {
    "scrolled": false
   },
   "outputs": [
    {
     "data": {
      "text/plain": [
       "[7, 7, 7, 7, 7, 7, 7, 7]"
      ]
     },
     "execution_count": 9,
     "metadata": {},
     "output_type": "execute_result"
    }
   ],
   "source": [
    "mylist = []\n",
    "for _ in range(8):\n",
    "    mylist.append(7)\n",
    "mylist"
   ]
  },
  {
   "cell_type": "markdown",
   "id": "0d226a78",
   "metadata": {},
   "source": [
    "Here's the list comprehension way:"
   ]
  },
  {
   "cell_type": "code",
   "execution_count": 14,
   "id": "f14427a3",
   "metadata": {
    "scrolled": false
   },
   "outputs": [
    {
     "data": {
      "text/plain": [
       "[7, 7, 7, 7, 7, 7, 7, 7]"
      ]
     },
     "execution_count": 14,
     "metadata": {},
     "output_type": "execute_result"
    }
   ],
   "source": [
    "[7 for i in range(8)]"
   ]
  },
  {
   "cell_type": "markdown",
   "id": "2580f1b0",
   "metadata": {},
   "source": [
    "Recall that the underscore is a style convertion used when the variable is not actually used in the code."
   ]
  },
  {
   "cell_type": "code",
   "execution_count": 15,
   "id": "6848d3da",
   "metadata": {
    "scrolled": false
   },
   "outputs": [
    {
     "data": {
      "text/plain": [
       "[7, 7, 7, 7, 7, 7, 7, 7]"
      ]
     },
     "execution_count": 15,
     "metadata": {},
     "output_type": "execute_result"
    }
   ],
   "source": [
    "[7 for _ in range(8)]"
   ]
  },
  {
   "cell_type": "markdown",
   "id": "1b2cffcc",
   "metadata": {},
   "source": [
    "* Let `mylist = [-1,4,2,3,-10,2,4]`. Square each element in `mylist`."
   ]
  },
  {
   "cell_type": "code",
   "execution_count": 16,
   "id": "c7c51048",
   "metadata": {
    "scrolled": false
   },
   "outputs": [],
   "source": [
    "mylist = [-1,4,2,3,-10,2,4]"
   ]
  },
  {
   "cell_type": "code",
   "execution_count": 17,
   "id": "5413a69e",
   "metadata": {
    "scrolled": false
   },
   "outputs": [
    {
     "data": {
      "text/plain": [
       "[1, 16, 4, 9, 100, 4, 16]"
      ]
     },
     "execution_count": 17,
     "metadata": {},
     "output_type": "execute_result"
    }
   ],
   "source": [
    "[x**2 for x in mylist]"
   ]
  },
  {
   "cell_type": "markdown",
   "id": "677441a3",
   "metadata": {},
   "source": [
    "* Get the sublist of `mylist` containg only even numbers."
   ]
  },
  {
   "cell_type": "markdown",
   "id": "8c34e67f",
   "metadata": {},
   "source": [
    "The point of this example is to show you how to put `if` statements in list comprehension. This syntax is used if you only have an `if` statement and no `else` statement."
   ]
  },
  {
   "cell_type": "code",
   "execution_count": 18,
   "id": "7676410b",
   "metadata": {
    "scrolled": false
   },
   "outputs": [
    {
     "data": {
      "text/plain": [
       "[4, 2, -10, 2, 4]"
      ]
     },
     "execution_count": 18,
     "metadata": {},
     "output_type": "execute_result"
    }
   ],
   "source": [
    "[ x for x in mylist if x%2 == 0]"
   ]
  },
  {
   "cell_type": "markdown",
   "id": "48609440",
   "metadata": {},
   "source": [
    "What if I wanted just the odd numbers?"
   ]
  },
  {
   "cell_type": "code",
   "execution_count": 19,
   "id": "3ad73106",
   "metadata": {
    "scrolled": false
   },
   "outputs": [
    {
     "data": {
      "text/plain": [
       "[-1, 3]"
      ]
     },
     "execution_count": 19,
     "metadata": {},
     "output_type": "execute_result"
    }
   ],
   "source": [
    "[ x for x in mylist if x%2 == 1]"
   ]
  },
  {
   "cell_type": "markdown",
   "id": "a27ca4be",
   "metadata": {},
   "source": [
    "* Replace each negative number in `mylist` with 0."
   ]
  },
  {
   "cell_type": "markdown",
   "id": "a6eef47d",
   "metadata": {},
   "source": [
    "Here, we learn the syntax for if we want both an `if` and an `else` statement. Notice, it is slightly different than the previous example: here, both `if` and `else` need to go before the `for` statement."
   ]
  },
  {
   "cell_type": "code",
   "execution_count": 20,
   "id": "7617e390",
   "metadata": {
    "scrolled": false
   },
   "outputs": [
    {
     "data": {
      "text/plain": [
       "[-1, 4, 2, 3, -10, 2, 4]"
      ]
     },
     "execution_count": 20,
     "metadata": {},
     "output_type": "execute_result"
    }
   ],
   "source": [
    "mylist"
   ]
  },
  {
   "cell_type": "code",
   "execution_count": 21,
   "id": "00b35401",
   "metadata": {
    "scrolled": false
   },
   "outputs": [
    {
     "data": {
      "text/plain": [
       "[0, 4, 2, 3, 0, 2, 4]"
      ]
     },
     "execution_count": 21,
     "metadata": {},
     "output_type": "execute_result"
    }
   ],
   "source": [
    "[x if x >= 0 else 0 for x in mylist]"
   ]
  },
  {
   "cell_type": "markdown",
   "id": "321400ad",
   "metadata": {},
   "source": [
    "Here is another way of writing the same thing."
   ]
  },
  {
   "cell_type": "code",
   "execution_count": 22,
   "id": "7e4b9c39",
   "metadata": {
    "scrolled": false
   },
   "outputs": [
    {
     "data": {
      "text/plain": [
       "[0, 4, 2, 3, 0, 2, 4]"
      ]
     },
     "execution_count": 22,
     "metadata": {},
     "output_type": "execute_result"
    }
   ],
   "source": [
    "[0 if x < 0 else x for x in mylist]"
   ]
  },
  {
   "cell_type": "markdown",
   "id": "f1fb882a",
   "metadata": {},
   "source": [
    "Let's see some examples of syntax that gives an error:"
   ]
  },
  {
   "cell_type": "code",
   "execution_count": 23,
   "id": "c45ef5b3",
   "metadata": {
    "scrolled": false
   },
   "outputs": [
    {
     "ename": "SyntaxError",
     "evalue": "invalid syntax (1383592685.py, line 1)",
     "output_type": "error",
     "traceback": [
      "\u001b[0;36m  Input \u001b[0;32mIn [23]\u001b[0;36m\u001b[0m\n\u001b[0;31m    [0 if x < 0 for x in mylist else x]\u001b[0m\n\u001b[0m                ^\u001b[0m\n\u001b[0;31mSyntaxError\u001b[0m\u001b[0;31m:\u001b[0m invalid syntax\n"
     ]
    }
   ],
   "source": [
    "[0 if x < 0 for x in mylist else x]"
   ]
  },
  {
   "cell_type": "code",
   "execution_count": 24,
   "id": "9634e6d2",
   "metadata": {
    "scrolled": false
   },
   "outputs": [
    {
     "ename": "SyntaxError",
     "evalue": "invalid syntax (990203670.py, line 1)",
     "output_type": "error",
     "traceback": [
      "\u001b[0;36m  Input \u001b[0;32mIn [24]\u001b[0;36m\u001b[0m\n\u001b[0;31m    [0 for x in mylist if x < 0 else x]\u001b[0m\n\u001b[0m                                ^\u001b[0m\n\u001b[0;31mSyntaxError\u001b[0m\u001b[0;31m:\u001b[0m invalid syntax\n"
     ]
    }
   ],
   "source": [
    "[0 for x in mylist if x < 0 else x]"
   ]
  },
  {
   "cell_type": "markdown",
   "id": "8fc91e6f",
   "metadata": {},
   "source": [
    "* Make the length 8 list of lists `[[0,1,2],[0,1,2],...,[0,1,2]]`."
   ]
  },
  {
   "cell_type": "code",
   "execution_count": 25,
   "id": "e90acf5b",
   "metadata": {
    "scrolled": false
   },
   "outputs": [
    {
     "data": {
      "text/plain": [
       "[[0, 1, 2],\n",
       " [0, 1, 2],\n",
       " [0, 1, 2],\n",
       " [0, 1, 2],\n",
       " [0, 1, 2],\n",
       " [0, 1, 2],\n",
       " [0, 1, 2],\n",
       " [0, 1, 2]]"
      ]
     },
     "execution_count": 25,
     "metadata": {},
     "output_type": "execute_result"
    }
   ],
   "source": [
    "[[0,1,2] for i in range(8)]"
   ]
  },
  {
   "cell_type": "code",
   "execution_count": 26,
   "id": "5953a7b4",
   "metadata": {
    "scrolled": false
   },
   "outputs": [
    {
     "data": {
      "text/plain": [
       "8"
      ]
     },
     "execution_count": 26,
     "metadata": {},
     "output_type": "execute_result"
    }
   ],
   "source": [
    "len([[0,1,2] for i in range(8)])"
   ]
  },
  {
   "cell_type": "markdown",
   "id": "214c524e",
   "metadata": {},
   "source": [
    "* Make the length 24 list `[0,1,2,0,1,2,...,0,1,2]`"
   ]
  },
  {
   "cell_type": "markdown",
   "id": "dda736d4",
   "metadata": {},
   "source": [
    "Let's first recap how we would do this with nested for-loops."
   ]
  },
  {
   "cell_type": "code",
   "execution_count": 29,
   "id": "bbfef9e1",
   "metadata": {
    "scrolled": false
   },
   "outputs": [
    {
     "name": "stdout",
     "output_type": "stream",
     "text": [
      "[0, 1, 2, 0, 1, 2, 0, 1, 2, 0, 1, 2, 0, 1, 2, 0, 1, 2, 0, 1, 2, 0, 1, 2]\n",
      "24\n"
     ]
    }
   ],
   "source": [
    "mylist = []\n",
    "for i in range(8):\n",
    "    for j in range(3):\n",
    "        mylist.append(j)\n",
    "print(mylist)\n",
    "print(len(mylist))"
   ]
  },
  {
   "cell_type": "markdown",
   "id": "31b79549",
   "metadata": {},
   "source": [
    "This is the nested for-loop equivalent of list comprehension:"
   ]
  },
  {
   "cell_type": "code",
   "execution_count": 30,
   "id": "9afe3099",
   "metadata": {
    "scrolled": false
   },
   "outputs": [
    {
     "data": {
      "text/plain": [
       "[0, 1, 2, 0, 1, 2, 0, 1, 2, 0, 1, 2, 0, 1, 2, 0, 1, 2, 0, 1, 2, 0, 1, 2]"
      ]
     },
     "execution_count": 30,
     "metadata": {},
     "output_type": "execute_result"
    }
   ],
   "source": [
    "[j for i in range(8) for j in range(3)]"
   ]
  },
  {
   "cell_type": "markdown",
   "id": "e33498bb",
   "metadata": {},
   "source": [
    "* Capitalize each word in the catelogue description of Math 9."
   ]
  },
  {
   "cell_type": "markdown",
   "id": "51c97c5c",
   "metadata": {},
   "source": [
    "Introduction to computers and programming using Matlab and Mathematica. Representation of numbers and precision, input/output, functions, custom data types, testing/debugging, reading exceptions, plotting data, numerical differentiation, basics of algorithms."
   ]
  },
  {
   "cell_type": "code",
   "execution_count": 31,
   "id": "139846c1",
   "metadata": {
    "scrolled": false
   },
   "outputs": [],
   "source": [
    "s = '''Introduction to computers and programming using Matlab and Mathematica. Representation of numbers and precision, input/output, functions, custom data types, testing/debugging, reading exceptions, plotting data, numerical differentiation, basics of algorithms.'''"
   ]
  },
  {
   "cell_type": "code",
   "execution_count": 32,
   "id": "6011c218",
   "metadata": {
    "scrolled": false
   },
   "outputs": [
    {
     "data": {
      "text/plain": [
       "'Introduction to computers and programming using Matlab and Mathematica. Representation of numbers and precision, input/output, functions, custom data types, testing/debugging, reading exceptions, plotting data, numerical differentiation, basics of algorithms.'"
      ]
     },
     "execution_count": 32,
     "metadata": {},
     "output_type": "execute_result"
    }
   ],
   "source": [
    "s"
   ]
  },
  {
   "cell_type": "markdown",
   "id": "d6502d85",
   "metadata": {},
   "source": [
    "The three `'''` quotes here store the string with line breaks. Notice the difference between the above and below."
   ]
  },
  {
   "cell_type": "code",
   "execution_count": 35,
   "id": "3ba45065",
   "metadata": {
    "scrolled": false
   },
   "outputs": [],
   "source": [
    "s2 = '''Introduction to computers and programming \n",
    "using Matlab and Mathematica. Representation of numbers and precision, input/output, functions, custom data types, testing/debugging, reading exceptions, plotting data, numerical differentiation, \n",
    "basics of algorithms.'''"
   ]
  },
  {
   "cell_type": "code",
   "execution_count": 36,
   "id": "1931321c",
   "metadata": {
    "scrolled": false
   },
   "outputs": [
    {
     "data": {
      "text/plain": [
       "'Introduction to computers and programming \\nusing Matlab and Mathematica. Representation of numbers and precision, input/output, functions, custom data types, testing/debugging, reading exceptions, plotting data, numerical differentiation, \\nbasics of algorithms.'"
      ]
     },
     "execution_count": 36,
     "metadata": {},
     "output_type": "execute_result"
    }
   ],
   "source": [
    "s2"
   ]
  },
  {
   "cell_type": "code",
   "execution_count": 38,
   "id": "2b3ffc6a",
   "metadata": {
    "scrolled": true
   },
   "outputs": [
    {
     "data": {
      "text/plain": [
       "['I',\n",
       " 'n',\n",
       " 't',\n",
       " 'r',\n",
       " 'o',\n",
       " 'd',\n",
       " 'u',\n",
       " 'c',\n",
       " 't',\n",
       " 'i',\n",
       " 'o',\n",
       " 'n',\n",
       " ' ',\n",
       " 't',\n",
       " 'o',\n",
       " ' ',\n",
       " 'c',\n",
       " 'o',\n",
       " 'm',\n",
       " 'p',\n",
       " 'u',\n",
       " 't',\n",
       " 'e',\n",
       " 'r',\n",
       " 's',\n",
       " ' ',\n",
       " 'a',\n",
       " 'n',\n",
       " 'd',\n",
       " ' ',\n",
       " 'p',\n",
       " 'r',\n",
       " 'o',\n",
       " 'g',\n",
       " 'r',\n",
       " 'a',\n",
       " 'm',\n",
       " 'm',\n",
       " 'i',\n",
       " 'n',\n",
       " 'g',\n",
       " ' ',\n",
       " 'u',\n",
       " 's',\n",
       " 'i',\n",
       " 'n',\n",
       " 'g',\n",
       " ' ',\n",
       " 'M',\n",
       " 'a',\n",
       " 't',\n",
       " 'l',\n",
       " 'a',\n",
       " 'b',\n",
       " ' ',\n",
       " 'a',\n",
       " 'n',\n",
       " 'd',\n",
       " ' ',\n",
       " 'M',\n",
       " 'a',\n",
       " 't',\n",
       " 'h',\n",
       " 'e',\n",
       " 'm',\n",
       " 'a',\n",
       " 't',\n",
       " 'i',\n",
       " 'c',\n",
       " 'a',\n",
       " '.',\n",
       " ' ',\n",
       " 'R',\n",
       " 'e',\n",
       " 'p',\n",
       " 'r',\n",
       " 'e',\n",
       " 's',\n",
       " 'e',\n",
       " 'n',\n",
       " 't',\n",
       " 'a',\n",
       " 't',\n",
       " 'i',\n",
       " 'o',\n",
       " 'n',\n",
       " ' ',\n",
       " 'o',\n",
       " 'f',\n",
       " ' ',\n",
       " 'n',\n",
       " 'u',\n",
       " 'm',\n",
       " 'b',\n",
       " 'e',\n",
       " 'r',\n",
       " 's',\n",
       " ' ',\n",
       " 'a',\n",
       " 'n',\n",
       " 'd',\n",
       " ' ',\n",
       " 'p',\n",
       " 'r',\n",
       " 'e',\n",
       " 'c',\n",
       " 'i',\n",
       " 's',\n",
       " 'i',\n",
       " 'o',\n",
       " 'n',\n",
       " ',',\n",
       " ' ',\n",
       " 'i',\n",
       " 'n',\n",
       " 'p',\n",
       " 'u',\n",
       " 't',\n",
       " '/',\n",
       " 'o',\n",
       " 'u',\n",
       " 't',\n",
       " 'p',\n",
       " 'u',\n",
       " 't',\n",
       " ',',\n",
       " ' ',\n",
       " 'f',\n",
       " 'u',\n",
       " 'n',\n",
       " 'c',\n",
       " 't',\n",
       " 'i',\n",
       " 'o',\n",
       " 'n',\n",
       " 's',\n",
       " ',',\n",
       " ' ',\n",
       " 'c',\n",
       " 'u',\n",
       " 's',\n",
       " 't',\n",
       " 'o',\n",
       " 'm',\n",
       " ' ',\n",
       " 'd',\n",
       " 'a',\n",
       " 't',\n",
       " 'a',\n",
       " ' ',\n",
       " 't',\n",
       " 'y',\n",
       " 'p',\n",
       " 'e',\n",
       " 's',\n",
       " ',',\n",
       " ' ',\n",
       " 't',\n",
       " 'e',\n",
       " 's',\n",
       " 't',\n",
       " 'i',\n",
       " 'n',\n",
       " 'g',\n",
       " '/',\n",
       " 'd',\n",
       " 'e',\n",
       " 'b',\n",
       " 'u',\n",
       " 'g',\n",
       " 'g',\n",
       " 'i',\n",
       " 'n',\n",
       " 'g',\n",
       " ',',\n",
       " ' ',\n",
       " 'r',\n",
       " 'e',\n",
       " 'a',\n",
       " 'd',\n",
       " 'i',\n",
       " 'n',\n",
       " 'g',\n",
       " ' ',\n",
       " 'e',\n",
       " 'x',\n",
       " 'c',\n",
       " 'e',\n",
       " 'p',\n",
       " 't',\n",
       " 'i',\n",
       " 'o',\n",
       " 'n',\n",
       " 's',\n",
       " ',',\n",
       " ' ',\n",
       " 'p',\n",
       " 'l',\n",
       " 'o',\n",
       " 't',\n",
       " 't',\n",
       " 'i',\n",
       " 'n',\n",
       " 'g',\n",
       " ' ',\n",
       " 'd',\n",
       " 'a',\n",
       " 't',\n",
       " 'a',\n",
       " ',',\n",
       " ' ',\n",
       " 'n',\n",
       " 'u',\n",
       " 'm',\n",
       " 'e',\n",
       " 'r',\n",
       " 'i',\n",
       " 'c',\n",
       " 'a',\n",
       " 'l',\n",
       " ' ',\n",
       " 'd',\n",
       " 'i',\n",
       " 'f',\n",
       " 'f',\n",
       " 'e',\n",
       " 'r',\n",
       " 'e',\n",
       " 'n',\n",
       " 't',\n",
       " 'i',\n",
       " 'a',\n",
       " 't',\n",
       " 'i',\n",
       " 'o',\n",
       " 'n',\n",
       " ',',\n",
       " ' ',\n",
       " 'b',\n",
       " 'a',\n",
       " 's',\n",
       " 'i',\n",
       " 'c',\n",
       " 's',\n",
       " ' ',\n",
       " 'o',\n",
       " 'f',\n",
       " ' ',\n",
       " 'a',\n",
       " 'l',\n",
       " 'g',\n",
       " 'o',\n",
       " 'r',\n",
       " 'i',\n",
       " 't',\n",
       " 'h',\n",
       " 'm',\n",
       " 's',\n",
       " '.']"
      ]
     },
     "execution_count": 38,
     "metadata": {},
     "output_type": "execute_result"
    }
   ],
   "source": [
    "#Notice, this just gives the letters and spaces...\n",
    "[c for c in s]"
   ]
  },
  {
   "cell_type": "markdown",
   "id": "8dd434e4",
   "metadata": {},
   "source": [
    "What if we wanted to get just the words?"
   ]
  },
  {
   "cell_type": "code",
   "execution_count": 41,
   "id": "42cb7e4e",
   "metadata": {},
   "outputs": [],
   "source": [
    "#This gives us the list of words; split splits at the spaces.\n",
    "wordlist = s.split()"
   ]
  },
  {
   "cell_type": "code",
   "execution_count": 44,
   "id": "1e8acff1",
   "metadata": {},
   "outputs": [],
   "source": [
    "caplist = [c.capitalize() for c in wordlist]"
   ]
  },
  {
   "cell_type": "code",
   "execution_count": 45,
   "id": "049563d5",
   "metadata": {},
   "outputs": [
    {
     "data": {
      "text/plain": [
       "'IntroductionToComputersAndProgrammingUsingMatlabAndMathematica.RepresentationOfNumbersAndPrecision,Input/output,Functions,CustomDataTypes,Testing/debugging,ReadingExceptions,PlottingData,NumericalDifferentiation,BasicsOfAlgorithms.'"
      ]
     },
     "execution_count": 45,
     "metadata": {},
     "output_type": "execute_result"
    }
   ],
   "source": [
    "''.join(caplist) #no spaces"
   ]
  },
  {
   "cell_type": "code",
   "execution_count": 132,
   "id": "02132029",
   "metadata": {},
   "outputs": [
    {
     "data": {
      "text/plain": [
       "'Introduction To Computers And Programming Using Matlab And Mathematica. Representation Of Numbers And Precision, Input/output, Functions, Custom Data Types, Testing/debugging, Reading Exceptions, Plotting Data, Numerical Differentiation, Basics Of Algorithms.'"
      ]
     },
     "execution_count": 132,
     "metadata": {},
     "output_type": "execute_result"
    }
   ],
   "source": [
    "' '.join(caplist) #with spaces"
   ]
  },
  {
   "cell_type": "markdown",
   "id": "6ec8c3f6",
   "metadata": {},
   "source": [
    "## f-strings"
   ]
  },
  {
   "cell_type": "markdown",
   "id": "f19d33c5",
   "metadata": {},
   "source": [
    "Thank you to Phillip for letting us use his name and picking the number 7."
   ]
  },
  {
   "cell_type": "code",
   "execution_count": 47,
   "id": "8f59d061",
   "metadata": {
    "scrolled": false
   },
   "outputs": [],
   "source": [
    "name = \"Phillip\"\n",
    "n = 7"
   ]
  },
  {
   "cell_type": "markdown",
   "id": "ac7024c6",
   "metadata": {},
   "source": [
    "__Motivation:__ What if I wanted to type of the sentence \"Hello, `name`, nice to meet you `n` times\"."
   ]
  },
  {
   "cell_type": "markdown",
   "id": "793ca658",
   "metadata": {},
   "source": [
    "Let's first see a couple clunky ways of doing this, then an \"old-fashion\" way, and finally the modern way."
   ]
  },
  {
   "cell_type": "code",
   "execution_count": 51,
   "id": "830b7616",
   "metadata": {},
   "outputs": [
    {
     "name": "stdout",
     "output_type": "stream",
     "text": [
      "Hello, Phillip nice to meet you  7 times.\n"
     ]
    }
   ],
   "source": [
    "print(\"Hello,\", name, \"nice to meet you \", n, \"times.\")"
   ]
  },
  {
   "cell_type": "markdown",
   "id": "bd3c05d7",
   "metadata": {},
   "source": [
    "Another way would be to use string concatenation. Like usual, we'll have an error at first."
   ]
  },
  {
   "cell_type": "code",
   "execution_count": 52,
   "id": "163e7375",
   "metadata": {},
   "outputs": [
    {
     "ename": "TypeError",
     "evalue": "can only concatenate str (not \"int\") to str",
     "output_type": "error",
     "traceback": [
      "\u001b[0;31m---------------------------------------------------------------------------\u001b[0m",
      "\u001b[0;31mTypeError\u001b[0m                                 Traceback (most recent call last)",
      "Input \u001b[0;32mIn [52]\u001b[0m, in \u001b[0;36m<cell line: 1>\u001b[0;34m()\u001b[0m\n\u001b[0;32m----> 1\u001b[0m \u001b[38;5;28mprint\u001b[39m(\u001b[38;5;124;43m\"\u001b[39;49m\u001b[38;5;124;43mHello, \u001b[39;49m\u001b[38;5;124;43m\"\u001b[39;49m\u001b[38;5;241;43m+\u001b[39;49m\u001b[43mname\u001b[49m\u001b[38;5;241;43m+\u001b[39;49m\u001b[38;5;124;43m\"\u001b[39;49m\u001b[38;5;124;43m,nice to meet you\u001b[39;49m\u001b[38;5;124;43m\"\u001b[39;49m\u001b[38;5;241;43m+\u001b[39;49m\u001b[43mn\u001b[49m\u001b[38;5;241m+\u001b[39m\u001b[38;5;124m\"\u001b[39m\u001b[38;5;124mtimes\u001b[39m\u001b[38;5;124m\"\u001b[39m)\n",
      "\u001b[0;31mTypeError\u001b[0m: can only concatenate str (not \"int\") to str"
     ]
    }
   ],
   "source": [
    "print(\"Hello, \"+name+\",nice to meet you\"+n+\"times\")"
   ]
  },
  {
   "cell_type": "code",
   "execution_count": 58,
   "id": "775e1837",
   "metadata": {},
   "outputs": [
    {
     "name": "stdout",
     "output_type": "stream",
     "text": [
      "Hello, Phillip, nice to meet you 7 times\n"
     ]
    }
   ],
   "source": [
    "print(\"Hello, \"+name+\", nice to meet you \"+str(n)+\" times\")"
   ]
  },
  {
   "cell_type": "markdown",
   "id": "ae692fb7",
   "metadata": {},
   "source": [
    "Getting strings printed like this is difficult and takes a lot of time. Especially to get the formatting looking okay."
   ]
  },
  {
   "cell_type": "markdown",
   "id": "0040fc40",
   "metadata": {},
   "source": [
    "Next, let's see the old way of solving this problem. If you are reading old python code, this is likely what you will see. New code should not use this method."
   ]
  },
  {
   "cell_type": "code",
   "execution_count": 59,
   "id": "4a39019b",
   "metadata": {},
   "outputs": [
    {
     "data": {
      "text/plain": [
       "'Hello, Phillip, nice to meet you 7 times.'"
      ]
     },
     "execution_count": 59,
     "metadata": {},
     "output_type": "execute_result"
    }
   ],
   "source": [
    "\"Hello, {}, nice to meet you {} times.\".format(name,n)"
   ]
  },
  {
   "cell_type": "markdown",
   "id": "04bae401",
   "metadata": {},
   "source": [
    "This method is really nice, but the main drawback is that the variables need to appear in order. For strings with many variables, this can get confusing fast!"
   ]
  },
  {
   "cell_type": "markdown",
   "id": "14f19cd6",
   "metadata": {},
   "source": [
    "Finally, this is the modern method. This is what we call f-strings."
   ]
  },
  {
   "cell_type": "code",
   "execution_count": 60,
   "id": "e5d7294f",
   "metadata": {},
   "outputs": [
    {
     "data": {
      "text/plain": [
       "'Hello, Phillip, nice to meet you 7 times.'"
      ]
     },
     "execution_count": 60,
     "metadata": {},
     "output_type": "execute_result"
    }
   ],
   "source": [
    "f\"Hello, {name}, nice to meet you {n} times.\""
   ]
  },
  {
   "cell_type": "markdown",
   "id": "1df29a38",
   "metadata": {},
   "source": [
    "Pretty nice, huh?"
   ]
  },
  {
   "cell_type": "markdown",
   "id": "c3f40189",
   "metadata": {},
   "source": [
    "### String formatting options"
   ]
  },
  {
   "cell_type": "markdown",
   "id": "d2dbd321",
   "metadata": {},
   "source": [
    "This section of the notes is just to show you some options. I don't expect you to memorize anything here. Just look up what you need when you need it :)"
   ]
  },
  {
   "cell_type": "code",
   "execution_count": 63,
   "id": "14955c3a",
   "metadata": {},
   "outputs": [
    {
     "data": {
      "text/plain": [
       "3486784401"
      ]
     },
     "execution_count": 63,
     "metadata": {},
     "output_type": "execute_result"
    }
   ],
   "source": [
    "m = 3**20\n",
    "m"
   ]
  },
  {
   "cell_type": "markdown",
   "id": "d0f27d11",
   "metadata": {},
   "source": [
    "Using an f-string, we can specify how to format output by using the following syntax."
   ]
  },
  {
   "cell_type": "code",
   "execution_count": 64,
   "id": "4bdbd874",
   "metadata": {},
   "outputs": [
    {
     "data": {
      "text/plain": [
       "'3.486784e+09'"
      ]
     },
     "execution_count": 64,
     "metadata": {},
     "output_type": "execute_result"
    }
   ],
   "source": [
    "#exponential notation\n",
    "f\"{m:e}\""
   ]
  },
  {
   "cell_type": "code",
   "execution_count": 65,
   "id": "3a147596",
   "metadata": {},
   "outputs": [
    {
     "data": {
      "text/plain": [
       "'3486784401.0000'"
      ]
     },
     "execution_count": 65,
     "metadata": {},
     "output_type": "execute_result"
    }
   ],
   "source": [
    "#Give 4 decimal places\n",
    "f\"{m:.4f}\""
   ]
  },
  {
   "cell_type": "code",
   "execution_count": 69,
   "id": "776ed48e",
   "metadata": {},
   "outputs": [
    {
     "data": {
      "text/plain": [
       "'0.00000000028679719908'"
      ]
     },
     "execution_count": 69,
     "metadata": {},
     "output_type": "execute_result"
    }
   ],
   "source": [
    "#Give 20 deciaml places\n",
    "f\"{1/m:.20f}\""
   ]
  },
  {
   "cell_type": "code",
   "execution_count": 70,
   "id": "56593d69",
   "metadata": {},
   "outputs": [
    {
     "data": {
      "text/plain": [
       "2.8679719907924413e-10"
      ]
     },
     "execution_count": 70,
     "metadata": {},
     "output_type": "execute_result"
    }
   ],
   "source": [
    "1/m"
   ]
  },
  {
   "cell_type": "code",
   "execution_count": 72,
   "id": "7dd28ad9",
   "metadata": {},
   "outputs": [
    {
     "data": {
      "text/plain": [
       "'10001'"
      ]
     },
     "execution_count": 72,
     "metadata": {},
     "output_type": "execute_result"
    }
   ],
   "source": [
    "z = 17\n",
    "f\"{z:b}\""
   ]
  },
  {
   "cell_type": "markdown",
   "id": "526e51c5",
   "metadata": {},
   "source": [
    "## lambda functions"
   ]
  },
  {
   "cell_type": "markdown",
   "id": "7c0c5254",
   "metadata": {},
   "source": [
    "Some warnings about lambda functions before we get started:\n",
    "* lambda functions are very similar to function handles in MATLAB.\n",
    "* lambda functions are often called nameless or anonymous functions. This is because they are almost never named or referred to outside of a single line of code.\n",
    "* In this part of lecture, you'll see me name lambda functions to help give examples/teach. Just keep in mind you typically don't do this."
   ]
  },
  {
   "cell_type": "markdown",
   "id": "45d3dee2",
   "metadata": {},
   "source": [
    "* Write a function `cap` that takes as input a string `s` and as output returns the same string `s` capitalized."
   ]
  },
  {
   "cell_type": "markdown",
   "id": "f5cbc836",
   "metadata": {},
   "source": [
    "Here's how we'd do that with just a regular function. Notice that the entire function after `def...` takes just one line."
   ]
  },
  {
   "cell_type": "code",
   "execution_count": 73,
   "id": "accab31c",
   "metadata": {},
   "outputs": [],
   "source": [
    "def cap(s):\n",
    "    return s.capitalize()"
   ]
  },
  {
   "cell_type": "markdown",
   "id": "2a3aace6",
   "metadata": {},
   "source": [
    "Here is the basic syntax for lambda functions."
   ]
  },
  {
   "cell_type": "code",
   "execution_count": 75,
   "id": "fcb57d32",
   "metadata": {},
   "outputs": [],
   "source": [
    "cap = lambda s: s.capitalize()"
   ]
  },
  {
   "cell_type": "code",
   "execution_count": 77,
   "id": "29cb4e7b",
   "metadata": {},
   "outputs": [
    {
     "data": {
      "text/plain": [
       "'Hello'"
      ]
     },
     "execution_count": 77,
     "metadata": {},
     "output_type": "execute_result"
    }
   ],
   "source": [
    "cap(\"hello\")"
   ]
  },
  {
   "cell_type": "code",
   "execution_count": 78,
   "id": "3cdaf925",
   "metadata": {},
   "outputs": [
    {
     "data": {
      "text/plain": [
       "'Picasso'"
      ]
     },
     "execution_count": 78,
     "metadata": {},
     "output_type": "execute_result"
    }
   ],
   "source": [
    "cap(\"picasso\")"
   ]
  },
  {
   "cell_type": "markdown",
   "id": "bfb5b30a",
   "metadata": {},
   "source": [
    "* Write a function `plus` that takes two inputs and adds them together."
   ]
  },
  {
   "cell_type": "code",
   "execution_count": 79,
   "id": "55200cad",
   "metadata": {},
   "outputs": [],
   "source": [
    "plus = lambda x,y: x+y"
   ]
  },
  {
   "cell_type": "code",
   "execution_count": 80,
   "id": "b7ce5df6",
   "metadata": {},
   "outputs": [
    {
     "data": {
      "text/plain": [
       "40"
      ]
     },
     "execution_count": 80,
     "metadata": {},
     "output_type": "execute_result"
    }
   ],
   "source": [
    "plus(17,23)"
   ]
  },
  {
   "cell_type": "code",
   "execution_count": 82,
   "id": "26b901b3",
   "metadata": {},
   "outputs": [
    {
     "data": {
      "text/plain": [
       "'Hello, Math 9'"
      ]
     },
     "execution_count": 82,
     "metadata": {},
     "output_type": "execute_result"
    }
   ],
   "source": [
    "plus(\"Hello, \",\"Math 9\")"
   ]
  },
  {
   "cell_type": "markdown",
   "id": "e4a95051",
   "metadata": {},
   "source": [
    "* Make a $20 \\times 3$ NumPy array of random letters, then concatenate each row of three letters into a single length-3 string using `np.apply_along_axis`."
   ]
  },
  {
   "cell_type": "markdown",
   "id": "5a0c5314",
   "metadata": {},
   "source": [
    "This will be an example of how lambda functions are typically used."
   ]
  },
  {
   "cell_type": "code",
   "execution_count": 83,
   "id": "dc4667b5",
   "metadata": {},
   "outputs": [],
   "source": [
    "import numpy as np\n",
    "import string\n",
    "rng = np.random.default_rng()"
   ]
  },
  {
   "cell_type": "code",
   "execution_count": 84,
   "id": "ddd290d4",
   "metadata": {},
   "outputs": [
    {
     "data": {
      "text/plain": [
       "['Formatter',\n",
       " 'Template',\n",
       " '_ChainMap',\n",
       " '__all__',\n",
       " '__builtins__',\n",
       " '__cached__',\n",
       " '__doc__',\n",
       " '__file__',\n",
       " '__loader__',\n",
       " '__name__',\n",
       " '__package__',\n",
       " '__spec__',\n",
       " '_re',\n",
       " '_sentinel_dict',\n",
       " '_string',\n",
       " 'ascii_letters',\n",
       " 'ascii_lowercase',\n",
       " 'ascii_uppercase',\n",
       " 'capwords',\n",
       " 'digits',\n",
       " 'hexdigits',\n",
       " 'octdigits',\n",
       " 'printable',\n",
       " 'punctuation',\n",
       " 'whitespace']"
      ]
     },
     "execution_count": 84,
     "metadata": {},
     "output_type": "execute_result"
    }
   ],
   "source": [
    "dir(string)"
   ]
  },
  {
   "cell_type": "code",
   "execution_count": 86,
   "id": "e82b126a",
   "metadata": {},
   "outputs": [
    {
     "data": {
      "text/plain": [
       "['ALLOW_THREADS',\n",
       " 'AxisError',\n",
       " 'BUFSIZE',\n",
       " 'CLIP',\n",
       " 'ComplexWarning',\n",
       " 'DataSource',\n",
       " 'ERR_CALL',\n",
       " 'ERR_DEFAULT',\n",
       " 'ERR_IGNORE',\n",
       " 'ERR_LOG',\n",
       " 'ERR_PRINT',\n",
       " 'ERR_RAISE',\n",
       " 'ERR_WARN',\n",
       " 'FLOATING_POINT_SUPPORT',\n",
       " 'FPE_DIVIDEBYZERO',\n",
       " 'FPE_INVALID',\n",
       " 'FPE_OVERFLOW',\n",
       " 'FPE_UNDERFLOW',\n",
       " 'False_',\n",
       " 'Inf',\n",
       " 'Infinity',\n",
       " 'MAXDIMS',\n",
       " 'MAY_SHARE_BOUNDS',\n",
       " 'MAY_SHARE_EXACT',\n",
       " 'ModuleDeprecationWarning',\n",
       " 'NAN',\n",
       " 'NINF',\n",
       " 'NZERO',\n",
       " 'NaN',\n",
       " 'PINF',\n",
       " 'PZERO',\n",
       " 'RAISE',\n",
       " 'RankWarning',\n",
       " 'SHIFT_DIVIDEBYZERO',\n",
       " 'SHIFT_INVALID',\n",
       " 'SHIFT_OVERFLOW',\n",
       " 'SHIFT_UNDERFLOW',\n",
       " 'ScalarType',\n",
       " 'Tester',\n",
       " 'TooHardError',\n",
       " 'True_',\n",
       " 'UFUNC_BUFSIZE_DEFAULT',\n",
       " 'UFUNC_PYVALS_NAME',\n",
       " 'VisibleDeprecationWarning',\n",
       " 'WRAP',\n",
       " '_CopyMode',\n",
       " '_NoValue',\n",
       " '_UFUNC_API',\n",
       " '__NUMPY_SETUP__',\n",
       " '__all__',\n",
       " '__builtins__',\n",
       " '__cached__',\n",
       " '__config__',\n",
       " '__deprecated_attrs__',\n",
       " '__dir__',\n",
       " '__doc__',\n",
       " '__expired_functions__',\n",
       " '__file__',\n",
       " '__getattr__',\n",
       " '__git_version__',\n",
       " '__loader__',\n",
       " '__mkl_version__',\n",
       " '__name__',\n",
       " '__package__',\n",
       " '__path__',\n",
       " '__spec__',\n",
       " '__version__',\n",
       " '_add_newdoc_ufunc',\n",
       " '_distributor_init',\n",
       " '_financial_names',\n",
       " '_globals',\n",
       " '_mat',\n",
       " '_pyinstaller_hooks_dir',\n",
       " '_pytesttester',\n",
       " '_version',\n",
       " 'abs',\n",
       " 'absolute',\n",
       " 'add',\n",
       " 'add_docstring',\n",
       " 'add_newdoc',\n",
       " 'add_newdoc_ufunc',\n",
       " 'all',\n",
       " 'allclose',\n",
       " 'alltrue',\n",
       " 'amax',\n",
       " 'amin',\n",
       " 'angle',\n",
       " 'any',\n",
       " 'append',\n",
       " 'apply_along_axis',\n",
       " 'apply_over_axes',\n",
       " 'arange',\n",
       " 'arccos',\n",
       " 'arccosh',\n",
       " 'arcsin',\n",
       " 'arcsinh',\n",
       " 'arctan',\n",
       " 'arctan2',\n",
       " 'arctanh',\n",
       " 'argmax',\n",
       " 'argmin',\n",
       " 'argpartition',\n",
       " 'argsort',\n",
       " 'argwhere',\n",
       " 'around',\n",
       " 'array',\n",
       " 'array2string',\n",
       " 'array_equal',\n",
       " 'array_equiv',\n",
       " 'array_repr',\n",
       " 'array_split',\n",
       " 'array_str',\n",
       " 'asanyarray',\n",
       " 'asarray',\n",
       " 'asarray_chkfinite',\n",
       " 'ascontiguousarray',\n",
       " 'asfarray',\n",
       " 'asfortranarray',\n",
       " 'asmatrix',\n",
       " 'atleast_1d',\n",
       " 'atleast_2d',\n",
       " 'atleast_3d',\n",
       " 'average',\n",
       " 'bartlett',\n",
       " 'base_repr',\n",
       " 'binary_repr',\n",
       " 'bincount',\n",
       " 'bitwise_and',\n",
       " 'bitwise_not',\n",
       " 'bitwise_or',\n",
       " 'bitwise_xor',\n",
       " 'blackman',\n",
       " 'block',\n",
       " 'bmat',\n",
       " 'bool8',\n",
       " 'bool_',\n",
       " 'broadcast',\n",
       " 'broadcast_arrays',\n",
       " 'broadcast_shapes',\n",
       " 'broadcast_to',\n",
       " 'busday_count',\n",
       " 'busday_offset',\n",
       " 'busdaycalendar',\n",
       " 'byte',\n",
       " 'byte_bounds',\n",
       " 'bytes0',\n",
       " 'bytes_',\n",
       " 'c_',\n",
       " 'can_cast',\n",
       " 'cast',\n",
       " 'cbrt',\n",
       " 'cdouble',\n",
       " 'ceil',\n",
       " 'cfloat',\n",
       " 'char',\n",
       " 'character',\n",
       " 'chararray',\n",
       " 'choose',\n",
       " 'clip',\n",
       " 'clongdouble',\n",
       " 'clongfloat',\n",
       " 'column_stack',\n",
       " 'common_type',\n",
       " 'compare_chararrays',\n",
       " 'compat',\n",
       " 'complex128',\n",
       " 'complex256',\n",
       " 'complex64',\n",
       " 'complex_',\n",
       " 'complexfloating',\n",
       " 'compress',\n",
       " 'concatenate',\n",
       " 'conj',\n",
       " 'conjugate',\n",
       " 'convolve',\n",
       " 'copy',\n",
       " 'copysign',\n",
       " 'copyto',\n",
       " 'core',\n",
       " 'corrcoef',\n",
       " 'correlate',\n",
       " 'cos',\n",
       " 'cosh',\n",
       " 'count_nonzero',\n",
       " 'cov',\n",
       " 'cross',\n",
       " 'csingle',\n",
       " 'ctypeslib',\n",
       " 'cumprod',\n",
       " 'cumproduct',\n",
       " 'cumsum',\n",
       " 'datetime64',\n",
       " 'datetime_as_string',\n",
       " 'datetime_data',\n",
       " 'deg2rad',\n",
       " 'degrees',\n",
       " 'delete',\n",
       " 'deprecate',\n",
       " 'deprecate_with_doc',\n",
       " 'diag',\n",
       " 'diag_indices',\n",
       " 'diag_indices_from',\n",
       " 'diagflat',\n",
       " 'diagonal',\n",
       " 'diff',\n",
       " 'digitize',\n",
       " 'disp',\n",
       " 'divide',\n",
       " 'divmod',\n",
       " 'dot',\n",
       " 'double',\n",
       " 'dsplit',\n",
       " 'dstack',\n",
       " 'dtype',\n",
       " 'e',\n",
       " 'ediff1d',\n",
       " 'einsum',\n",
       " 'einsum_path',\n",
       " 'emath',\n",
       " 'empty',\n",
       " 'empty_like',\n",
       " 'equal',\n",
       " 'error_message',\n",
       " 'errstate',\n",
       " 'euler_gamma',\n",
       " 'exp',\n",
       " 'exp2',\n",
       " 'expand_dims',\n",
       " 'expm1',\n",
       " 'extract',\n",
       " 'eye',\n",
       " 'fabs',\n",
       " 'fastCopyAndTranspose',\n",
       " 'fft',\n",
       " 'fill_diagonal',\n",
       " 'find_common_type',\n",
       " 'finfo',\n",
       " 'fix',\n",
       " 'flatiter',\n",
       " 'flatnonzero',\n",
       " 'flexible',\n",
       " 'flip',\n",
       " 'fliplr',\n",
       " 'flipud',\n",
       " 'float128',\n",
       " 'float16',\n",
       " 'float32',\n",
       " 'float64',\n",
       " 'float_',\n",
       " 'float_power',\n",
       " 'floating',\n",
       " 'floor',\n",
       " 'floor_divide',\n",
       " 'fmax',\n",
       " 'fmin',\n",
       " 'fmod',\n",
       " 'format_float_positional',\n",
       " 'format_float_scientific',\n",
       " 'format_parser',\n",
       " 'frexp',\n",
       " 'from_dlpack',\n",
       " 'frombuffer',\n",
       " 'fromfile',\n",
       " 'fromfunction',\n",
       " 'fromiter',\n",
       " 'frompyfunc',\n",
       " 'fromregex',\n",
       " 'fromstring',\n",
       " 'full',\n",
       " 'full_like',\n",
       " 'gcd',\n",
       " 'generic',\n",
       " 'genfromtxt',\n",
       " 'geomspace',\n",
       " 'get_array_wrap',\n",
       " 'get_include',\n",
       " 'get_printoptions',\n",
       " 'getbufsize',\n",
       " 'geterr',\n",
       " 'geterrcall',\n",
       " 'geterrobj',\n",
       " 'gradient',\n",
       " 'greater',\n",
       " 'greater_equal',\n",
       " 'half',\n",
       " 'hamming',\n",
       " 'hanning',\n",
       " 'heaviside',\n",
       " 'histogram',\n",
       " 'histogram2d',\n",
       " 'histogram_bin_edges',\n",
       " 'histogramdd',\n",
       " 'hsplit',\n",
       " 'hstack',\n",
       " 'hypot',\n",
       " 'i0',\n",
       " 'identity',\n",
       " 'iinfo',\n",
       " 'imag',\n",
       " 'in1d',\n",
       " 'index_exp',\n",
       " 'indices',\n",
       " 'inexact',\n",
       " 'inf',\n",
       " 'info',\n",
       " 'infty',\n",
       " 'inner',\n",
       " 'insert',\n",
       " 'int0',\n",
       " 'int16',\n",
       " 'int32',\n",
       " 'int64',\n",
       " 'int8',\n",
       " 'int_',\n",
       " 'intc',\n",
       " 'integer',\n",
       " 'interp',\n",
       " 'intersect1d',\n",
       " 'intp',\n",
       " 'invert',\n",
       " 'is_busday',\n",
       " 'isclose',\n",
       " 'iscomplex',\n",
       " 'iscomplexobj',\n",
       " 'isfinite',\n",
       " 'isfortran',\n",
       " 'isin',\n",
       " 'isinf',\n",
       " 'isnan',\n",
       " 'isnat',\n",
       " 'isneginf',\n",
       " 'isposinf',\n",
       " 'isreal',\n",
       " 'isrealobj',\n",
       " 'isscalar',\n",
       " 'issctype',\n",
       " 'issubclass_',\n",
       " 'issubdtype',\n",
       " 'issubsctype',\n",
       " 'iterable',\n",
       " 'ix_',\n",
       " 'kaiser',\n",
       " 'kron',\n",
       " 'lcm',\n",
       " 'ldexp',\n",
       " 'left_shift',\n",
       " 'less',\n",
       " 'less_equal',\n",
       " 'lexsort',\n",
       " 'lib',\n",
       " 'linalg',\n",
       " 'linspace',\n",
       " 'little_endian',\n",
       " 'load',\n",
       " 'loadtxt',\n",
       " 'log',\n",
       " 'log10',\n",
       " 'log1p',\n",
       " 'log2',\n",
       " 'logaddexp',\n",
       " 'logaddexp2',\n",
       " 'logical_and',\n",
       " 'logical_not',\n",
       " 'logical_or',\n",
       " 'logical_xor',\n",
       " 'logspace',\n",
       " 'longcomplex',\n",
       " 'longdouble',\n",
       " 'longfloat',\n",
       " 'longlong',\n",
       " 'lookfor',\n",
       " 'ma',\n",
       " 'mask_indices',\n",
       " 'mat',\n",
       " 'math',\n",
       " 'matmul',\n",
       " 'matrix',\n",
       " 'matrixlib',\n",
       " 'max',\n",
       " 'maximum',\n",
       " 'maximum_sctype',\n",
       " 'may_share_memory',\n",
       " 'mean',\n",
       " 'median',\n",
       " 'memmap',\n",
       " 'meshgrid',\n",
       " 'mgrid',\n",
       " 'min',\n",
       " 'min_scalar_type',\n",
       " 'minimum',\n",
       " 'mintypecode',\n",
       " 'mkl',\n",
       " 'mod',\n",
       " 'modf',\n",
       " 'moveaxis',\n",
       " 'msort',\n",
       " 'multiply',\n",
       " 'nan',\n",
       " 'nan_to_num',\n",
       " 'nanargmax',\n",
       " 'nanargmin',\n",
       " 'nancumprod',\n",
       " 'nancumsum',\n",
       " 'nanmax',\n",
       " 'nanmean',\n",
       " 'nanmedian',\n",
       " 'nanmin',\n",
       " 'nanpercentile',\n",
       " 'nanprod',\n",
       " 'nanquantile',\n",
       " 'nanstd',\n",
       " 'nansum',\n",
       " 'nanvar',\n",
       " 'nbytes',\n",
       " 'ndarray',\n",
       " 'ndenumerate',\n",
       " 'ndim',\n",
       " 'ndindex',\n",
       " 'nditer',\n",
       " 'negative',\n",
       " 'nested_iters',\n",
       " 'newaxis',\n",
       " 'nextafter',\n",
       " 'nonzero',\n",
       " 'not_equal',\n",
       " 'numarray',\n",
       " 'number',\n",
       " 'obj2sctype',\n",
       " 'object0',\n",
       " 'object_',\n",
       " 'ogrid',\n",
       " 'oldnumeric',\n",
       " 'ones',\n",
       " 'ones_like',\n",
       " 'os',\n",
       " 'outer',\n",
       " 'packbits',\n",
       " 'pad',\n",
       " 'partition',\n",
       " 'percentile',\n",
       " 'pi',\n",
       " 'piecewise',\n",
       " 'place',\n",
       " 'poly',\n",
       " 'poly1d',\n",
       " 'polyadd',\n",
       " 'polyder',\n",
       " 'polydiv',\n",
       " 'polyfit',\n",
       " 'polyint',\n",
       " 'polymul',\n",
       " 'polynomial',\n",
       " 'polysub',\n",
       " 'polyval',\n",
       " 'positive',\n",
       " 'power',\n",
       " 'printoptions',\n",
       " 'prod',\n",
       " 'product',\n",
       " 'promote_types',\n",
       " 'ptp',\n",
       " 'put',\n",
       " 'put_along_axis',\n",
       " 'putmask',\n",
       " 'quantile',\n",
       " 'r_',\n",
       " 'rad2deg',\n",
       " 'radians',\n",
       " 'random',\n",
       " 'ravel',\n",
       " 'ravel_multi_index',\n",
       " 'real',\n",
       " 'real_if_close',\n",
       " 'rec',\n",
       " 'recarray',\n",
       " 'recfromcsv',\n",
       " 'recfromtxt',\n",
       " 'reciprocal',\n",
       " 'record',\n",
       " 'remainder',\n",
       " 'repeat',\n",
       " 'require',\n",
       " 'reshape',\n",
       " 'resize',\n",
       " 'result_type',\n",
       " 'right_shift',\n",
       " 'rint',\n",
       " 'roll',\n",
       " 'rollaxis',\n",
       " 'roots',\n",
       " 'rot90',\n",
       " 'round',\n",
       " 'round_',\n",
       " 'row_stack',\n",
       " 's_',\n",
       " 'safe_eval',\n",
       " 'save',\n",
       " 'savetxt',\n",
       " 'savez',\n",
       " 'savez_compressed',\n",
       " 'sctype2char',\n",
       " 'sctypeDict',\n",
       " 'sctypes',\n",
       " 'searchsorted',\n",
       " 'select',\n",
       " 'set_numeric_ops',\n",
       " 'set_printoptions',\n",
       " 'set_string_function',\n",
       " 'setbufsize',\n",
       " 'setdiff1d',\n",
       " 'seterr',\n",
       " 'seterrcall',\n",
       " 'seterrobj',\n",
       " 'setxor1d',\n",
       " 'shape',\n",
       " 'shares_memory',\n",
       " 'short',\n",
       " 'show_config',\n",
       " 'sign',\n",
       " 'signbit',\n",
       " 'signedinteger',\n",
       " 'sin',\n",
       " 'sinc',\n",
       " 'single',\n",
       " 'singlecomplex',\n",
       " 'sinh',\n",
       " 'size',\n",
       " 'sometrue',\n",
       " 'sort',\n",
       " 'sort_complex',\n",
       " 'source',\n",
       " 'spacing',\n",
       " 'split',\n",
       " 'sqrt',\n",
       " 'square',\n",
       " 'squeeze',\n",
       " 'stack',\n",
       " 'std',\n",
       " 'str0',\n",
       " 'str_',\n",
       " 'string_',\n",
       " 'subtract',\n",
       " 'sum',\n",
       " 'swapaxes',\n",
       " 'sys',\n",
       " 'take',\n",
       " 'take_along_axis',\n",
       " 'tan',\n",
       " 'tanh',\n",
       " 'tensordot',\n",
       " 'test',\n",
       " 'testing',\n",
       " 'tile',\n",
       " 'timedelta64',\n",
       " 'trace',\n",
       " 'tracemalloc_domain',\n",
       " 'transpose',\n",
       " 'trapz',\n",
       " 'tri',\n",
       " 'tril',\n",
       " 'tril_indices',\n",
       " 'tril_indices_from',\n",
       " 'trim_zeros',\n",
       " 'triu',\n",
       " 'triu_indices',\n",
       " 'triu_indices_from',\n",
       " 'true_divide',\n",
       " 'trunc',\n",
       " 'typecodes',\n",
       " 'typename',\n",
       " 'ubyte',\n",
       " 'ufunc',\n",
       " 'uint',\n",
       " 'uint0',\n",
       " 'uint16',\n",
       " 'uint32',\n",
       " 'uint64',\n",
       " 'uint8',\n",
       " 'uintc',\n",
       " 'uintp',\n",
       " 'ulonglong',\n",
       " 'unicode_',\n",
       " 'union1d',\n",
       " 'unique',\n",
       " 'unpackbits',\n",
       " 'unravel_index',\n",
       " 'unsignedinteger',\n",
       " 'unwrap',\n",
       " 'use_hugepage',\n",
       " 'ushort',\n",
       " 'vander',\n",
       " 'var',\n",
       " 'vdot',\n",
       " 'vectorize',\n",
       " 'version',\n",
       " 'void',\n",
       " 'void0',\n",
       " 'vsplit',\n",
       " 'vstack',\n",
       " 'w',\n",
       " 'warnings',\n",
       " 'where',\n",
       " 'who',\n",
       " 'zeros',\n",
       " 'zeros_like']"
      ]
     },
     "execution_count": 86,
     "metadata": {},
     "output_type": "execute_result"
    }
   ],
   "source": [
    "#notice how many more options there are here!\n",
    "dir(np)"
   ]
  },
  {
   "cell_type": "code",
   "execution_count": 88,
   "id": "05bceb47",
   "metadata": {},
   "outputs": [],
   "source": [
    "letters = string.ascii_letters"
   ]
  },
  {
   "cell_type": "code",
   "execution_count": 89,
   "id": "6cec6692",
   "metadata": {},
   "outputs": [
    {
     "data": {
      "text/plain": [
       "'abcdefghijklmnopqrstuvwxyzABCDEFGHIJKLMNOPQRSTUVWXYZ'"
      ]
     },
     "execution_count": 89,
     "metadata": {},
     "output_type": "execute_result"
    }
   ],
   "source": [
    "letters"
   ]
  },
  {
   "cell_type": "markdown",
   "id": "9cccfa8f",
   "metadata": {},
   "source": [
    "I really should split these up! Notice the following error..."
   ]
  },
  {
   "cell_type": "code",
   "execution_count": 90,
   "id": "b5cde01d",
   "metadata": {},
   "outputs": [
    {
     "ename": "ValueError",
     "evalue": "a must be a sequence or an integer, not <class 'str'>",
     "output_type": "error",
     "traceback": [
      "\u001b[0;31m---------------------------------------------------------------------------\u001b[0m",
      "\u001b[0;31mTypeError\u001b[0m                                 Traceback (most recent call last)",
      "File \u001b[0;32m_generator.pyx:712\u001b[0m, in \u001b[0;36mnumpy.random._generator.Generator.choice\u001b[0;34m()\u001b[0m\n",
      "\u001b[0;31mTypeError\u001b[0m: 'str' object cannot be interpreted as an integer",
      "\nThe above exception was the direct cause of the following exception:\n",
      "\u001b[0;31mValueError\u001b[0m                                Traceback (most recent call last)",
      "Input \u001b[0;32mIn [90]\u001b[0m, in \u001b[0;36m<cell line: 1>\u001b[0;34m()\u001b[0m\n\u001b[0;32m----> 1\u001b[0m \u001b[43mrng\u001b[49m\u001b[38;5;241;43m.\u001b[39;49m\u001b[43mchoice\u001b[49m\u001b[43m(\u001b[49m\u001b[43mletters\u001b[49m\u001b[43m,\u001b[49m\u001b[43msize\u001b[49m\u001b[38;5;241;43m=\u001b[39;49m\u001b[43m(\u001b[49m\u001b[38;5;241;43m20\u001b[39;49m\u001b[43m,\u001b[49m\u001b[38;5;241;43m3\u001b[39;49m\u001b[43m)\u001b[49m\u001b[43m)\u001b[49m\n",
      "File \u001b[0;32m_generator.pyx:714\u001b[0m, in \u001b[0;36mnumpy.random._generator.Generator.choice\u001b[0;34m()\u001b[0m\n",
      "\u001b[0;31mValueError\u001b[0m: a must be a sequence or an integer, not <class 'str'>"
     ]
    }
   ],
   "source": [
    "rng.choice(letters,size=(20,3))"
   ]
  },
  {
   "cell_type": "code",
   "execution_count": 94,
   "id": "359a4aa7",
   "metadata": {},
   "outputs": [],
   "source": [
    "arr = rng.choice(list(letters),size=(20,3))"
   ]
  },
  {
   "cell_type": "code",
   "execution_count": 95,
   "id": "673962d1",
   "metadata": {},
   "outputs": [
    {
     "data": {
      "text/plain": [
       "array([['W', 'P', 'O'],\n",
       "       ['E', 'K', 'J'],\n",
       "       ['m', 'Z', 'h'],\n",
       "       ['M', 'a', 'T'],\n",
       "       ['O', 'i', 'f'],\n",
       "       ['I', 'G', 'k'],\n",
       "       ['J', 'l', 'c'],\n",
       "       ['a', 'l', 'A'],\n",
       "       ['D', 'h', 'v'],\n",
       "       ['K', 'D', 'N'],\n",
       "       ['P', 'f', 'b'],\n",
       "       ['j', 'Z', 'M'],\n",
       "       ['j', 'P', 'R'],\n",
       "       ['N', 'v', 'm'],\n",
       "       ['z', 'c', 't'],\n",
       "       ['o', 'y', 'd'],\n",
       "       ['C', 'S', 'T'],\n",
       "       ['f', 'n', 's'],\n",
       "       ['k', 'z', 'o'],\n",
       "       ['K', 'H', 'n']], dtype='<U1')"
      ]
     },
     "execution_count": 95,
     "metadata": {},
     "output_type": "execute_result"
    }
   ],
   "source": [
    "arr"
   ]
  },
  {
   "cell_type": "markdown",
   "id": "9078991d",
   "metadata": {},
   "source": [
    "This is the basic idea we'll use to format the entire array."
   ]
  },
  {
   "cell_type": "code",
   "execution_count": 97,
   "id": "d8feb832",
   "metadata": {},
   "outputs": [
    {
     "data": {
      "text/plain": [
       "'mZh'"
      ]
     },
     "execution_count": 97,
     "metadata": {},
     "output_type": "execute_result"
    }
   ],
   "source": [
    "''.join(arr[2])"
   ]
  },
  {
   "cell_type": "markdown",
   "id": "e5e85fce",
   "metadata": {},
   "source": [
    "Here's an example of passing a lambda function to a different function."
   ]
  },
  {
   "cell_type": "code",
   "execution_count": 100,
   "id": "20457916",
   "metadata": {},
   "outputs": [
    {
     "data": {
      "text/plain": [
       "array(['WPO', 'EKJ', 'mZh', 'MaT', 'Oif', 'IGk', 'Jlc', 'alA', 'Dhv',\n",
       "       'KDN', 'Pfb', 'jZM', 'jPR', 'Nvm', 'zct', 'oyd', 'CST', 'fns',\n",
       "       'kzo', 'KHn'], dtype='<U3')"
      ]
     },
     "execution_count": 100,
     "metadata": {},
     "output_type": "execute_result"
    }
   ],
   "source": [
    "np.apply_along_axis(lambda row:''.join(row),arr=arr,axis=1)"
   ]
  },
  {
   "cell_type": "markdown",
   "id": "78227285",
   "metadata": {},
   "source": [
    "* Let `tuplist` be the following list of tuples. Sort the list so that the numbers are increasing."
   ]
  },
  {
   "cell_type": "markdown",
   "id": "6bf9ed88",
   "metadata": {},
   "source": [
    "This is another example of how lambda functions are typically used!"
   ]
  },
  {
   "cell_type": "code",
   "execution_count": 103,
   "id": "57f462b9",
   "metadata": {
    "scrolled": false
   },
   "outputs": [],
   "source": [
    "tuplist = [(\"A\",50),(\"B\",70),(\"C\",100),(\"D\",45)]"
   ]
  },
  {
   "cell_type": "code",
   "execution_count": 104,
   "id": "3cb8961a",
   "metadata": {},
   "outputs": [
    {
     "name": "stdout",
     "output_type": "stream",
     "text": [
      "Help on built-in function sorted in module builtins:\n",
      "\n",
      "sorted(iterable, /, *, key=None, reverse=False)\n",
      "    Return a new list containing all items from the iterable in ascending order.\n",
      "    \n",
      "    A custom key function can be supplied to customize the sort order, and the\n",
      "    reverse flag can be set to request the result in descending order.\n",
      "\n"
     ]
    }
   ],
   "source": [
    "help(sorted)"
   ]
  },
  {
   "cell_type": "markdown",
   "id": "388c5ec2",
   "metadata": {},
   "source": [
    "These examples show how to sort by the numbers."
   ]
  },
  {
   "cell_type": "code",
   "execution_count": 107,
   "id": "ddf4416b",
   "metadata": {},
   "outputs": [
    {
     "data": {
      "text/plain": [
       "[('D', 45), ('A', 50), ('B', 70), ('C', 100)]"
      ]
     },
     "execution_count": 107,
     "metadata": {},
     "output_type": "execute_result"
    }
   ],
   "source": [
    "sorted(tuplist,key=lambda tup: tup[1])"
   ]
  },
  {
   "cell_type": "code",
   "execution_count": 108,
   "id": "5ef14611",
   "metadata": {},
   "outputs": [
    {
     "data": {
      "text/plain": [
       "[('C', 100), ('B', 70), ('A', 50), ('D', 45)]"
      ]
     },
     "execution_count": 108,
     "metadata": {},
     "output_type": "execute_result"
    }
   ],
   "source": [
    "sorted(tuplist,key=lambda tup: tup[1],reverse=True)"
   ]
  },
  {
   "cell_type": "code",
   "execution_count": 105,
   "id": "02e88d6e",
   "metadata": {},
   "outputs": [
    {
     "data": {
      "text/plain": [
       "('A', 50)"
      ]
     },
     "execution_count": 105,
     "metadata": {},
     "output_type": "execute_result"
    }
   ],
   "source": [
    "tuplist[0]"
   ]
  },
  {
   "cell_type": "code",
   "execution_count": 106,
   "id": "a8e15438",
   "metadata": {},
   "outputs": [
    {
     "data": {
      "text/plain": [
       "50"
      ]
     },
     "execution_count": 106,
     "metadata": {},
     "output_type": "execute_result"
    }
   ],
   "source": [
    "tuplist[0][1]"
   ]
  },
  {
   "cell_type": "markdown",
   "id": "fb719718",
   "metadata": {},
   "source": [
    "What if I wanted to sort by the letters instead?"
   ]
  },
  {
   "cell_type": "code",
   "execution_count": 109,
   "id": "e44e1f3d",
   "metadata": {},
   "outputs": [
    {
     "data": {
      "text/plain": [
       "[('A', 50), ('B', 70), ('C', 100), ('D', 45)]"
      ]
     },
     "execution_count": 109,
     "metadata": {},
     "output_type": "execute_result"
    }
   ],
   "source": [
    "sorted(tuplist,key=lambda tup: tup[0])"
   ]
  },
  {
   "cell_type": "code",
   "execution_count": 110,
   "id": "fee1d3f6",
   "metadata": {},
   "outputs": [
    {
     "data": {
      "text/plain": [
       "[('D', 45), ('C', 100), ('B', 70), ('A', 50)]"
      ]
     },
     "execution_count": 110,
     "metadata": {},
     "output_type": "execute_result"
    }
   ],
   "source": [
    "sorted(tuplist,key=lambda tup: tup[0],reverse=True)"
   ]
  },
  {
   "cell_type": "markdown",
   "id": "81efac9f",
   "metadata": {},
   "source": [
    "## Formatting a NumPy array"
   ]
  },
  {
   "cell_type": "markdown",
   "id": "846627c3",
   "metadata": {},
   "source": [
    "We skipped this section during live lecture, but I'll fill in the notes here. It's not an essential section, just an application of some of the topics we've been learning about."
   ]
  },
  {
   "cell_type": "code",
   "execution_count": 135,
   "id": "6507ba24",
   "metadata": {},
   "outputs": [],
   "source": [
    "import numpy as np"
   ]
  },
  {
   "cell_type": "markdown",
   "id": "05c8d0d3",
   "metadata": {},
   "source": [
    "The following array is kind of hard to read. The goal is for us to format it in a way that is more readable."
   ]
  },
  {
   "cell_type": "code",
   "execution_count": null,
   "id": "539dcd62",
   "metadata": {
    "scrolled": false
   },
   "outputs": [],
   "source": [
    "rng = np.random.default_rng(seed=1)\n",
    "arr = rng.normal(size=100)\n",
    "arr"
   ]
  },
  {
   "cell_type": "markdown",
   "id": "142f0b4b",
   "metadata": {},
   "source": [
    "Take a look at the function signature below. We'll be focusing on the `formatter` argument."
   ]
  },
  {
   "cell_type": "code",
   "execution_count": 136,
   "id": "4768a561",
   "metadata": {},
   "outputs": [
    {
     "name": "stdout",
     "output_type": "stream",
     "text": [
      "Help on function set_printoptions in module numpy:\n",
      "\n",
      "set_printoptions(precision=None, threshold=None, edgeitems=None, linewidth=None, suppress=None, nanstr=None, infstr=None, formatter=None, sign=None, floatmode=None, *, legacy=None)\n",
      "    Set printing options.\n",
      "    \n",
      "    These options determine the way floating point numbers, arrays and\n",
      "    other NumPy objects are displayed.\n",
      "    \n",
      "    Parameters\n",
      "    ----------\n",
      "    precision : int or None, optional\n",
      "        Number of digits of precision for floating point output (default 8).\n",
      "        May be None if `floatmode` is not `fixed`, to print as many digits as\n",
      "        necessary to uniquely specify the value.\n",
      "    threshold : int, optional\n",
      "        Total number of array elements which trigger summarization\n",
      "        rather than full repr (default 1000).\n",
      "        To always use the full repr without summarization, pass `sys.maxsize`.\n",
      "    edgeitems : int, optional\n",
      "        Number of array items in summary at beginning and end of\n",
      "        each dimension (default 3).\n",
      "    linewidth : int, optional\n",
      "        The number of characters per line for the purpose of inserting\n",
      "        line breaks (default 75).\n",
      "    suppress : bool, optional\n",
      "        If True, always print floating point numbers using fixed point\n",
      "        notation, in which case numbers equal to zero in the current precision\n",
      "        will print as zero.  If False, then scientific notation is used when\n",
      "        absolute value of the smallest number is < 1e-4 or the ratio of the\n",
      "        maximum absolute value to the minimum is > 1e3. The default is False.\n",
      "    nanstr : str, optional\n",
      "        String representation of floating point not-a-number (default nan).\n",
      "    infstr : str, optional\n",
      "        String representation of floating point infinity (default inf).\n",
      "    sign : string, either '-', '+', or ' ', optional\n",
      "        Controls printing of the sign of floating-point types. If '+', always\n",
      "        print the sign of positive values. If ' ', always prints a space\n",
      "        (whitespace character) in the sign position of positive values.  If\n",
      "        '-', omit the sign character of positive values. (default '-')\n",
      "    formatter : dict of callables, optional\n",
      "        If not None, the keys should indicate the type(s) that the respective\n",
      "        formatting function applies to.  Callables should return a string.\n",
      "        Types that are not specified (by their corresponding keys) are handled\n",
      "        by the default formatters.  Individual types for which a formatter\n",
      "        can be set are:\n",
      "    \n",
      "        - 'bool'\n",
      "        - 'int'\n",
      "        - 'timedelta' : a `numpy.timedelta64`\n",
      "        - 'datetime' : a `numpy.datetime64`\n",
      "        - 'float'\n",
      "        - 'longfloat' : 128-bit floats\n",
      "        - 'complexfloat'\n",
      "        - 'longcomplexfloat' : composed of two 128-bit floats\n",
      "        - 'numpystr' : types `numpy.string_` and `numpy.unicode_`\n",
      "        - 'object' : `np.object_` arrays\n",
      "    \n",
      "        Other keys that can be used to set a group of types at once are:\n",
      "    \n",
      "        - 'all' : sets all types\n",
      "        - 'int_kind' : sets 'int'\n",
      "        - 'float_kind' : sets 'float' and 'longfloat'\n",
      "        - 'complex_kind' : sets 'complexfloat' and 'longcomplexfloat'\n",
      "        - 'str_kind' : sets 'numpystr'\n",
      "    floatmode : str, optional\n",
      "        Controls the interpretation of the `precision` option for\n",
      "        floating-point types. Can take the following values\n",
      "        (default maxprec_equal):\n",
      "    \n",
      "        * 'fixed': Always print exactly `precision` fractional digits,\n",
      "                even if this would print more or fewer digits than\n",
      "                necessary to specify the value uniquely.\n",
      "        * 'unique': Print the minimum number of fractional digits necessary\n",
      "                to represent each value uniquely. Different elements may\n",
      "                have a different number of digits. The value of the\n",
      "                `precision` option is ignored.\n",
      "        * 'maxprec': Print at most `precision` fractional digits, but if\n",
      "                an element can be uniquely represented with fewer digits\n",
      "                only print it with that many.\n",
      "        * 'maxprec_equal': Print at most `precision` fractional digits,\n",
      "                but if every element in the array can be uniquely\n",
      "                represented with an equal number of fewer digits, use that\n",
      "                many digits for all elements.\n",
      "    legacy : string or `False`, optional\n",
      "        If set to the string `'1.13'` enables 1.13 legacy printing mode. This\n",
      "        approximates numpy 1.13 print output by including a space in the sign\n",
      "        position of floats and different behavior for 0d arrays. This also\n",
      "        enables 1.21 legacy printing mode (described below).\n",
      "    \n",
      "        If set to the string `'1.21'` enables 1.21 legacy printing mode. This\n",
      "        approximates numpy 1.21 print output of complex structured dtypes\n",
      "        by not inserting spaces after commas that separate fields and after\n",
      "        colons.\n",
      "    \n",
      "        If set to `False`, disables legacy mode.\n",
      "    \n",
      "        Unrecognized strings will be ignored with a warning for forward\n",
      "        compatibility.\n",
      "    \n",
      "        .. versionadded:: 1.14.0\n",
      "        .. versionchanged:: 1.22.0\n",
      "    \n",
      "    See Also\n",
      "    --------\n",
      "    get_printoptions, printoptions, set_string_function, array2string\n",
      "    \n",
      "    Notes\n",
      "    -----\n",
      "    `formatter` is always reset with a call to `set_printoptions`.\n",
      "    \n",
      "    Use `printoptions` as a context manager to set the values temporarily.\n",
      "    \n",
      "    Examples\n",
      "    --------\n",
      "    Floating point precision can be set:\n",
      "    \n",
      "    >>> np.set_printoptions(precision=4)\n",
      "    >>> np.array([1.123456789])\n",
      "    [1.1235]\n",
      "    \n",
      "    Long arrays can be summarised:\n",
      "    \n",
      "    >>> np.set_printoptions(threshold=5)\n",
      "    >>> np.arange(10)\n",
      "    array([0, 1, 2, ..., 7, 8, 9])\n",
      "    \n",
      "    Small results can be suppressed:\n",
      "    \n",
      "    >>> eps = np.finfo(float).eps\n",
      "    >>> x = np.arange(4.)\n",
      "    >>> x**2 - (x + eps)**2\n",
      "    array([-4.9304e-32, -4.4409e-16,  0.0000e+00,  0.0000e+00])\n",
      "    >>> np.set_printoptions(suppress=True)\n",
      "    >>> x**2 - (x + eps)**2\n",
      "    array([-0., -0.,  0.,  0.])\n",
      "    \n",
      "    A custom formatter can be used to display array elements as desired:\n",
      "    \n",
      "    >>> np.set_printoptions(formatter={'all':lambda x: 'int: '+str(-x)})\n",
      "    >>> x = np.arange(3)\n",
      "    >>> x\n",
      "    array([int: 0, int: -1, int: -2])\n",
      "    >>> np.set_printoptions()  # formatter gets reset\n",
      "    >>> x\n",
      "    array([0, 1, 2])\n",
      "    \n",
      "    To put back the default options, you can use:\n",
      "    \n",
      "    >>> np.set_printoptions(edgeitems=3, infstr='inf',\n",
      "    ... linewidth=75, nanstr='nan', precision=8,\n",
      "    ... suppress=False, threshold=1000, formatter=None)\n",
      "    \n",
      "    Also to temporarily override options, use `printoptions` as a context manager:\n",
      "    \n",
      "    >>> with np.printoptions(precision=2, suppress=True, threshold=5):\n",
      "    ...     np.linspace(0, 10, 10)\n",
      "    array([ 0.  ,  1.11,  2.22, ...,  7.78,  8.89, 10.  ])\n",
      "\n"
     ]
    }
   ],
   "source": [
    "help(np.set_printoptions)"
   ]
  },
  {
   "cell_type": "code",
   "execution_count": 156,
   "id": "b1ca3e33",
   "metadata": {},
   "outputs": [],
   "source": [
    "np.set_printoptions(formatter={'float': lambda x: f\"{x:.4f}\" })"
   ]
  },
  {
   "cell_type": "markdown",
   "id": "82eac623",
   "metadata": {},
   "source": [
    "Now run the code that generates `arr` above again and notice the differences. We told NumPy to only print the first 4 decimals of each number."
   ]
  },
  {
   "cell_type": "markdown",
   "id": "495aa66d",
   "metadata": {},
   "source": [
    "Somehow the spacing still looks a little off. We could try adding a plus to the positive numbers to get the alignment to look a little better."
   ]
  },
  {
   "cell_type": "code",
   "execution_count": 159,
   "id": "aa365e89",
   "metadata": {},
   "outputs": [],
   "source": [
    "np.set_printoptions(formatter={'float': lambda x: f\"{x:+.4f}\" })"
   ]
  },
  {
   "cell_type": "markdown",
   "id": "b6fc3825",
   "metadata": {},
   "source": [
    "Run `arr` again and observe the difference. This is already looking a lot better, but maybe the `+` signs are distracting. Instead of putting a plus, we could put a space."
   ]
  },
  {
   "cell_type": "code",
   "execution_count": 161,
   "id": "27ec3446",
   "metadata": {},
   "outputs": [],
   "source": [
    "np.set_printoptions(formatter={'float': lambda x: f\"{x: .4f}\" })"
   ]
  },
  {
   "cell_type": "markdown",
   "id": "3aa6b744",
   "metadata": {},
   "source": [
    "Run `arr` one last time and see the difference. Not too bad :)"
   ]
  },
  {
   "cell_type": "markdown",
   "id": "069a1613",
   "metadata": {},
   "source": [
    "## Matplotlib"
   ]
  },
  {
   "cell_type": "markdown",
   "id": "9d2d9940",
   "metadata": {},
   "source": [
    "We didn't have time to go over this content in lecture, but here are the videos that you can review on your own. It is not material that is crucial to outcome quizzes or homework, so I don't feel too bad about skipping it in lecture :)"
   ]
  },
  {
   "cell_type": "code",
   "execution_count": 23,
   "id": "4c42ea26",
   "metadata": {
    "tags": [
     "hide-input"
    ]
   },
   "outputs": [
    {
     "data": {
      "text/html": [
       "<iframe width=\"560\" height=\"315\" src=\"https://www.youtube.com/embed/iV9BA42rA-w\" title=\"YouTube video player\" frameborder=\"0\" allow=\"accelerometer; autoplay; clipboard-write; encrypted-media; gyroscope; picture-in-picture; web-share\" allowfullscreen></iframe>\n"
      ],
      "text/plain": [
       "<IPython.core.display.HTML object>"
      ]
     },
     "metadata": {},
     "output_type": "display_data"
    }
   ],
   "source": [
    "%%HTML\n",
    "<iframe width=\"560\" height=\"315\" src=\"https://www.youtube.com/embed/iV9BA42rA-w\" title=\"YouTube video player\" frameborder=\"0\" allow=\"accelerometer; autoplay; clipboard-write; encrypted-media; gyroscope; picture-in-picture; web-share\" allowfullscreen></iframe>"
   ]
  },
  {
   "cell_type": "code",
   "execution_count": 18,
   "id": "bfcea763",
   "metadata": {
    "tags": [
     "hide-input"
    ]
   },
   "outputs": [
    {
     "data": {
      "text/html": [
       "<iframe width=\"560\" height=\"315\" src=\"https://www.youtube.com/embed/Dwg9RcC55xc\" title=\"YouTube video player\" frameborder=\"0\" allow=\"accelerometer; autoplay; clipboard-write; encrypted-media; gyroscope; picture-in-picture; web-share\" allowfullscreen></iframe>\n"
      ],
      "text/plain": [
       "<IPython.core.display.HTML object>"
      ]
     },
     "metadata": {},
     "output_type": "display_data"
    }
   ],
   "source": [
    "%%HTML\n",
    "<iframe width=\"560\" height=\"315\" src=\"https://www.youtube.com/embed/Dwg9RcC55xc\" title=\"YouTube video player\" frameborder=\"0\" allow=\"accelerometer; autoplay; clipboard-write; encrypted-media; gyroscope; picture-in-picture; web-share\" allowfullscreen></iframe>"
   ]
  },
  {
   "cell_type": "code",
   "execution_count": 1,
   "id": "706f3908",
   "metadata": {
    "tags": [
     "hide-input"
    ]
   },
   "outputs": [
    {
     "data": {
      "text/html": [
       "<iframe width=\"560\" height=\"315\" src=\"https://www.youtube.com/embed/nw2jwKVpMy8\" title=\"YouTube video player\" frameborder=\"0\" allow=\"accelerometer; autoplay; clipboard-write; encrypted-media; gyroscope; picture-in-picture; web-share\" allowfullscreen></iframe>\n"
      ],
      "text/plain": [
       "<IPython.core.display.HTML object>"
      ]
     },
     "metadata": {},
     "output_type": "display_data"
    }
   ],
   "source": [
    "%%HTML\n",
    "<iframe width=\"560\" height=\"315\" src=\"https://www.youtube.com/embed/nw2jwKVpMy8\" title=\"YouTube video player\" frameborder=\"0\" allow=\"accelerometer; autoplay; clipboard-write; encrypted-media; gyroscope; picture-in-picture; web-share\" allowfullscreen></iframe>"
   ]
  },
  {
   "cell_type": "code",
   "execution_count": 19,
   "id": "7b13f977",
   "metadata": {
    "tags": [
     "hide-input"
    ]
   },
   "outputs": [
    {
     "data": {
      "text/html": [
       "<iframe width=\"560\" height=\"315\" src=\"https://www.youtube.com/embed/jGnNg21OW5k\" title=\"YouTube video player\" frameborder=\"0\" allow=\"accelerometer; autoplay; clipboard-write; encrypted-media; gyroscope; picture-in-picture; web-share\" allowfullscreen></iframe>\n"
      ],
      "text/plain": [
       "<IPython.core.display.HTML object>"
      ]
     },
     "metadata": {},
     "output_type": "display_data"
    }
   ],
   "source": [
    "%%HTML\n",
    "<iframe width=\"560\" height=\"315\" src=\"https://www.youtube.com/embed/jGnNg21OW5k\" title=\"YouTube video player\" frameborder=\"0\" allow=\"accelerometer; autoplay; clipboard-write; encrypted-media; gyroscope; picture-in-picture; web-share\" allowfullscreen></iframe>"
   ]
  },
  {
   "cell_type": "code",
   "execution_count": 20,
   "id": "4a93a591",
   "metadata": {
    "tags": [
     "hide-input"
    ]
   },
   "outputs": [
    {
     "data": {
      "text/html": [
       "<iframe width=\"560\" height=\"315\" src=\"https://www.youtube.com/embed/3d8ahlcQhRY\" title=\"YouTube video player\" frameborder=\"0\" allow=\"accelerometer; autoplay; clipboard-write; encrypted-media; gyroscope; picture-in-picture; web-share\" allowfullscreen></iframe>\n"
      ],
      "text/plain": [
       "<IPython.core.display.HTML object>"
      ]
     },
     "metadata": {},
     "output_type": "display_data"
    }
   ],
   "source": [
    "%%HTML\n",
    "<iframe width=\"560\" height=\"315\" src=\"https://www.youtube.com/embed/3d8ahlcQhRY\" title=\"YouTube video player\" frameborder=\"0\" allow=\"accelerometer; autoplay; clipboard-write; encrypted-media; gyroscope; picture-in-picture; web-share\" allowfullscreen></iframe>"
   ]
  },
  {
   "cell_type": "markdown",
   "id": "7afb2adc",
   "metadata": {},
   "source": [
    "## Mathematical introduction to Newton's method"
   ]
  },
  {
   "cell_type": "markdown",
   "id": "c91a1452",
   "metadata": {},
   "source": [
    "In this portion of the lecture, we went through a derivation of the formula for Newton's method, and saw a few examples on Desmos. [Here is the link to the Desmos example](https://www.desmos.com/calculator/dqzmictzsv). Toggle the functions/points on and off to recreate how we traced through the problem in lecture."
   ]
  },
  {
   "cell_type": "markdown",
   "id": "44f61644",
   "metadata": {},
   "source": [
    "![Teaching-31.jpg](Teaching-31.jpg)"
   ]
  },
  {
   "cell_type": "markdown",
   "id": "d2a9ea6a",
   "metadata": {},
   "source": [
    "![Teaching-32.jpg](Teaching-32.jpg)"
   ]
  },
  {
   "cell_type": "markdown",
   "id": "483563ba",
   "metadata": {},
   "source": [
    "## Appyling at a good point"
   ]
  },
  {
   "cell_type": "markdown",
   "id": "7b55b8ab",
   "metadata": {},
   "source": [
    "Let $f(x) = x^3 - 2x + 2$. Starting at $x_0 = -1.5$, apply Newton's method three times to estimate a root of $f$."
   ]
  },
  {
   "cell_type": "code",
   "execution_count": 111,
   "id": "8d80835a",
   "metadata": {
    "scrolled": false
   },
   "outputs": [],
   "source": [
    "import matplotlib.pyplot as plt\n",
    "import numpy as np"
   ]
  },
  {
   "cell_type": "code",
   "execution_count": 112,
   "id": "e3e68a98",
   "metadata": {},
   "outputs": [],
   "source": [
    "f = lambda x: x**3-2*x+2"
   ]
  },
  {
   "cell_type": "code",
   "execution_count": 113,
   "id": "41468481",
   "metadata": {},
   "outputs": [],
   "source": [
    "df = lambda x: 3*x**2 - 2"
   ]
  },
  {
   "cell_type": "code",
   "execution_count": 114,
   "id": "99dba1e5",
   "metadata": {},
   "outputs": [],
   "source": [
    "newt = lambda z: z - f(z)/df(z)"
   ]
  },
  {
   "cell_type": "markdown",
   "id": "3fed7c20",
   "metadata": {},
   "source": [
    "The idea next is that we'll create an array that holds our starting value, `z`, and the results from all our iterations of Newton's method."
   ]
  },
  {
   "cell_type": "code",
   "execution_count": 116,
   "id": "249fb176",
   "metadata": {},
   "outputs": [],
   "source": [
    "z = -1.5\n",
    "reps = 3\n",
    "arr = np.zeros(reps+1)\n",
    "arr[0] = z #set the starting value to z"
   ]
  },
  {
   "cell_type": "code",
   "execution_count": 117,
   "id": "f024cc9e",
   "metadata": {},
   "outputs": [
    {
     "data": {
      "text/plain": [
       "array([-1.5,  0. ,  0. ,  0. ])"
      ]
     },
     "execution_count": 117,
     "metadata": {},
     "output_type": "execute_result"
    }
   ],
   "source": [
    "arr"
   ]
  },
  {
   "cell_type": "code",
   "execution_count": 118,
   "id": "720a1ba0",
   "metadata": {},
   "outputs": [],
   "source": [
    "for i in range(reps):\n",
    "    arr[i+1] = newt(arr[i])"
   ]
  },
  {
   "cell_type": "code",
   "execution_count": 119,
   "id": "59e5478e",
   "metadata": {},
   "outputs": [
    {
     "data": {
      "text/plain": [
       "array([-1.5       , -1.84210526, -1.77282692, -1.76930129])"
      ]
     },
     "execution_count": 119,
     "metadata": {},
     "output_type": "execute_result"
    }
   ],
   "source": [
    "arr"
   ]
  },
  {
   "cell_type": "code",
   "execution_count": 120,
   "id": "b442d00d",
   "metadata": {},
   "outputs": [
    {
     "data": {
      "text/plain": [
       "array([ 1.62500000e+00, -5.66700685e-01, -2.61909903e-02, -6.60651520e-05])"
      ]
     },
     "execution_count": 120,
     "metadata": {},
     "output_type": "execute_result"
    }
   ],
   "source": [
    "f(arr)"
   ]
  },
  {
   "cell_type": "code",
   "execution_count": 124,
   "id": "05a2a405",
   "metadata": {},
   "outputs": [],
   "source": [
    "plt.style.use('seaborn-darkgrid')"
   ]
  },
  {
   "cell_type": "code",
   "execution_count": 125,
   "id": "630d1939",
   "metadata": {},
   "outputs": [
    {
     "data": {
      "image/png": "[encoded data removed]",
      "text/plain": [
       "<Figure size 640x480 with 1 Axes>"
      ]
     },
     "metadata": {},
     "output_type": "display_data"
    }
   ],
   "source": [
    "fig, ax = plt.subplots()\n",
    "x = np.linspace(-2,2,1000)\n",
    "ax.plot(x,f(x));"
   ]
  }
 ],
 "metadata": {
  "celltoolbar": "Tags",
  "kernelspec": {
   "display_name": "Python 3 (ipykernel)",
   "language": "python",
   "name": "python3"
  },
  "language_info": {
   "codemirror_mode": {
    "name": "ipython",
    "version": 3
   },
   "file_extension": ".py",
   "mimetype": "text/x-python",
   "name": "python",
   "nbconvert_exporter": "python",
   "pygments_lexer": "ipython3",
   "version": "3.9.13"
  }
 },
 "nbformat": 4,
 "nbformat_minor": 5
}
