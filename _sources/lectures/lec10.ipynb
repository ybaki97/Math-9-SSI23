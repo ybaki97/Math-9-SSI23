{
 "cells": [
  {
   "cell_type": "markdown",
   "id": "c0060220",
   "metadata": {},
   "source": [
    "# Lecture 10: July 17th, 2023"
   ]
  },
  {
   "cell_type": "markdown",
   "id": "27a24452",
   "metadata": {},
   "source": [
    "__Upcoming:__\n",
    "* New GOs released this week, as well as opportunities for EOs.\n",
    "* Two new python homeworks released this week. They will be due Wednesday of Week 5.\n",
    "    * Get started on these as soon as you can.\n",
    "* The image processing lectures will be released soon, as well as the instructions for the final \"creative homework\". Get started on this as soon as you can. We'll go over more details together soon.\n",
    "* New token-earning opportunity coming this week."
   ]
  },
  {
   "cell_type": "markdown",
   "id": "863e44d1",
   "metadata": {},
   "source": [
    "## Crash Course in Binary"
   ]
  },
  {
   "cell_type": "markdown",
   "id": "db0c1214",
   "metadata": {},
   "source": [
    "Someone give me a number between 100 and 1000 :) We are given the number 559! Notice, we are already comfortable with this idea:"
   ]
  },
  {
   "cell_type": "markdown",
   "id": "7bf23f16",
   "metadata": {},
   "source": [
    "$\n",
    "\\begin{align}\n",
    "559 &= 500 + 50 + 9 \\\\\n",
    "&= 5\\cdot100 + 5\\cdot10 + 9\\cdot 1 \\\\\n",
    "&= 5 \\cdot 10^2 + 5 \\cdot 10^1 + 9 \\cdot 10^0\n",
    "\\end{align}\n",
    "$"
   ]
  },
  {
   "cell_type": "markdown",
   "id": "72cecd40",
   "metadata": {},
   "source": [
    "Notice, our normal counting system is base 10 (also called decimal). In base 10, we use powers of 10, and multiply them by digits $0, \\dots, 9$."
   ]
  },
  {
   "cell_type": "markdown",
   "id": "5b84f37f",
   "metadata": {},
   "source": [
    "The same concept holds for binary, and really for any base. Let's focus on binary. In binary, we have powers 2, and multiply them by digits 0 and 1."
   ]
  },
  {
   "cell_type": "markdown",
   "id": "901b2fac",
   "metadata": {},
   "source": [
    "Using this idea, let's try to convert 559 to binary. The process is we want to write 559 as a sum of powers of 2.\n",
    "\n",
    "* What's the largest power of 2 that fits into 559?"
   ]
  },
  {
   "cell_type": "code",
   "execution_count": 1,
   "id": "89f1a968",
   "metadata": {
    "scrolled": true
   },
   "outputs": [
    {
     "data": {
      "text/plain": [
       "512"
      ]
     },
     "execution_count": 1,
     "metadata": {},
     "output_type": "execute_result"
    }
   ],
   "source": [
    "2**9"
   ]
  },
  {
   "cell_type": "code",
   "execution_count": 2,
   "id": "69c65dba",
   "metadata": {
    "scrolled": true
   },
   "outputs": [
    {
     "data": {
      "text/plain": [
       "47"
      ]
     },
     "execution_count": 2,
     "metadata": {},
     "output_type": "execute_result"
    }
   ],
   "source": [
    "559 - 512"
   ]
  },
  {
   "cell_type": "markdown",
   "id": "e7c18f8d",
   "metadata": {},
   "source": [
    " * What's the largest power of 2 that fits into 47?"
   ]
  },
  {
   "cell_type": "code",
   "execution_count": 3,
   "id": "b094d670",
   "metadata": {
    "scrolled": true
   },
   "outputs": [
    {
     "data": {
      "text/plain": [
       "32"
      ]
     },
     "execution_count": 3,
     "metadata": {},
     "output_type": "execute_result"
    }
   ],
   "source": [
    "2**5"
   ]
  },
  {
   "cell_type": "code",
   "execution_count": 4,
   "id": "6f800df8",
   "metadata": {
    "scrolled": true
   },
   "outputs": [
    {
     "data": {
      "text/plain": [
       "15"
      ]
     },
     "execution_count": 4,
     "metadata": {},
     "output_type": "execute_result"
    }
   ],
   "source": [
    "47 - 32"
   ]
  },
  {
   "cell_type": "markdown",
   "id": "903d515e",
   "metadata": {},
   "source": [
    "* What's the largest power of 2 that fits into 15?"
   ]
  },
  {
   "cell_type": "code",
   "execution_count": 5,
   "id": "42ab7370",
   "metadata": {
    "scrolled": true
   },
   "outputs": [
    {
     "data": {
      "text/plain": [
       "8"
      ]
     },
     "execution_count": 5,
     "metadata": {},
     "output_type": "execute_result"
    }
   ],
   "source": [
    "2**3"
   ]
  },
  {
   "cell_type": "code",
   "execution_count": 6,
   "id": "e817263e",
   "metadata": {
    "scrolled": true
   },
   "outputs": [
    {
     "data": {
      "text/plain": [
       "7"
      ]
     },
     "execution_count": 6,
     "metadata": {},
     "output_type": "execute_result"
    }
   ],
   "source": [
    "15-8"
   ]
  },
  {
   "cell_type": "markdown",
   "id": "da7cf28b",
   "metadata": {},
   "source": [
    "* What's the largest power of 2 that fits into 7?"
   ]
  },
  {
   "cell_type": "code",
   "execution_count": 7,
   "id": "becbacbd",
   "metadata": {
    "scrolled": true
   },
   "outputs": [
    {
     "data": {
      "text/plain": [
       "4"
      ]
     },
     "execution_count": 7,
     "metadata": {},
     "output_type": "execute_result"
    }
   ],
   "source": [
    "2**2"
   ]
  },
  {
   "cell_type": "code",
   "execution_count": 8,
   "id": "1b326994",
   "metadata": {
    "scrolled": true
   },
   "outputs": [
    {
     "data": {
      "text/plain": [
       "3"
      ]
     },
     "execution_count": 8,
     "metadata": {},
     "output_type": "execute_result"
    }
   ],
   "source": [
    "7-4"
   ]
  },
  {
   "cell_type": "markdown",
   "id": "6473993d",
   "metadata": {},
   "source": [
    "* What's the largest power of 2 that fits into 3?"
   ]
  },
  {
   "cell_type": "code",
   "execution_count": 9,
   "id": "25e15a0d",
   "metadata": {
    "scrolled": true
   },
   "outputs": [
    {
     "data": {
      "text/plain": [
       "2"
      ]
     },
     "execution_count": 9,
     "metadata": {},
     "output_type": "execute_result"
    }
   ],
   "source": [
    "2**1"
   ]
  },
  {
   "cell_type": "markdown",
   "id": "2d910e92",
   "metadata": {},
   "source": [
    "Then we're left with 1, which is $2^0$."
   ]
  },
  {
   "cell_type": "markdown",
   "id": "54b2e8de",
   "metadata": {},
   "source": [
    "We've shown the the following:\n",
    "\n",
    "$\n",
    "\\begin{align}\n",
    "559 &= 2^9 + 2^5 + 2^3 + 2^2 + 2^1 + 2^0 \\\\\n",
    "&= 1 \\cdot 2^9 + 1 \\cdot 2^5 + 1 \\cdot 2^3 + 1 \\cdot 2^2 + 1 \\cdot 2^1 + 1 \\cdot 2^0\n",
    "\\end{align}\n",
    "$"
   ]
  },
  {
   "cell_type": "code",
   "execution_count": 10,
   "id": "9ea2a8d1",
   "metadata": {
    "scrolled": true
   },
   "outputs": [
    {
     "data": {
      "text/plain": [
       "559"
      ]
     },
     "execution_count": 10,
     "metadata": {},
     "output_type": "execute_result"
    }
   ],
   "source": [
    "2**9 + 2**5 + 2**3 + 2**2 + 2 + 1"
   ]
  },
  {
   "cell_type": "markdown",
   "id": "de0b1490",
   "metadata": {},
   "source": [
    "Now, for each power of 2 that doesn't appear in our expansion above, we fill the corresponding space with a 0."
   ]
  },
  {
   "cell_type": "markdown",
   "id": "7088ddac",
   "metadata": {},
   "source": [
    "$\n",
    "\\begin{pmatrix}\n",
    "2^9 & 2^8 & 2^7 & 2^6 & 2^5 & 2^4 & 2^3 & 2^2 & 2^1 & 2^0 \\\\\n",
    "1 & 0 & 0 & 0 & 1 & 0 & 1 & 1 & 1 & 1\n",
    "\\end{pmatrix}\n",
    "$"
   ]
  },
  {
   "cell_type": "markdown",
   "id": "d08f7e40",
   "metadata": {},
   "source": [
    "Let's check that we converted correctly :)"
   ]
  },
  {
   "cell_type": "code",
   "execution_count": 11,
   "id": "1c1d4394",
   "metadata": {
    "scrolled": true
   },
   "outputs": [
    {
     "data": {
      "text/plain": [
       "559"
      ]
     },
     "execution_count": 11,
     "metadata": {},
     "output_type": "execute_result"
    }
   ],
   "source": [
    "int(\"1000101111\",2)"
   ]
  },
  {
   "cell_type": "markdown",
   "id": "a769f2ce",
   "metadata": {},
   "source": [
    "What about converting from binary to decimal? Luckily for us, this is a lot easier :) Consider the number 100011. The easiest way to do this is to start from right to left."
   ]
  },
  {
   "cell_type": "markdown",
   "id": "43c65e87",
   "metadata": {},
   "source": [
    "$\n",
    "\\begin{align}\n",
    "100011 &= 1 \\cdot 2^0 + 1 \\cdot 2^1 + 0 \\cdot 2^2 + 0 \\cdot 2^3 + 0 \\cdot 2^4 + 1 \\cdot 2^5. \\\\\n",
    "&= 1 + 2 + 32 \\\\\n",
    "&= 35.\n",
    "\\end{align}\n",
    "$"
   ]
  },
  {
   "cell_type": "markdown",
   "id": "cb468e34",
   "metadata": {},
   "source": [
    "Let's check our work!"
   ]
  },
  {
   "cell_type": "code",
   "execution_count": 12,
   "id": "822ec3fe",
   "metadata": {
    "scrolled": true
   },
   "outputs": [
    {
     "data": {
      "text/plain": [
       "35"
      ]
     },
     "execution_count": 12,
     "metadata": {},
     "output_type": "execute_result"
    }
   ],
   "source": [
    "int(\"100011\",2)"
   ]
  },
  {
   "cell_type": "markdown",
   "id": "a73ffb71",
   "metadata": {},
   "source": [
    "### Time for a joke"
   ]
  },
  {
   "cell_type": "markdown",
   "id": "10360dd8",
   "metadata": {},
   "source": [
    "Windows 8 came right before Windows 10. Everyone was wondering why they skipped Windows 9. They didn't skip Windows 9, they just changed to base 9."
   ]
  },
  {
   "cell_type": "markdown",
   "id": "1c8cb2c2",
   "metadata": {},
   "source": [
    "In base 9, $10 = 9^1 + 0 = 9$."
   ]
  },
  {
   "cell_type": "markdown",
   "id": "ce9efc83",
   "metadata": {},
   "source": [
    "I like Jaqueline's comment more: it's because 789."
   ]
  },
  {
   "cell_type": "markdown",
   "id": "bd0d63d6",
   "metadata": {},
   "source": [
    "## NumPy "
   ]
  },
  {
   "cell_type": "code",
   "execution_count": null,
   "id": "6de1ab46",
   "metadata": {
    "scrolled": false
   },
   "outputs": [],
   "source": [
    "import numpy as np"
   ]
  },
  {
   "cell_type": "markdown",
   "id": "24b580ed",
   "metadata": {},
   "source": [
    "### Regular Arrays"
   ]
  },
  {
   "cell_type": "markdown",
   "id": "cd3bac3e",
   "metadata": {},
   "source": [
    "__Goal:__ Make NumPy arrays that follow certain patterns."
   ]
  },
  {
   "cell_type": "markdown",
   "id": "8d8bf1da",
   "metadata": {},
   "source": [
    "* [0,...,0] (length 13) "
   ]
  },
  {
   "cell_type": "code",
   "execution_count": 14,
   "id": "735864ae",
   "metadata": {
    "scrolled": true
   },
   "outputs": [
    {
     "data": {
      "text/plain": [
       "array([0., 0., 0., 0., 0., 0., 0., 0., 0., 0., 0., 0., 0.])"
      ]
     },
     "execution_count": 14,
     "metadata": {},
     "output_type": "execute_result"
    }
   ],
   "source": [
    "np.zeros(13)"
   ]
  },
  {
   "cell_type": "code",
   "execution_count": 15,
   "id": "a56547ff",
   "metadata": {
    "scrolled": true
   },
   "outputs": [
    {
     "data": {
      "text/plain": [
       "(13,)"
      ]
     },
     "execution_count": 15,
     "metadata": {},
     "output_type": "execute_result"
    }
   ],
   "source": [
    "np.zeros(13).shape"
   ]
  },
  {
   "cell_type": "code",
   "execution_count": 16,
   "id": "43dc9919",
   "metadata": {
    "scrolled": true
   },
   "outputs": [
    {
     "data": {
      "text/plain": [
       "array([0, 0, 0, 0, 0, 0, 0, 0, 0, 0, 0, 0, 0])"
      ]
     },
     "execution_count": 16,
     "metadata": {},
     "output_type": "execute_result"
    }
   ],
   "source": [
    "np.zeros(13,dtype=int)"
   ]
  },
  {
   "cell_type": "markdown",
   "id": "f5737705",
   "metadata": {},
   "source": [
    "I know it says to make NumPy arrays, but I want to show you a few ways using lists as well. This next method uses something called _list comprehension_, which we will see a lot more of later this week."
   ]
  },
  {
   "cell_type": "code",
   "execution_count": 17,
   "id": "07606958",
   "metadata": {
    "scrolled": true
   },
   "outputs": [
    {
     "data": {
      "text/plain": [
       "[0, 0, 0, 0, 0, 0, 0, 0, 0, 0, 0, 0, 0]"
      ]
     },
     "execution_count": 17,
     "metadata": {},
     "output_type": "execute_result"
    }
   ],
   "source": [
    "[0 for _ in range(13)]"
   ]
  },
  {
   "cell_type": "markdown",
   "id": "167373cd",
   "metadata": {},
   "source": [
    "Notice I used `_` instead of something like `i` or `j`, because it isn't actually used anywhere in the code."
   ]
  },
  {
   "cell_type": "markdown",
   "id": "c5f5b8db",
   "metadata": {},
   "source": [
    "This next example uses something called list concatenation."
   ]
  },
  {
   "cell_type": "code",
   "execution_count": 18,
   "id": "6c51bd8d",
   "metadata": {
    "scrolled": true
   },
   "outputs": [
    {
     "data": {
      "text/plain": [
       "[0, 0]"
      ]
     },
     "execution_count": 18,
     "metadata": {},
     "output_type": "execute_result"
    }
   ],
   "source": [
    "[0] + [0]"
   ]
  },
  {
   "cell_type": "code",
   "execution_count": 19,
   "id": "23352afd",
   "metadata": {
    "scrolled": true
   },
   "outputs": [
    {
     "data": {
      "text/plain": [
       "[0, 0, 0, 0, 0, 0, 0, 0, 0, 0, 0, 0, 0]"
      ]
     },
     "execution_count": 19,
     "metadata": {},
     "output_type": "execute_result"
    }
   ],
   "source": [
    "[0]*13"
   ]
  },
  {
   "cell_type": "markdown",
   "id": "ca0eca2d",
   "metadata": {},
   "source": [
    "These examples with `+` and `*` aren't super important, and won't really be coming back. But, it's one of those things that's good to see at least once."
   ]
  },
  {
   "cell_type": "markdown",
   "id": "947edc27",
   "metadata": {},
   "source": [
    "* A $3 \\times 5$ matrix containing all 7s"
   ]
  },
  {
   "cell_type": "markdown",
   "id": "06007ada",
   "metadata": {},
   "source": [
    "Let's start by initializing a NumPy array that has the correct shape and is filled with all zeros. I'm going to start by making a common mistake."
   ]
  },
  {
   "cell_type": "code",
   "execution_count": 20,
   "id": "2cf88c2f",
   "metadata": {
    "scrolled": true
   },
   "outputs": [
    {
     "ename": "TypeError",
     "evalue": "Cannot interpret '5' as a data type",
     "output_type": "error",
     "traceback": [
      "\u001b[0;31m---------------------------------------------------------------------------\u001b[0m",
      "\u001b[0;31mTypeError\u001b[0m                                 Traceback (most recent call last)",
      "Input \u001b[0;32mIn [20]\u001b[0m, in \u001b[0;36m<cell line: 1>\u001b[0;34m()\u001b[0m\n\u001b[0;32m----> 1\u001b[0m \u001b[43mnp\u001b[49m\u001b[38;5;241;43m.\u001b[39;49m\u001b[43mzeros\u001b[49m\u001b[43m(\u001b[49m\u001b[38;5;241;43m3\u001b[39;49m\u001b[43m,\u001b[49m\u001b[38;5;241;43m5\u001b[39;49m\u001b[43m)\u001b[49m\n",
      "\u001b[0;31mTypeError\u001b[0m: Cannot interpret '5' as a data type"
     ]
    }
   ],
   "source": [
    "np.zeros(3,5)"
   ]
  },
  {
   "cell_type": "code",
   "execution_count": 21,
   "id": "f34d1b0f",
   "metadata": {
    "scrolled": true
   },
   "outputs": [
    {
     "name": "stdout",
     "output_type": "stream",
     "text": [
      "Help on built-in function zeros in module numpy:\n",
      "\n",
      "zeros(...)\n",
      "    zeros(shape, dtype=float, order='C', *, like=None)\n",
      "    \n",
      "    Return a new array of given shape and type, filled with zeros.\n",
      "    \n",
      "    Parameters\n",
      "    ----------\n",
      "    shape : int or tuple of ints\n",
      "        Shape of the new array, e.g., ``(2, 3)`` or ``2``.\n",
      "    dtype : data-type, optional\n",
      "        The desired data-type for the array, e.g., `numpy.int8`.  Default is\n",
      "        `numpy.float64`.\n",
      "    order : {'C', 'F'}, optional, default: 'C'\n",
      "        Whether to store multi-dimensional data in row-major\n",
      "        (C-style) or column-major (Fortran-style) order in\n",
      "        memory.\n",
      "    like : array_like, optional\n",
      "        Reference object to allow the creation of arrays which are not\n",
      "        NumPy arrays. If an array-like passed in as ``like`` supports\n",
      "        the ``__array_function__`` protocol, the result will be defined\n",
      "        by it. In this case, it ensures the creation of an array object\n",
      "        compatible with that passed in via this argument.\n",
      "    \n",
      "        .. versionadded:: 1.20.0\n",
      "    \n",
      "    Returns\n",
      "    -------\n",
      "    out : ndarray\n",
      "        Array of zeros with the given shape, dtype, and order.\n",
      "    \n",
      "    See Also\n",
      "    --------\n",
      "    zeros_like : Return an array of zeros with shape and type of input.\n",
      "    empty : Return a new uninitialized array.\n",
      "    ones : Return a new array setting values to one.\n",
      "    full : Return a new array of given shape filled with value.\n",
      "    \n",
      "    Examples\n",
      "    --------\n",
      "    >>> np.zeros(5)\n",
      "    array([ 0.,  0.,  0.,  0.,  0.])\n",
      "    \n",
      "    >>> np.zeros((5,), dtype=int)\n",
      "    array([0, 0, 0, 0, 0])\n",
      "    \n",
      "    >>> np.zeros((2, 1))\n",
      "    array([[ 0.],\n",
      "           [ 0.]])\n",
      "    \n",
      "    >>> s = (2,2)\n",
      "    >>> np.zeros(s)\n",
      "    array([[ 0.,  0.],\n",
      "           [ 0.,  0.]])\n",
      "    \n",
      "    >>> np.zeros((2,), dtype=[('x', 'i4'), ('y', 'i4')]) # custom dtype\n",
      "    array([(0, 0), (0, 0)],\n",
      "          dtype=[('x', '<i4'), ('y', '<i4')])\n",
      "\n"
     ]
    }
   ],
   "source": [
    "help(np.zeros)"
   ]
  },
  {
   "cell_type": "markdown",
   "id": "39c470a5",
   "metadata": {},
   "source": [
    "Notice, the second argument to `np.zeros` needs to be the data type. The error is telling us that 5 cannot be interpreted as a data type. We need to pass the dimensions of our array as a tuple."
   ]
  },
  {
   "cell_type": "code",
   "execution_count": 22,
   "id": "14b479e3",
   "metadata": {
    "scrolled": true
   },
   "outputs": [
    {
     "data": {
      "text/plain": [
       "array([[0, 0, 0, 0, 0],\n",
       "       [0, 0, 0, 0, 0],\n",
       "       [0, 0, 0, 0, 0]])"
      ]
     },
     "execution_count": 22,
     "metadata": {},
     "output_type": "execute_result"
    }
   ],
   "source": [
    "np.zeros((3,5),dtype=int)"
   ]
  },
  {
   "cell_type": "markdown",
   "id": "3a3dcd4d",
   "metadata": {},
   "source": [
    "When we add +7, this is an example of something called _broadcasting_."
   ]
  },
  {
   "cell_type": "code",
   "execution_count": 23,
   "id": "b54bbb9d",
   "metadata": {
    "scrolled": true
   },
   "outputs": [
    {
     "data": {
      "text/plain": [
       "array([[7, 7, 7, 7, 7],\n",
       "       [7, 7, 7, 7, 7],\n",
       "       [7, 7, 7, 7, 7]])"
      ]
     },
     "execution_count": 23,
     "metadata": {},
     "output_type": "execute_result"
    }
   ],
   "source": [
    "np.zeros((3,5),dtype=int) + 7"
   ]
  },
  {
   "cell_type": "markdown",
   "id": "92b9d01c",
   "metadata": {},
   "source": [
    "Recall another MATLAB function we used often:"
   ]
  },
  {
   "cell_type": "code",
   "execution_count": 24,
   "id": "547ab1e2",
   "metadata": {
    "scrolled": true
   },
   "outputs": [
    {
     "data": {
      "text/plain": [
       "array([[1, 1, 1, 1, 1],\n",
       "       [1, 1, 1, 1, 1],\n",
       "       [1, 1, 1, 1, 1]])"
      ]
     },
     "execution_count": 24,
     "metadata": {},
     "output_type": "execute_result"
    }
   ],
   "source": [
    "np.ones((3,5),dtype=int)"
   ]
  },
  {
   "cell_type": "code",
   "execution_count": 25,
   "id": "4492cf4f",
   "metadata": {
    "scrolled": true
   },
   "outputs": [
    {
     "data": {
      "text/plain": [
       "array([[7, 7, 7, 7, 7],\n",
       "       [7, 7, 7, 7, 7],\n",
       "       [7, 7, 7, 7, 7]])"
      ]
     },
     "execution_count": 25,
     "metadata": {},
     "output_type": "execute_result"
    }
   ],
   "source": [
    "np.ones((3,5),dtype=int)*7"
   ]
  },
  {
   "cell_type": "markdown",
   "id": "16f58c5a",
   "metadata": {},
   "source": [
    "* [0,...,200] length 5, evenly distributed"
   ]
  },
  {
   "cell_type": "markdown",
   "id": "0d60d2c4",
   "metadata": {},
   "source": [
    "This should make you think of the `linspace` function from MATLAB."
   ]
  },
  {
   "cell_type": "code",
   "execution_count": 26,
   "id": "411d4d55",
   "metadata": {
    "scrolled": true
   },
   "outputs": [
    {
     "name": "stdout",
     "output_type": "stream",
     "text": [
      "Help on function linspace in module numpy:\n",
      "\n",
      "linspace(start, stop, num=50, endpoint=True, retstep=False, dtype=None, axis=0)\n",
      "    Return evenly spaced numbers over a specified interval.\n",
      "    \n",
      "    Returns `num` evenly spaced samples, calculated over the\n",
      "    interval [`start`, `stop`].\n",
      "    \n",
      "    The endpoint of the interval can optionally be excluded.\n",
      "    \n",
      "    .. versionchanged:: 1.16.0\n",
      "        Non-scalar `start` and `stop` are now supported.\n",
      "    \n",
      "    .. versionchanged:: 1.20.0\n",
      "        Values are rounded towards ``-inf`` instead of ``0`` when an\n",
      "        integer ``dtype`` is specified. The old behavior can\n",
      "        still be obtained with ``np.linspace(start, stop, num).astype(int)``\n",
      "    \n",
      "    Parameters\n",
      "    ----------\n",
      "    start : array_like\n",
      "        The starting value of the sequence.\n",
      "    stop : array_like\n",
      "        The end value of the sequence, unless `endpoint` is set to False.\n",
      "        In that case, the sequence consists of all but the last of ``num + 1``\n",
      "        evenly spaced samples, so that `stop` is excluded.  Note that the step\n",
      "        size changes when `endpoint` is False.\n",
      "    num : int, optional\n",
      "        Number of samples to generate. Default is 50. Must be non-negative.\n",
      "    endpoint : bool, optional\n",
      "        If True, `stop` is the last sample. Otherwise, it is not included.\n",
      "        Default is True.\n",
      "    retstep : bool, optional\n",
      "        If True, return (`samples`, `step`), where `step` is the spacing\n",
      "        between samples.\n",
      "    dtype : dtype, optional\n",
      "        The type of the output array.  If `dtype` is not given, the data type\n",
      "        is inferred from `start` and `stop`. The inferred dtype will never be\n",
      "        an integer; `float` is chosen even if the arguments would produce an\n",
      "        array of integers.\n",
      "    \n",
      "        .. versionadded:: 1.9.0\n",
      "    \n",
      "    axis : int, optional\n",
      "        The axis in the result to store the samples.  Relevant only if start\n",
      "        or stop are array-like.  By default (0), the samples will be along a\n",
      "        new axis inserted at the beginning. Use -1 to get an axis at the end.\n",
      "    \n",
      "        .. versionadded:: 1.16.0\n",
      "    \n",
      "    Returns\n",
      "    -------\n",
      "    samples : ndarray\n",
      "        There are `num` equally spaced samples in the closed interval\n",
      "        ``[start, stop]`` or the half-open interval ``[start, stop)``\n",
      "        (depending on whether `endpoint` is True or False).\n",
      "    step : float, optional\n",
      "        Only returned if `retstep` is True\n",
      "    \n",
      "        Size of spacing between samples.\n",
      "    \n",
      "    \n",
      "    See Also\n",
      "    --------\n",
      "    arange : Similar to `linspace`, but uses a step size (instead of the\n",
      "             number of samples).\n",
      "    geomspace : Similar to `linspace`, but with numbers spaced evenly on a log\n",
      "                scale (a geometric progression).\n",
      "    logspace : Similar to `geomspace`, but with the end points specified as\n",
      "               logarithms.\n",
      "    \n",
      "    Examples\n",
      "    --------\n",
      "    >>> np.linspace(2.0, 3.0, num=5)\n",
      "    array([2.  , 2.25, 2.5 , 2.75, 3.  ])\n",
      "    >>> np.linspace(2.0, 3.0, num=5, endpoint=False)\n",
      "    array([2. ,  2.2,  2.4,  2.6,  2.8])\n",
      "    >>> np.linspace(2.0, 3.0, num=5, retstep=True)\n",
      "    (array([2.  ,  2.25,  2.5 ,  2.75,  3.  ]), 0.25)\n",
      "    \n",
      "    Graphical illustration:\n",
      "    \n",
      "    >>> import matplotlib.pyplot as plt\n",
      "    >>> N = 8\n",
      "    >>> y = np.zeros(N)\n",
      "    >>> x1 = np.linspace(0, 10, N, endpoint=True)\n",
      "    >>> x2 = np.linspace(0, 10, N, endpoint=False)\n",
      "    >>> plt.plot(x1, y, 'o')\n",
      "    [<matplotlib.lines.Line2D object at 0x...>]\n",
      "    >>> plt.plot(x2, y + 0.5, 'o')\n",
      "    [<matplotlib.lines.Line2D object at 0x...>]\n",
      "    >>> plt.ylim([-0.5, 1])\n",
      "    (-0.5, 1)\n",
      "    >>> plt.show()\n",
      "\n"
     ]
    }
   ],
   "source": [
    "help(np.linspace)"
   ]
  },
  {
   "cell_type": "markdown",
   "id": "9126e413",
   "metadata": {},
   "source": [
    "Notice, unlike many python functions, the endpoint _is_ included by default in `np.linspace`."
   ]
  },
  {
   "cell_type": "code",
   "execution_count": 27,
   "id": "1ad7b5f5",
   "metadata": {
    "scrolled": true
   },
   "outputs": [
    {
     "data": {
      "text/plain": [
       "array([  0.,  50., 100., 150., 200.])"
      ]
     },
     "execution_count": 27,
     "metadata": {},
     "output_type": "execute_result"
    }
   ],
   "source": [
    "np.linspace(0,200,5)"
   ]
  },
  {
   "cell_type": "markdown",
   "id": "25598653",
   "metadata": {},
   "source": [
    "Recall also that we used `linspace` for plotting in MATLAB. We will also use it for plotting in our Matplotlib unit :)"
   ]
  },
  {
   "cell_type": "markdown",
   "id": "47f7bc0e",
   "metadata": {},
   "source": [
    "* The $5 \\times 5$ matrix \n",
    "\n",
    "$\n",
    "\\begin{pmatrix}\n",
    "0 & 0 & 0 & 0 & 0 \\\\\n",
    "1 & 1 & 1 & 1 & 1 \\\\\n",
    "2 & 2 & 2 & 2 & 2 \\\\\n",
    "3 & 3 & 3 & 3 & 3 \\\\\n",
    "4 & 4 & 4 & 4 & 4\n",
    "\\end{pmatrix}\n",
    "$"
   ]
  },
  {
   "cell_type": "code",
   "execution_count": 28,
   "id": "9f93d7ca",
   "metadata": {
    "scrolled": true
   },
   "outputs": [
    {
     "data": {
      "text/plain": [
       "array([[0, 0, 0, 0, 0],\n",
       "       [0, 0, 0, 0, 0],\n",
       "       [0, 0, 0, 0, 0],\n",
       "       [0, 0, 0, 0, 0],\n",
       "       [0, 0, 0, 0, 0]])"
      ]
     },
     "execution_count": 28,
     "metadata": {},
     "output_type": "execute_result"
    }
   ],
   "source": [
    "arr = np.zeros((5,5),dtype=int)\n",
    "arr"
   ]
  },
  {
   "cell_type": "markdown",
   "id": "8d487505",
   "metadata": {},
   "source": [
    "Recall, this is the syntax we can use to get the entire index-1 row of `arr`."
   ]
  },
  {
   "cell_type": "code",
   "execution_count": 29,
   "id": "e814a258",
   "metadata": {
    "scrolled": true
   },
   "outputs": [
    {
     "data": {
      "text/plain": [
       "array([0, 0, 0, 0, 0])"
      ]
     },
     "execution_count": 29,
     "metadata": {},
     "output_type": "execute_result"
    }
   ],
   "source": [
    "arr[1]"
   ]
  },
  {
   "cell_type": "code",
   "execution_count": 30,
   "id": "72656ccc",
   "metadata": {
    "scrolled": true
   },
   "outputs": [],
   "source": [
    "for i in range(5):\n",
    "    arr[i] = i "
   ]
  },
  {
   "cell_type": "code",
   "execution_count": 31,
   "id": "85883d1d",
   "metadata": {
    "scrolled": true
   },
   "outputs": [
    {
     "data": {
      "text/plain": [
       "array([[0, 0, 0, 0, 0],\n",
       "       [1, 1, 1, 1, 1],\n",
       "       [2, 2, 2, 2, 2],\n",
       "       [3, 3, 3, 3, 3],\n",
       "       [4, 4, 4, 4, 4]])"
      ]
     },
     "execution_count": 31,
     "metadata": {},
     "output_type": "execute_result"
    }
   ],
   "source": [
    "arr"
   ]
  },
  {
   "cell_type": "markdown",
   "id": "f05bf21f",
   "metadata": {},
   "source": [
    "Suppose I want to have the transpose of `arr`."
   ]
  },
  {
   "cell_type": "code",
   "execution_count": 32,
   "id": "237d635e",
   "metadata": {
    "scrolled": true
   },
   "outputs": [
    {
     "data": {
      "text/plain": [
       "array([[0, 1, 2, 3, 4],\n",
       "       [0, 1, 2, 3, 4],\n",
       "       [0, 1, 2, 3, 4],\n",
       "       [0, 1, 2, 3, 4],\n",
       "       [0, 1, 2, 3, 4]])"
      ]
     },
     "execution_count": 32,
     "metadata": {},
     "output_type": "execute_result"
    }
   ],
   "source": [
    "arr.T"
   ]
  },
  {
   "cell_type": "markdown",
   "id": "0bab246f",
   "metadata": {},
   "source": [
    "Here's how I could make the same array, but using a for-loop instead of the transpose."
   ]
  },
  {
   "cell_type": "code",
   "execution_count": 33,
   "id": "4ecbf558",
   "metadata": {
    "scrolled": true
   },
   "outputs": [],
   "source": [
    "arr2 = arr.copy()"
   ]
  },
  {
   "cell_type": "code",
   "execution_count": 34,
   "id": "83b873f6",
   "metadata": {
    "scrolled": true
   },
   "outputs": [],
   "source": [
    "for i in range(5):\n",
    "    arr2[:,i] = i"
   ]
  },
  {
   "cell_type": "code",
   "execution_count": 35,
   "id": "0051a278",
   "metadata": {
    "scrolled": true
   },
   "outputs": [
    {
     "data": {
      "text/plain": [
       "array([[0, 1, 2, 3, 4],\n",
       "       [0, 1, 2, 3, 4],\n",
       "       [0, 1, 2, 3, 4],\n",
       "       [0, 1, 2, 3, 4],\n",
       "       [0, 1, 2, 3, 4]])"
      ]
     },
     "execution_count": 35,
     "metadata": {},
     "output_type": "execute_result"
    }
   ],
   "source": [
    "arr2"
   ]
  },
  {
   "cell_type": "markdown",
   "id": "ba3ab0cc",
   "metadata": {},
   "source": [
    "* The $2 \\times 5$ matrix \n",
    "\n",
    "$\n",
    "\\begin{pmatrix}\n",
    "2 & 5 & 8 & 11 & 14 \\\\\n",
    "17 & 20 & 23 & 26 & 29\n",
    "\\end{pmatrix}\n",
    "$"
   ]
  },
  {
   "cell_type": "markdown",
   "id": "05cd8ec2",
   "metadata": {},
   "source": [
    "I'll show you two different ways of creating this array. The first method will be very similar to MATLAB. The second method will be using techniques unique to NumPy."
   ]
  },
  {
   "cell_type": "markdown",
   "id": "51b79026",
   "metadata": {},
   "source": [
    "__Method 1:__ We notice that the difference between consecutive elements is 3. We'll use a for-loop to create this array. First, with a small mistake."
   ]
  },
  {
   "cell_type": "code",
   "execution_count": 36,
   "id": "a5975e38",
   "metadata": {
    "scrolled": true
   },
   "outputs": [],
   "source": [
    "arr = np.zeros((2,5),dtype=int)\n",
    "for i in range(2):\n",
    "    for j in range(5):\n",
    "        arr[i,j] = 2 + 3*j"
   ]
  },
  {
   "cell_type": "code",
   "execution_count": 37,
   "id": "1603dff2",
   "metadata": {
    "scrolled": true
   },
   "outputs": [
    {
     "data": {
      "text/plain": [
       "array([[ 2,  5,  8, 11, 14],\n",
       "       [ 2,  5,  8, 11, 14]])"
      ]
     },
     "execution_count": 37,
     "metadata": {},
     "output_type": "execute_result"
    }
   ],
   "source": [
    "arr"
   ]
  },
  {
   "cell_type": "markdown",
   "id": "193197de",
   "metadata": {},
   "source": [
    "Notice that inside the for-loop, our assignment only depends on `j`. It should depend on `i` as well."
   ]
  },
  {
   "cell_type": "code",
   "execution_count": 38,
   "id": "eae0b2b5",
   "metadata": {
    "scrolled": true
   },
   "outputs": [],
   "source": [
    "arr = np.zeros((2,5),dtype=int)\n",
    "for i in range(2):\n",
    "    for j in range(5):\n",
    "        arr[i,j] = 2 + 3*j + 15*i"
   ]
  },
  {
   "cell_type": "code",
   "execution_count": 39,
   "id": "c58db61e",
   "metadata": {
    "scrolled": true
   },
   "outputs": [
    {
     "data": {
      "text/plain": [
       "array([[ 2,  5,  8, 11, 14],\n",
       "       [17, 20, 23, 26, 29]])"
      ]
     },
     "execution_count": 39,
     "metadata": {},
     "output_type": "execute_result"
    }
   ],
   "source": [
    "arr"
   ]
  },
  {
   "cell_type": "markdown",
   "id": "e48800b5",
   "metadata": {},
   "source": [
    "Note: In our lecture video for this section, we make this code more readable by giving names to variables like `rows`,`cols`, etc. For the sake of time we will not cover that here."
   ]
  },
  {
   "cell_type": "markdown",
   "id": "7181c9e5",
   "metadata": {},
   "source": [
    "__Method 2:__ Recall our key python data type `range()`. We will see a very similar function in NumPy."
   ]
  },
  {
   "cell_type": "code",
   "execution_count": 40,
   "id": "1d164afb",
   "metadata": {
    "scrolled": false
   },
   "outputs": [
    {
     "name": "stdout",
     "output_type": "stream",
     "text": [
      "Help on built-in function arange in module numpy:\n",
      "\n",
      "arange(...)\n",
      "    arange([start,] stop[, step,], dtype=None, *, like=None)\n",
      "    \n",
      "    Return evenly spaced values within a given interval.\n",
      "    \n",
      "    ``arange`` can be called with a varying number of positional arguments:\n",
      "    \n",
      "    * ``arange(stop)``: Values are generated within the half-open interval\n",
      "      ``[0, stop)`` (in other words, the interval including `start` but\n",
      "      excluding `stop`).\n",
      "    * ``arange(start, stop)``: Values are generated within the half-open\n",
      "      interval ``[start, stop)``.\n",
      "    * ``arange(start, stop, step)`` Values are generated within the half-open\n",
      "      interval ``[start, stop)``, with spacing between values given by\n",
      "      ``step``.\n",
      "    \n",
      "    For integer arguments the function is roughly equivalent to the Python\n",
      "    built-in :py:class:`range`, but returns an ndarray rather than a ``range``\n",
      "    instance.\n",
      "    \n",
      "    When using a non-integer step, such as 0.1, it is often better to use\n",
      "    `numpy.linspace`.\n",
      "    \n",
      "    See the Warning sections below for more information.\n",
      "    \n",
      "    Parameters\n",
      "    ----------\n",
      "    start : integer or real, optional\n",
      "        Start of interval.  The interval includes this value.  The default\n",
      "        start value is 0.\n",
      "    stop : integer or real\n",
      "        End of interval.  The interval does not include this value, except\n",
      "        in some cases where `step` is not an integer and floating point\n",
      "        round-off affects the length of `out`.\n",
      "    step : integer or real, optional\n",
      "        Spacing between values.  For any output `out`, this is the distance\n",
      "        between two adjacent values, ``out[i+1] - out[i]``.  The default\n",
      "        step size is 1.  If `step` is specified as a position argument,\n",
      "        `start` must also be given.\n",
      "    dtype : dtype, optional\n",
      "        The type of the output array.  If `dtype` is not given, infer the data\n",
      "        type from the other input arguments.\n",
      "    like : array_like, optional\n",
      "        Reference object to allow the creation of arrays which are not\n",
      "        NumPy arrays. If an array-like passed in as ``like`` supports\n",
      "        the ``__array_function__`` protocol, the result will be defined\n",
      "        by it. In this case, it ensures the creation of an array object\n",
      "        compatible with that passed in via this argument.\n",
      "    \n",
      "        .. versionadded:: 1.20.0\n",
      "    \n",
      "    Returns\n",
      "    -------\n",
      "    arange : ndarray\n",
      "        Array of evenly spaced values.\n",
      "    \n",
      "        For floating point arguments, the length of the result is\n",
      "        ``ceil((stop - start)/step)``.  Because of floating point overflow,\n",
      "        this rule may result in the last element of `out` being greater\n",
      "        than `stop`.\n",
      "    \n",
      "    Warnings\n",
      "    --------\n",
      "    The length of the output might not be numerically stable.\n",
      "    \n",
      "    Another stability issue is due to the internal implementation of\n",
      "    `numpy.arange`.\n",
      "    The actual step value used to populate the array is\n",
      "    ``dtype(start + step) - dtype(start)`` and not `step`. Precision loss\n",
      "    can occur here, due to casting or due to using floating points when\n",
      "    `start` is much larger than `step`. This can lead to unexpected\n",
      "    behaviour. For example::\n",
      "    \n",
      "      >>> np.arange(0, 5, 0.5, dtype=int)\n",
      "      array([0, 0, 0, 0, 0, 0, 0, 0, 0, 0])\n",
      "      >>> np.arange(-3, 3, 0.5, dtype=int)\n",
      "      array([-3, -2, -1,  0,  1,  2,  3,  4,  5,  6,  7,  8])\n",
      "    \n",
      "    In such cases, the use of `numpy.linspace` should be preferred.\n",
      "    \n",
      "    The built-in :py:class:`range` generates :std:doc:`Python built-in integers\n",
      "    that have arbitrary size <c-api/long>`, while `numpy.arange` produces\n",
      "    `numpy.int32` or `numpy.int64` numbers. This may result in incorrect\n",
      "    results for large integer values::\n",
      "    \n",
      "      >>> power = 40\n",
      "      >>> modulo = 10000\n",
      "      >>> x1 = [(n ** power) % modulo for n in range(8)]\n",
      "      >>> x2 = [(n ** power) % modulo for n in np.arange(8)]\n",
      "      >>> print(x1)\n",
      "      [0, 1, 7776, 8801, 6176, 625, 6576, 4001]  # correct\n",
      "      >>> print(x2)\n",
      "      [0, 1, 7776, 7185, 0, 5969, 4816, 3361]  # incorrect\n",
      "    \n",
      "    See Also\n",
      "    --------\n",
      "    numpy.linspace : Evenly spaced numbers with careful handling of endpoints.\n",
      "    numpy.ogrid: Arrays of evenly spaced numbers in N-dimensions.\n",
      "    numpy.mgrid: Grid-shaped arrays of evenly spaced numbers in N-dimensions.\n",
      "    \n",
      "    Examples\n",
      "    --------\n",
      "    >>> np.arange(3)\n",
      "    array([0, 1, 2])\n",
      "    >>> np.arange(3.0)\n",
      "    array([ 0.,  1.,  2.])\n",
      "    >>> np.arange(3,7)\n",
      "    array([3, 4, 5, 6])\n",
      "    >>> np.arange(3,7,2)\n",
      "    array([3, 5])\n",
      "\n"
     ]
    }
   ],
   "source": [
    "help(np.arange)"
   ]
  },
  {
   "cell_type": "code",
   "execution_count": 41,
   "id": "4a09434b",
   "metadata": {
    "scrolled": true
   },
   "outputs": [
    {
     "data": {
      "text/plain": [
       "[1, 3]"
      ]
     },
     "execution_count": 41,
     "metadata": {},
     "output_type": "execute_result"
    }
   ],
   "source": [
    "list(range(1,5,2))"
   ]
  },
  {
   "cell_type": "code",
   "execution_count": 42,
   "id": "b9db5f81",
   "metadata": {
    "scrolled": true
   },
   "outputs": [
    {
     "data": {
      "text/plain": [
       "array([1, 3])"
      ]
     },
     "execution_count": 42,
     "metadata": {},
     "output_type": "execute_result"
    }
   ],
   "source": [
    "np.arange(1,5,2)"
   ]
  },
  {
   "cell_type": "markdown",
   "id": "78c8afde",
   "metadata": {},
   "source": [
    "Notice that with `np.arange`, we don't have to step by integer values."
   ]
  },
  {
   "cell_type": "code",
   "execution_count": 43,
   "id": "d4891255",
   "metadata": {
    "scrolled": true
   },
   "outputs": [
    {
     "data": {
      "text/plain": [
       "array([1. , 1.5, 2. , 2.5, 3. , 3.5, 4. , 4.5])"
      ]
     },
     "execution_count": 43,
     "metadata": {},
     "output_type": "execute_result"
    }
   ],
   "source": [
    "np.arange(1,5,0.5)"
   ]
  },
  {
   "cell_type": "code",
   "execution_count": 44,
   "id": "92089df4",
   "metadata": {
    "scrolled": true
   },
   "outputs": [
    {
     "ename": "TypeError",
     "evalue": "'float' object cannot be interpreted as an integer",
     "output_type": "error",
     "traceback": [
      "\u001b[0;31m---------------------------------------------------------------------------\u001b[0m",
      "\u001b[0;31mTypeError\u001b[0m                                 Traceback (most recent call last)",
      "Input \u001b[0;32mIn [44]\u001b[0m, in \u001b[0;36m<cell line: 1>\u001b[0;34m()\u001b[0m\n\u001b[0;32m----> 1\u001b[0m \u001b[38;5;28;43mrange\u001b[39;49m\u001b[43m(\u001b[49m\u001b[38;5;241;43m1\u001b[39;49m\u001b[43m,\u001b[49m\u001b[38;5;241;43m5\u001b[39;49m\u001b[43m,\u001b[49m\u001b[38;5;241;43m0.5\u001b[39;49m\u001b[43m)\u001b[49m\n",
      "\u001b[0;31mTypeError\u001b[0m: 'float' object cannot be interpreted as an integer"
     ]
    }
   ],
   "source": [
    "range(1,5,0.5) #step needs to be an integer"
   ]
  },
  {
   "cell_type": "markdown",
   "id": "bf12088a",
   "metadata": {},
   "source": [
    "Let's use this idea to first generate an array that has all the elements that I want."
   ]
  },
  {
   "cell_type": "code",
   "execution_count": 45,
   "id": "af7d174a",
   "metadata": {
    "scrolled": true
   },
   "outputs": [
    {
     "data": {
      "text/plain": [
       "array([ 2,  5,  8, 11, 14, 17, 20, 23, 26, 29])"
      ]
     },
     "execution_count": 45,
     "metadata": {},
     "output_type": "execute_result"
    }
   ],
   "source": [
    "np.arange(2,30,3)"
   ]
  },
  {
   "cell_type": "markdown",
   "id": "e4fd5090",
   "metadata": {},
   "source": [
    "Now, all I need to do is reshape this array into the correct dimensions."
   ]
  },
  {
   "cell_type": "code",
   "execution_count": 46,
   "id": "dbb63f65",
   "metadata": {
    "scrolled": true
   },
   "outputs": [
    {
     "data": {
      "text/plain": [
       "array([[ 2,  5,  8, 11, 14],\n",
       "       [17, 20, 23, 26, 29]])"
      ]
     },
     "execution_count": 46,
     "metadata": {},
     "output_type": "execute_result"
    }
   ],
   "source": [
    "np.arange(2,30,3).reshape((2,5))"
   ]
  },
  {
   "cell_type": "markdown",
   "id": "30ac2304",
   "metadata": {},
   "source": [
    "For us, this second method is the method I'd prefer you use! In general, it will run way faster than anything in base python."
   ]
  },
  {
   "cell_type": "markdown",
   "id": "bb4f16f0",
   "metadata": {},
   "source": [
    "### Random Numbers"
   ]
  },
  {
   "cell_type": "markdown",
   "id": "4d30066f",
   "metadata": {},
   "source": [
    "__Goal:__ Learn about generating random numbers in NumPy."
   ]
  },
  {
   "cell_type": "markdown",
   "id": "4a7a8641",
   "metadata": {},
   "source": [
    "__Note:__ I'm first going to show you the old way of generating random numbers in NumPy. If you're reading older code, this is likely the way you'll see random numbers generated. All new code should be written using the new method that I show you."
   ]
  },
  {
   "cell_type": "markdown",
   "id": "e50d439b",
   "metadata": {},
   "source": [
    "* Make a length 10 NumPy array of random integers between 0 (inclusive) and 39 (exclusive)."
   ]
  },
  {
   "cell_type": "markdown",
   "id": "b0599a3e",
   "metadata": {},
   "source": [
    "__Old Way:__"
   ]
  },
  {
   "cell_type": "code",
   "execution_count": 47,
   "id": "cb5a1b2c",
   "metadata": {
    "scrolled": true
   },
   "outputs": [
    {
     "data": {
      "text/plain": [
       "array([18, 11, 22, 29, 38, 16,  9, 21, 24, 18])"
      ]
     },
     "execution_count": 47,
     "metadata": {},
     "output_type": "execute_result"
    }
   ],
   "source": [
    "np.random.randint(0,39,size=10)"
   ]
  },
  {
   "cell_type": "code",
   "execution_count": 48,
   "id": "67fc1a52",
   "metadata": {
    "scrolled": true
   },
   "outputs": [
    {
     "name": "stdout",
     "output_type": "stream",
     "text": [
      "Help on built-in function randint:\n",
      "\n",
      "randint(...) method of numpy.random.mtrand.RandomState instance\n",
      "    randint(low, high=None, size=None, dtype=int)\n",
      "    \n",
      "    Return random integers from `low` (inclusive) to `high` (exclusive).\n",
      "    \n",
      "    Return random integers from the \"discrete uniform\" distribution of\n",
      "    the specified dtype in the \"half-open\" interval [`low`, `high`). If\n",
      "    `high` is None (the default), then results are from [0, `low`).\n",
      "    \n",
      "    .. note::\n",
      "        New code should use the ``integers`` method of a ``default_rng()``\n",
      "        instance instead; please see the :ref:`random-quick-start`.\n",
      "    \n",
      "    Parameters\n",
      "    ----------\n",
      "    low : int or array-like of ints\n",
      "        Lowest (signed) integers to be drawn from the distribution (unless\n",
      "        ``high=None``, in which case this parameter is one above the\n",
      "        *highest* such integer).\n",
      "    high : int or array-like of ints, optional\n",
      "        If provided, one above the largest (signed) integer to be drawn\n",
      "        from the distribution (see above for behavior if ``high=None``).\n",
      "        If array-like, must contain integer values\n",
      "    size : int or tuple of ints, optional\n",
      "        Output shape.  If the given shape is, e.g., ``(m, n, k)``, then\n",
      "        ``m * n * k`` samples are drawn.  Default is None, in which case a\n",
      "        single value is returned.\n",
      "    dtype : dtype, optional\n",
      "        Desired dtype of the result. Byteorder must be native.\n",
      "        The default value is int.\n",
      "    \n",
      "        .. versionadded:: 1.11.0\n",
      "    \n",
      "    Returns\n",
      "    -------\n",
      "    out : int or ndarray of ints\n",
      "        `size`-shaped array of random integers from the appropriate\n",
      "        distribution, or a single such random int if `size` not provided.\n",
      "    \n",
      "    See Also\n",
      "    --------\n",
      "    random_integers : similar to `randint`, only for the closed\n",
      "        interval [`low`, `high`], and 1 is the lowest value if `high` is\n",
      "        omitted.\n",
      "    random.Generator.integers: which should be used for new code.\n",
      "    \n",
      "    Examples\n",
      "    --------\n",
      "    >>> np.random.randint(2, size=10)\n",
      "    array([1, 0, 0, 0, 1, 1, 0, 0, 1, 0]) # random\n",
      "    >>> np.random.randint(1, size=10)\n",
      "    array([0, 0, 0, 0, 0, 0, 0, 0, 0, 0])\n",
      "    \n",
      "    Generate a 2 x 4 array of ints between 0 and 4, inclusive:\n",
      "    \n",
      "    >>> np.random.randint(5, size=(2, 4))\n",
      "    array([[4, 0, 2, 1], # random\n",
      "           [3, 2, 2, 0]])\n",
      "    \n",
      "    Generate a 1 x 3 array with 3 different upper bounds\n",
      "    \n",
      "    >>> np.random.randint(1, [3, 5, 10])\n",
      "    array([2, 2, 9]) # random\n",
      "    \n",
      "    Generate a 1 by 3 array with 3 different lower bounds\n",
      "    \n",
      "    >>> np.random.randint([1, 5, 7], 10)\n",
      "    array([9, 8, 7]) # random\n",
      "    \n",
      "    Generate a 2 by 4 array using broadcasting with dtype of uint8\n",
      "    \n",
      "    >>> np.random.randint([1, 3, 5, 7], [[10], [20]], dtype=np.uint8)\n",
      "    array([[ 8,  6,  9,  7], # random\n",
      "           [ 1, 16,  9, 12]], dtype=uint8)\n",
      "\n"
     ]
    }
   ],
   "source": [
    "help(np.random.randint)"
   ]
  },
  {
   "cell_type": "markdown",
   "id": "a250c906",
   "metadata": {},
   "source": [
    "Look at the note in the help called above! We need to call the integers method of `default_rng`. This is an excellent example of something called Object-Oriented Programming (OOP):\n",
    "* Instead of calling a function that will generate random numbers, what we do is create an object that has methods on it which will generate random numbers."
   ]
  },
  {
   "cell_type": "markdown",
   "id": "a2ce3fd6",
   "metadata": {},
   "source": [
    "Here's how I actually want you to generate random numbers:"
   ]
  },
  {
   "cell_type": "code",
   "execution_count": 49,
   "id": "52621713",
   "metadata": {
    "scrolled": true
   },
   "outputs": [],
   "source": [
    "rng = np.random.default_rng()"
   ]
  },
  {
   "cell_type": "code",
   "execution_count": 50,
   "id": "7ddbc125",
   "metadata": {
    "scrolled": true
   },
   "outputs": [
    {
     "data": {
      "text/plain": [
       "numpy.random._generator.Generator"
      ]
     },
     "execution_count": 50,
     "metadata": {},
     "output_type": "execute_result"
    }
   ],
   "source": [
    "type(rng)"
   ]
  },
  {
   "cell_type": "code",
   "execution_count": 51,
   "id": "a974d2b7",
   "metadata": {
    "scrolled": true
   },
   "outputs": [
    {
     "data": {
      "text/plain": [
       "array([11, 35, 21, 34,  4, 24,  3,  9, 17, 19])"
      ]
     },
     "execution_count": 51,
     "metadata": {},
     "output_type": "execute_result"
    }
   ],
   "source": [
    "arr = rng.integers(0,39,size=10)\n",
    "arr"
   ]
  },
  {
   "cell_type": "markdown",
   "id": "5e555697",
   "metadata": {},
   "source": [
    "* Choose five of those numbers (with replacement) and put them into a NumPy array."
   ]
  },
  {
   "cell_type": "code",
   "execution_count": 52,
   "id": "0d5e3fc2",
   "metadata": {
    "scrolled": true
   },
   "outputs": [
    {
     "name": "stdout",
     "output_type": "stream",
     "text": [
      "Help on built-in function choice:\n",
      "\n",
      "choice(...) method of numpy.random._generator.Generator instance\n",
      "    choice(a, size=None, replace=True, p=None, axis=0, shuffle=True)\n",
      "    \n",
      "    Generates a random sample from a given array\n",
      "    \n",
      "    Parameters\n",
      "    ----------\n",
      "    a : {array_like, int}\n",
      "        If an ndarray, a random sample is generated from its elements.\n",
      "        If an int, the random sample is generated from np.arange(a).\n",
      "    size : {int, tuple[int]}, optional\n",
      "        Output shape.  If the given shape is, e.g., ``(m, n, k)``, then\n",
      "        ``m * n * k`` samples are drawn from the 1-d `a`. If `a` has more\n",
      "        than one dimension, the `size` shape will be inserted into the\n",
      "        `axis` dimension, so the output ``ndim`` will be ``a.ndim - 1 +\n",
      "        len(size)``. Default is None, in which case a single value is\n",
      "        returned.\n",
      "    replace : bool, optional\n",
      "        Whether the sample is with or without replacement. Default is True,\n",
      "        meaning that a value of ``a`` can be selected multiple times.\n",
      "    p : 1-D array_like, optional\n",
      "        The probabilities associated with each entry in a.\n",
      "        If not given, the sample assumes a uniform distribution over all\n",
      "        entries in ``a``.\n",
      "    axis : int, optional\n",
      "        The axis along which the selection is performed. The default, 0,\n",
      "        selects by row.\n",
      "    shuffle : bool, optional\n",
      "        Whether the sample is shuffled when sampling without replacement.\n",
      "        Default is True, False provides a speedup.\n",
      "    \n",
      "    Returns\n",
      "    -------\n",
      "    samples : single item or ndarray\n",
      "        The generated random samples\n",
      "    \n",
      "    Raises\n",
      "    ------\n",
      "    ValueError\n",
      "        If a is an int and less than zero, if p is not 1-dimensional, if\n",
      "        a is array-like with a size 0, if p is not a vector of\n",
      "        probabilities, if a and p have different lengths, or if\n",
      "        replace=False and the sample size is greater than the population\n",
      "        size.\n",
      "    \n",
      "    See Also\n",
      "    --------\n",
      "    integers, shuffle, permutation\n",
      "    \n",
      "    Notes\n",
      "    -----\n",
      "    Setting user-specified probabilities through ``p`` uses a more general but less\n",
      "    efficient sampler than the default. The general sampler produces a different sample\n",
      "    than the optimized sampler even if each element of ``p`` is 1 / len(a).\n",
      "    \n",
      "    Examples\n",
      "    --------\n",
      "    Generate a uniform random sample from np.arange(5) of size 3:\n",
      "    \n",
      "    >>> rng = np.random.default_rng()\n",
      "    >>> rng.choice(5, 3)\n",
      "    array([0, 3, 4]) # random\n",
      "    >>> #This is equivalent to rng.integers(0,5,3)\n",
      "    \n",
      "    Generate a non-uniform random sample from np.arange(5) of size 3:\n",
      "    \n",
      "    >>> rng.choice(5, 3, p=[0.1, 0, 0.3, 0.6, 0])\n",
      "    array([3, 3, 0]) # random\n",
      "    \n",
      "    Generate a uniform random sample from np.arange(5) of size 3 without\n",
      "    replacement:\n",
      "    \n",
      "    >>> rng.choice(5, 3, replace=False)\n",
      "    array([3,1,0]) # random\n",
      "    >>> #This is equivalent to rng.permutation(np.arange(5))[:3]\n",
      "    \n",
      "    Generate a uniform random sample from a 2-D array along the first\n",
      "    axis (the default), without replacement:\n",
      "    \n",
      "    >>> rng.choice([[0, 1, 2], [3, 4, 5], [6, 7, 8]], 2, replace=False)\n",
      "    array([[3, 4, 5], # random\n",
      "           [0, 1, 2]])\n",
      "    \n",
      "    Generate a non-uniform random sample from np.arange(5) of size\n",
      "    3 without replacement:\n",
      "    \n",
      "    >>> rng.choice(5, 3, replace=False, p=[0.1, 0, 0.3, 0.6, 0])\n",
      "    array([2, 3, 0]) # random\n",
      "    \n",
      "    Any of the above can be repeated with an arbitrary array-like\n",
      "    instead of just integers. For instance:\n",
      "    \n",
      "    >>> aa_milne_arr = ['pooh', 'rabbit', 'piglet', 'Christopher']\n",
      "    >>> rng.choice(aa_milne_arr, 5, p=[0.5, 0.1, 0.1, 0.3])\n",
      "    array(['pooh', 'pooh', 'pooh', 'Christopher', 'piglet'], # random\n",
      "          dtype='<U11')\n",
      "\n"
     ]
    }
   ],
   "source": [
    "help(rng.choice)"
   ]
  },
  {
   "cell_type": "code",
   "execution_count": 53,
   "id": "30ca76ae",
   "metadata": {
    "scrolled": true
   },
   "outputs": [
    {
     "data": {
      "text/plain": [
       "array([11, 35, 21, 34,  4, 24,  3,  9, 17, 19])"
      ]
     },
     "execution_count": 53,
     "metadata": {},
     "output_type": "execute_result"
    }
   ],
   "source": [
    "arr"
   ]
  },
  {
   "cell_type": "code",
   "execution_count": 54,
   "id": "0dbf964f",
   "metadata": {
    "scrolled": true
   },
   "outputs": [
    {
     "data": {
      "text/plain": [
       "array([11,  4, 19, 24,  9])"
      ]
     },
     "execution_count": 54,
     "metadata": {},
     "output_type": "execute_result"
    }
   ],
   "source": [
    "rng.choice(arr,size=5)"
   ]
  },
  {
   "cell_type": "markdown",
   "id": "42af6455",
   "metadata": {},
   "source": [
    "* Create a $3 \\times 5$ NumPy array of random real numbers between -1 and 4."
   ]
  },
  {
   "cell_type": "markdown",
   "id": "a8cd5f5f",
   "metadata": {},
   "source": [
    "First, let me show you with a mistake. Then we'll talk about how to fix the mistake. "
   ]
  },
  {
   "cell_type": "code",
   "execution_count": 55,
   "id": "2f964478",
   "metadata": {
    "scrolled": true
   },
   "outputs": [
    {
     "data": {
      "text/plain": [
       "0.08663873978713521"
      ]
     },
     "execution_count": 55,
     "metadata": {},
     "output_type": "execute_result"
    }
   ],
   "source": [
    "rng.random() #returns random real between [0,1)"
   ]
  },
  {
   "cell_type": "code",
   "execution_count": 56,
   "id": "bb65e4f0",
   "metadata": {
    "scrolled": true
   },
   "outputs": [
    {
     "ename": "TypeError",
     "evalue": "random() got multiple values for keyword argument 'size'",
     "output_type": "error",
     "traceback": [
      "\u001b[0;31m---------------------------------------------------------------------------\u001b[0m",
      "\u001b[0;31mTypeError\u001b[0m                                 Traceback (most recent call last)",
      "Input \u001b[0;32mIn [56]\u001b[0m, in \u001b[0;36m<cell line: 2>\u001b[0;34m()\u001b[0m\n\u001b[1;32m      1\u001b[0m \u001b[38;5;66;03m#What you might expect\u001b[39;00m\n\u001b[0;32m----> 2\u001b[0m \u001b[43mrng\u001b[49m\u001b[38;5;241;43m.\u001b[39;49m\u001b[43mrandom\u001b[49m\u001b[43m(\u001b[49m\u001b[38;5;241;43m-\u001b[39;49m\u001b[38;5;241;43m1\u001b[39;49m\u001b[43m,\u001b[49m\u001b[38;5;241;43m4\u001b[39;49m\u001b[43m,\u001b[49m\u001b[43msize\u001b[49m\u001b[38;5;241;43m=\u001b[39;49m\u001b[43m(\u001b[49m\u001b[38;5;241;43m3\u001b[39;49m\u001b[43m,\u001b[49m\u001b[38;5;241;43m5\u001b[39;49m\u001b[43m)\u001b[49m\u001b[43m)\u001b[49m\n",
      "File \u001b[0;32m_generator.pyx:238\u001b[0m, in \u001b[0;36mnumpy.random._generator.Generator.random\u001b[0;34m()\u001b[0m\n",
      "\u001b[0;31mTypeError\u001b[0m: random() got multiple values for keyword argument 'size'"
     ]
    }
   ],
   "source": [
    "#What you might expect\n",
    "rng.random(-1,4,size=(3,5))"
   ]
  },
  {
   "cell_type": "code",
   "execution_count": 57,
   "id": "c20ac761",
   "metadata": {
    "scrolled": true
   },
   "outputs": [
    {
     "name": "stdout",
     "output_type": "stream",
     "text": [
      "Help on built-in function random:\n",
      "\n",
      "random(...) method of numpy.random._generator.Generator instance\n",
      "    random(size=None, dtype=np.float64, out=None)\n",
      "    \n",
      "    Return random floats in the half-open interval [0.0, 1.0).\n",
      "    \n",
      "    Results are from the \"continuous uniform\" distribution over the\n",
      "    stated interval.  To sample :math:`Unif[a, b), b > a` multiply\n",
      "    the output of `random` by `(b-a)` and add `a`::\n",
      "    \n",
      "      (b - a) * random() + a\n",
      "    \n",
      "    Parameters\n",
      "    ----------\n",
      "    size : int or tuple of ints, optional\n",
      "        Output shape.  If the given shape is, e.g., ``(m, n, k)``, then\n",
      "        ``m * n * k`` samples are drawn.  Default is None, in which case a\n",
      "        single value is returned.\n",
      "    dtype : dtype, optional\n",
      "        Desired dtype of the result, only `float64` and `float32` are supported.\n",
      "        Byteorder must be native. The default value is np.float64.\n",
      "    out : ndarray, optional\n",
      "        Alternative output array in which to place the result. If size is not None,\n",
      "        it must have the same shape as the provided size and must match the type of\n",
      "        the output values.\n",
      "    \n",
      "    Returns\n",
      "    -------\n",
      "    out : float or ndarray of floats\n",
      "        Array of random floats of shape `size` (unless ``size=None``, in which\n",
      "        case a single float is returned).\n",
      "    \n",
      "    Examples\n",
      "    --------\n",
      "    >>> rng = np.random.default_rng()\n",
      "    >>> rng.random()\n",
      "    0.47108547995356098 # random\n",
      "    >>> type(rng.random())\n",
      "    <class 'float'>\n",
      "    >>> rng.random((5,))\n",
      "    array([ 0.30220482,  0.86820401,  0.1654503 ,  0.11659149,  0.54323428]) # random\n",
      "    \n",
      "    Three-by-two array of random numbers from [-5, 0):\n",
      "    \n",
      "    >>> 5 * rng.random((3, 2)) - 5\n",
      "    array([[-3.99149989, -0.52338984], # random\n",
      "           [-2.99091858, -0.79479508],\n",
      "           [-1.23204345, -1.75224494]])\n",
      "\n"
     ]
    }
   ],
   "source": [
    "help(rng.random)"
   ]
  },
  {
   "cell_type": "markdown",
   "id": "89abb295",
   "metadata": {},
   "source": [
    "Here's how we're going to get random reals in a certain interval. In this example, I want random reals in $[-1,4)$. Recall that `rng.random()` returns values in $[0,1)$.\n",
    "\n",
    "* I know the interval I want, $[-1,4)$ has length 5, so the first thing I'll do is stretch $[0,1)$ to have length 5. This will give me values in $[0,5)$\n",
    "\n",
    "* Once I've stretched the interval to the correct length, I now shift it to start at the correct value. "
   ]
  },
  {
   "cell_type": "code",
   "execution_count": 58,
   "id": "a870a9b0",
   "metadata": {
    "scrolled": true
   },
   "outputs": [
    {
     "data": {
      "text/plain": [
       "4.988314644825639"
      ]
     },
     "execution_count": 58,
     "metadata": {},
     "output_type": "execute_result"
    }
   ],
   "source": [
    "(rng.random(size=(10,10))*5).max()"
   ]
  },
  {
   "cell_type": "code",
   "execution_count": 59,
   "id": "56fcf666",
   "metadata": {
    "scrolled": true
   },
   "outputs": [
    {
     "data": {
      "text/plain": [
       "array([[1.78597104, 3.70492097, 1.30026273, 0.57337528, 0.19722111],\n",
       "       [3.56303425, 3.59247664, 0.02746748, 0.9014171 , 1.90791473],\n",
       "       [3.98077995, 2.80473799, 0.43755199, 3.59492445, 1.07976928]])"
      ]
     },
     "execution_count": 59,
     "metadata": {},
     "output_type": "execute_result"
    }
   ],
   "source": [
    "arr = 5*rng.random(size=(3,5))-1\n",
    "arr"
   ]
  },
  {
   "cell_type": "code",
   "execution_count": 61,
   "id": "8d28db80",
   "metadata": {
    "scrolled": true
   },
   "outputs": [
    {
     "data": {
      "text/plain": [
       "0.027467481855156572"
      ]
     },
     "execution_count": 61,
     "metadata": {},
     "output_type": "execute_result"
    }
   ],
   "source": [
    "arr.min()"
   ]
  },
  {
   "cell_type": "code",
   "execution_count": 62,
   "id": "1f763247",
   "metadata": {
    "scrolled": true
   },
   "outputs": [
    {
     "data": {
      "text/plain": [
       "3.980779950164276"
      ]
     },
     "execution_count": 62,
     "metadata": {},
     "output_type": "execute_result"
    }
   ],
   "source": [
    "arr.max()"
   ]
  },
  {
   "cell_type": "markdown",
   "id": "8229dbd2",
   "metadata": {},
   "source": [
    "* Create a length 10 NumPy array of random numbers that follow a normal distribution with mean 2 and standard deviation 0.1."
   ]
  },
  {
   "cell_type": "markdown",
   "id": "e31f2e93",
   "metadata": {},
   "source": [
    "This is not a super important example, and I don't think it will show up in Math 9 again. I just want to show you that it exists :)"
   ]
  },
  {
   "cell_type": "code",
   "execution_count": 63,
   "id": "5fefd90a",
   "metadata": {
    "scrolled": true
   },
   "outputs": [
    {
     "name": "stdout",
     "output_type": "stream",
     "text": [
      "Help on built-in function normal:\n",
      "\n",
      "normal(...) method of numpy.random._generator.Generator instance\n",
      "    normal(loc=0.0, scale=1.0, size=None)\n",
      "    \n",
      "    Draw random samples from a normal (Gaussian) distribution.\n",
      "    \n",
      "    The probability density function of the normal distribution, first\n",
      "    derived by De Moivre and 200 years later by both Gauss and Laplace\n",
      "    independently [2]_, is often called the bell curve because of\n",
      "    its characteristic shape (see the example below).\n",
      "    \n",
      "    The normal distributions occurs often in nature.  For example, it\n",
      "    describes the commonly occurring distribution of samples influenced\n",
      "    by a large number of tiny, random disturbances, each with its own\n",
      "    unique distribution [2]_.\n",
      "    \n",
      "    Parameters\n",
      "    ----------\n",
      "    loc : float or array_like of floats\n",
      "        Mean (\"centre\") of the distribution.\n",
      "    scale : float or array_like of floats\n",
      "        Standard deviation (spread or \"width\") of the distribution. Must be\n",
      "        non-negative.\n",
      "    size : int or tuple of ints, optional\n",
      "        Output shape.  If the given shape is, e.g., ``(m, n, k)``, then\n",
      "        ``m * n * k`` samples are drawn.  If size is ``None`` (default),\n",
      "        a single value is returned if ``loc`` and ``scale`` are both scalars.\n",
      "        Otherwise, ``np.broadcast(loc, scale).size`` samples are drawn.\n",
      "    \n",
      "    Returns\n",
      "    -------\n",
      "    out : ndarray or scalar\n",
      "        Drawn samples from the parameterized normal distribution.\n",
      "    \n",
      "    See Also\n",
      "    --------\n",
      "    scipy.stats.norm : probability density function, distribution or\n",
      "        cumulative density function, etc.\n",
      "    \n",
      "    Notes\n",
      "    -----\n",
      "    The probability density for the Gaussian distribution is\n",
      "    \n",
      "    .. math:: p(x) = \\frac{1}{\\sqrt{ 2 \\pi \\sigma^2 }}\n",
      "                     e^{ - \\frac{ (x - \\mu)^2 } {2 \\sigma^2} },\n",
      "    \n",
      "    where :math:`\\mu` is the mean and :math:`\\sigma` the standard\n",
      "    deviation. The square of the standard deviation, :math:`\\sigma^2`,\n",
      "    is called the variance.\n",
      "    \n",
      "    The function has its peak at the mean, and its \"spread\" increases with\n",
      "    the standard deviation (the function reaches 0.607 times its maximum at\n",
      "    :math:`x + \\sigma` and :math:`x - \\sigma` [2]_).  This implies that\n",
      "    :meth:`normal` is more likely to return samples lying close to the\n",
      "    mean, rather than those far away.\n",
      "    \n",
      "    References\n",
      "    ----------\n",
      "    .. [1] Wikipedia, \"Normal distribution\",\n",
      "           https://en.wikipedia.org/wiki/Normal_distribution\n",
      "    .. [2] P. R. Peebles Jr., \"Central Limit Theorem\" in \"Probability,\n",
      "           Random Variables and Random Signal Principles\", 4th ed., 2001,\n",
      "           pp. 51, 51, 125.\n",
      "    \n",
      "    Examples\n",
      "    --------\n",
      "    Draw samples from the distribution:\n",
      "    \n",
      "    >>> mu, sigma = 0, 0.1 # mean and standard deviation\n",
      "    >>> s = np.random.default_rng().normal(mu, sigma, 1000)\n",
      "    \n",
      "    Verify the mean and the variance:\n",
      "    \n",
      "    >>> abs(mu - np.mean(s))\n",
      "    0.0  # may vary\n",
      "    \n",
      "    >>> abs(sigma - np.std(s, ddof=1))\n",
      "    0.0  # may vary\n",
      "    \n",
      "    Display the histogram of the samples, along with\n",
      "    the probability density function:\n",
      "    \n",
      "    >>> import matplotlib.pyplot as plt\n",
      "    >>> count, bins, ignored = plt.hist(s, 30, density=True)\n",
      "    >>> plt.plot(bins, 1/(sigma * np.sqrt(2 * np.pi)) *\n",
      "    ...                np.exp( - (bins - mu)**2 / (2 * sigma**2) ),\n",
      "    ...          linewidth=2, color='r')\n",
      "    >>> plt.show()\n",
      "    \n",
      "    Two-by-four array of samples from N(3, 6.25):\n",
      "    \n",
      "    >>> np.random.default_rng().normal(3, 2.5, size=(2, 4))\n",
      "    array([[-4.49401501,  4.00950034, -1.81814867,  7.29718677],   # random\n",
      "           [ 0.39924804,  4.68456316,  4.99394529,  4.84057254]])  # random\n",
      "\n"
     ]
    }
   ],
   "source": [
    "help(rng.normal)"
   ]
  },
  {
   "cell_type": "code",
   "execution_count": 64,
   "id": "bec570c8",
   "metadata": {
    "scrolled": true
   },
   "outputs": [
    {
     "data": {
      "text/plain": [
       "array([1.82664918, 1.97436597, 2.05699535, 1.97866478, 2.01276595,\n",
       "       2.04099315, 2.08980008, 2.03800412, 1.83449811, 1.83349105])"
      ]
     },
     "execution_count": 64,
     "metadata": {},
     "output_type": "execute_result"
    }
   ],
   "source": [
    "rng.normal(2,0.1,size=10)"
   ]
  },
  {
   "cell_type": "markdown",
   "id": "7e376792",
   "metadata": {},
   "source": [
    "### Changing Rows and Columns"
   ]
  },
  {
   "cell_type": "markdown",
   "id": "9cfd6f13",
   "metadata": {},
   "source": [
    "__Goal:__ Modify rows and columns of NumPy arrays."
   ]
  },
  {
   "cell_type": "code",
   "execution_count": 65,
   "id": "e9d55f29",
   "metadata": {
    "scrolled": true
   },
   "outputs": [],
   "source": [
    "import numpy as np"
   ]
  },
  {
   "cell_type": "code",
   "execution_count": 66,
   "id": "a162f110",
   "metadata": {
    "scrolled": true
   },
   "outputs": [
    {
     "data": {
      "text/plain": [
       "array([[0, 0, 0, 0],\n",
       "       [1, 1, 1, 1],\n",
       "       [2, 2, 2, 2],\n",
       "       [3, 3, 3, 3]])"
      ]
     },
     "execution_count": 66,
     "metadata": {},
     "output_type": "execute_result"
    }
   ],
   "source": [
    "arr = np.zeros((4,4),dtype=int)\n",
    "for i in range(4):\n",
    "    arr[i] = i\n",
    "arr"
   ]
  },
  {
   "cell_type": "markdown",
   "id": "0d63ed69",
   "metadata": {},
   "source": [
    "Recall, this is how we can access a single row from `arr`:"
   ]
  },
  {
   "cell_type": "code",
   "execution_count": 67,
   "id": "da1df502",
   "metadata": {
    "scrolled": true
   },
   "outputs": [
    {
     "data": {
      "text/plain": [
       "array([2, 2, 2, 2])"
      ]
     },
     "execution_count": 67,
     "metadata": {},
     "output_type": "execute_result"
    }
   ],
   "source": [
    "arr[2]"
   ]
  },
  {
   "cell_type": "markdown",
   "id": "6d8b0a6c",
   "metadata": {},
   "source": [
    "Let's say I want to set the second row equal to 9:"
   ]
  },
  {
   "cell_type": "code",
   "execution_count": 68,
   "id": "403e90e7",
   "metadata": {
    "scrolled": true
   },
   "outputs": [
    {
     "data": {
      "text/plain": [
       "array([[0, 0, 0, 0],\n",
       "       [1, 1, 1, 1],\n",
       "       [9, 9, 9, 9],\n",
       "       [3, 3, 3, 3]])"
      ]
     },
     "execution_count": 68,
     "metadata": {},
     "output_type": "execute_result"
    }
   ],
   "source": [
    "arr[2] = 9\n",
    "arr"
   ]
  },
  {
   "cell_type": "markdown",
   "id": "3e4ae57f",
   "metadata": {},
   "source": [
    "What if I wanted to change the 2nd column instead?"
   ]
  },
  {
   "cell_type": "code",
   "execution_count": 69,
   "id": "b2cf46c2",
   "metadata": {
    "scrolled": true
   },
   "outputs": [
    {
     "data": {
      "text/plain": [
       "array([[ 0,  0, -5,  0],\n",
       "       [ 1,  1, -5,  1],\n",
       "       [ 9,  9, -5,  9],\n",
       "       [ 3,  3, -5,  3]])"
      ]
     },
     "execution_count": 69,
     "metadata": {},
     "output_type": "execute_result"
    }
   ],
   "source": [
    "arr[:,2] = -5\n",
    "arr"
   ]
  },
  {
   "cell_type": "markdown",
   "id": "bc5f6afd",
   "metadata": {},
   "source": [
    "Here's another way of changing the 2nd row. It's just a syntax difference."
   ]
  },
  {
   "cell_type": "code",
   "execution_count": 70,
   "id": "4467dd61",
   "metadata": {
    "scrolled": true
   },
   "outputs": [
    {
     "data": {
      "text/plain": [
       "array([[ 0,  0, -5,  0],\n",
       "       [ 1,  1, -5,  1],\n",
       "       [15, 15, 15, 15],\n",
       "       [ 3,  3, -5,  3]])"
      ]
     },
     "execution_count": 70,
     "metadata": {},
     "output_type": "execute_result"
    }
   ],
   "source": [
    "arr[2,:] = 15\n",
    "arr"
   ]
  },
  {
   "cell_type": "code",
   "execution_count": 71,
   "id": "b0a07d1b",
   "metadata": {
    "scrolled": true
   },
   "outputs": [],
   "source": [
    "v = arr[:,2]"
   ]
  },
  {
   "cell_type": "code",
   "execution_count": 72,
   "id": "4d60e93a",
   "metadata": {
    "scrolled": true
   },
   "outputs": [
    {
     "data": {
      "text/plain": [
       "(4,)"
      ]
     },
     "execution_count": 72,
     "metadata": {},
     "output_type": "execute_result"
    }
   ],
   "source": [
    "v.shape"
   ]
  },
  {
   "cell_type": "markdown",
   "id": "c5f1c554",
   "metadata": {},
   "source": [
    "You should understand this dimension as saying `v` is a 1-dimensional NumPy array of length 4."
   ]
  },
  {
   "cell_type": "code",
   "execution_count": 73,
   "id": "829e5fe7",
   "metadata": {
    "scrolled": true
   },
   "outputs": [
    {
     "data": {
      "text/plain": [
       "(4,)"
      ]
     },
     "execution_count": 73,
     "metadata": {},
     "output_type": "execute_result"
    }
   ],
   "source": [
    "arr[3].shape"
   ]
  },
  {
   "cell_type": "markdown",
   "id": "e7aeb5b3",
   "metadata": {},
   "source": [
    "What do you think will happen in this next line?"
   ]
  },
  {
   "cell_type": "code",
   "execution_count": 74,
   "id": "5762de12",
   "metadata": {
    "scrolled": true
   },
   "outputs": [
    {
     "ename": "ValueError",
     "evalue": "could not broadcast input array from shape (2,) into shape (4,)",
     "output_type": "error",
     "traceback": [
      "\u001b[0;31m---------------------------------------------------------------------------\u001b[0m",
      "\u001b[0;31mValueError\u001b[0m                                Traceback (most recent call last)",
      "Input \u001b[0;32mIn [74]\u001b[0m, in \u001b[0;36m<cell line: 1>\u001b[0;34m()\u001b[0m\n\u001b[0;32m----> 1\u001b[0m arr[\u001b[38;5;241m3\u001b[39m] \u001b[38;5;241m=\u001b[39m [\u001b[38;5;241m2\u001b[39m,\u001b[38;5;241m10\u001b[39m]\n",
      "\u001b[0;31mValueError\u001b[0m: could not broadcast input array from shape (2,) into shape (4,)"
     ]
    }
   ],
   "source": [
    "arr[3] = [2,10]"
   ]
  },
  {
   "cell_type": "code",
   "execution_count": 76,
   "id": "ad5eba50",
   "metadata": {
    "scrolled": true
   },
   "outputs": [
    {
     "data": {
      "text/plain": [
       "array([[ 0,  0, -5,  0],\n",
       "       [ 1,  1, -5,  1],\n",
       "       [15, 15, 15, 15],\n",
       "       [ 2, 10,  2, 10]])"
      ]
     },
     "execution_count": 76,
     "metadata": {},
     "output_type": "execute_result"
    }
   ],
   "source": [
    "arr[3] = [2,10,2,10]\n",
    "arr"
   ]
  },
  {
   "cell_type": "markdown",
   "id": "bb8bdf69",
   "metadata": {},
   "source": [
    "Loosely speaking, the error is telling us that `arr[3]` has 4 elements, but we're trying to only assign 2 elements."
   ]
  },
  {
   "cell_type": "code",
   "execution_count": 77,
   "id": "dbd15ab3",
   "metadata": {
    "scrolled": true
   },
   "outputs": [
    {
     "data": {
      "text/plain": [
       "array([[ 0,  0, -5,  0],\n",
       "       [ 1,  1, -5,  1],\n",
       "       [15, 15, 15, 15],\n",
       "       [ 2, 10,  2, 10]])"
      ]
     },
     "execution_count": 77,
     "metadata": {},
     "output_type": "execute_result"
    }
   ],
   "source": [
    "arr[:] #Take everything in arr"
   ]
  },
  {
   "cell_type": "markdown",
   "id": "cf252d6d",
   "metadata": {},
   "source": [
    "Again, this works the way it does because of _broadcasting_. We will see the the details on Wednesday."
   ]
  },
  {
   "cell_type": "code",
   "execution_count": 78,
   "id": "0698c751",
   "metadata": {
    "scrolled": true
   },
   "outputs": [
    {
     "data": {
      "text/plain": [
       "array([[1, 3, 4, 7],\n",
       "       [1, 3, 4, 7],\n",
       "       [1, 3, 4, 7],\n",
       "       [1, 3, 4, 7]])"
      ]
     },
     "execution_count": 78,
     "metadata": {},
     "output_type": "execute_result"
    }
   ],
   "source": [
    "arr[:] = [1,3,4,7]\n",
    "arr"
   ]
  },
  {
   "cell_type": "code",
   "execution_count": 79,
   "id": "18cc9c79",
   "metadata": {
    "scrolled": true
   },
   "outputs": [
    {
     "data": {
      "text/plain": [
       "(4, 4)"
      ]
     },
     "execution_count": 79,
     "metadata": {},
     "output_type": "execute_result"
    }
   ],
   "source": [
    "arr.shape"
   ]
  },
  {
   "cell_type": "code",
   "execution_count": 80,
   "id": "83246ec2",
   "metadata": {
    "scrolled": true
   },
   "outputs": [
    {
     "data": {
      "text/plain": [
       "(4,)"
      ]
     },
     "execution_count": 80,
     "metadata": {},
     "output_type": "execute_result"
    }
   ],
   "source": [
    "np.array([1,3,4,7]).shape"
   ]
  },
  {
   "cell_type": "markdown",
   "id": "6807eeda",
   "metadata": {},
   "source": [
    "If I wanted this to be broadcasted differently, I could change the shape."
   ]
  },
  {
   "cell_type": "code",
   "execution_count": 81,
   "id": "e08a732c",
   "metadata": {
    "scrolled": true
   },
   "outputs": [],
   "source": [
    "v = np.array([1,3,4,7]).reshape(4,1)"
   ]
  },
  {
   "cell_type": "code",
   "execution_count": 82,
   "id": "f3e7890f",
   "metadata": {
    "scrolled": true
   },
   "outputs": [
    {
     "data": {
      "text/plain": [
       "array([[1, 1, 1, 1],\n",
       "       [3, 3, 3, 3],\n",
       "       [4, 4, 4, 4],\n",
       "       [7, 7, 7, 7]])"
      ]
     },
     "execution_count": 82,
     "metadata": {},
     "output_type": "execute_result"
    }
   ],
   "source": [
    "arr[:] = v\n",
    "arr"
   ]
  },
  {
   "cell_type": "code",
   "execution_count": 83,
   "id": "2d8085a9",
   "metadata": {
    "scrolled": true
   },
   "outputs": [
    {
     "data": {
      "text/plain": [
       "array([[0, 0, 0, 0, 0],\n",
       "       [1, 1, 1, 1, 1],\n",
       "       [2, 2, 2, 2, 2],\n",
       "       [3, 3, 3, 3, 3],\n",
       "       [4, 4, 4, 4, 4]])"
      ]
     },
     "execution_count": 83,
     "metadata": {},
     "output_type": "execute_result"
    }
   ],
   "source": [
    "arr = np.zeros((5,5),dtype=int)\n",
    "for i in range(5):\n",
    "    arr[i] = i\n",
    "arr"
   ]
  },
  {
   "cell_type": "markdown",
   "id": "b07e30c6",
   "metadata": {},
   "source": [
    "Let's see how we could create this same array, but using broadcasting instead of a for-loop."
   ]
  },
  {
   "cell_type": "code",
   "execution_count": 84,
   "id": "79952708",
   "metadata": {
    "scrolled": true
   },
   "outputs": [],
   "source": [
    "arr = np.zeros((5,5),dtype=int)"
   ]
  },
  {
   "cell_type": "code",
   "execution_count": 85,
   "id": "a933a021",
   "metadata": {
    "scrolled": true
   },
   "outputs": [
    {
     "data": {
      "text/plain": [
       "array([[0, 1, 2, 3, 4],\n",
       "       [0, 1, 2, 3, 4],\n",
       "       [0, 1, 2, 3, 4],\n",
       "       [0, 1, 2, 3, 4],\n",
       "       [0, 1, 2, 3, 4]])"
      ]
     },
     "execution_count": 85,
     "metadata": {},
     "output_type": "execute_result"
    }
   ],
   "source": [
    "arr[:] = np.arange(5)\n",
    "arr"
   ]
  },
  {
   "cell_type": "markdown",
   "id": "0b6539eb",
   "metadata": {},
   "source": [
    "There's two ways we could fix this.\n",
    "* Just take matrix transpose\n",
    "* Reshape `np.arange(5)`"
   ]
  },
  {
   "cell_type": "code",
   "execution_count": 86,
   "id": "f9a2859d",
   "metadata": {
    "scrolled": true
   },
   "outputs": [
    {
     "data": {
      "text/plain": [
       "array([[0, 0, 0, 0, 0],\n",
       "       [1, 1, 1, 1, 1],\n",
       "       [2, 2, 2, 2, 2],\n",
       "       [3, 3, 3, 3, 3],\n",
       "       [4, 4, 4, 4, 4]])"
      ]
     },
     "execution_count": 86,
     "metadata": {},
     "output_type": "execute_result"
    }
   ],
   "source": [
    "arr.T"
   ]
  },
  {
   "cell_type": "code",
   "execution_count": 87,
   "id": "e468873a",
   "metadata": {
    "scrolled": true
   },
   "outputs": [
    {
     "data": {
      "text/plain": [
       "array([[0],\n",
       "       [1],\n",
       "       [2],\n",
       "       [3],\n",
       "       [4]])"
      ]
     },
     "execution_count": 87,
     "metadata": {},
     "output_type": "execute_result"
    }
   ],
   "source": [
    "w = np.arange(5).reshape((5,1))\n",
    "w"
   ]
  },
  {
   "cell_type": "code",
   "execution_count": 88,
   "id": "2add607d",
   "metadata": {
    "scrolled": true
   },
   "outputs": [
    {
     "data": {
      "text/plain": [
       "array([[0, 0, 0, 0, 0],\n",
       "       [1, 1, 1, 1, 1],\n",
       "       [2, 2, 2, 2, 2],\n",
       "       [3, 3, 3, 3, 3],\n",
       "       [4, 4, 4, 4, 4]])"
      ]
     },
     "execution_count": 88,
     "metadata": {},
     "output_type": "execute_result"
    }
   ],
   "source": [
    "arr[:] = w\n",
    "arr"
   ]
  },
  {
   "cell_type": "markdown",
   "id": "afefeff7",
   "metadata": {},
   "source": [
    "We can use `-1` to get the reshaping to work, without having to think too hard about the dimensions:"
   ]
  },
  {
   "cell_type": "code",
   "execution_count": 89,
   "id": "718327d8",
   "metadata": {
    "scrolled": true
   },
   "outputs": [
    {
     "data": {
      "text/plain": [
       "array([[0, 0, 0, 0, 0],\n",
       "       [1, 1, 1, 1, 1],\n",
       "       [2, 2, 2, 2, 2],\n",
       "       [3, 3, 3, 3, 3],\n",
       "       [4, 4, 4, 4, 4]])"
      ]
     },
     "execution_count": 89,
     "metadata": {},
     "output_type": "execute_result"
    }
   ],
   "source": [
    "arr[:] = np.arange(5).reshape((-1,1))\n",
    "arr"
   ]
  },
  {
   "cell_type": "markdown",
   "id": "88df2175",
   "metadata": {},
   "source": [
    "The `-1` means \"put whatever dimension you need to make it work\". Let's see one more example with this `-1`..."
   ]
  },
  {
   "cell_type": "code",
   "execution_count": 90,
   "id": "25117842",
   "metadata": {
    "scrolled": true
   },
   "outputs": [
    {
     "data": {
      "text/plain": [
       "array([0, 0, 0, 0, 0, 1, 1, 1, 1, 1, 2, 2, 2, 2, 2, 3, 3, 3, 3, 3, 4, 4,\n",
       "       4, 4, 4])"
      ]
     },
     "execution_count": 90,
     "metadata": {},
     "output_type": "execute_result"
    }
   ],
   "source": [
    "arr.reshape(-1)"
   ]
  },
  {
   "cell_type": "code",
   "execution_count": 91,
   "id": "8aab9754",
   "metadata": {
    "scrolled": true
   },
   "outputs": [
    {
     "data": {
      "text/plain": [
       "(25,)"
      ]
     },
     "execution_count": 91,
     "metadata": {},
     "output_type": "execute_result"
    }
   ],
   "source": [
    "arr.reshape(-1).shape"
   ]
  },
  {
   "cell_type": "markdown",
   "id": "a109a4fa",
   "metadata": {},
   "source": [
    "The `-1` in this past example says \"turn `arr` into a single dimension NumPy array, put whatever number you need to make this work\"."
   ]
  }
 ],
 "metadata": {
  "kernelspec": {
   "display_name": "Python 3 (ipykernel)",
   "language": "python",
   "name": "python3"
  },
  "language_info": {
   "codemirror_mode": {
    "name": "ipython",
    "version": 3
   },
   "file_extension": ".py",
   "mimetype": "text/x-python",
   "name": "python",
   "nbconvert_exporter": "python",
   "pygments_lexer": "ipython3",
   "version": "3.9.13"
  }
 },
 "nbformat": 4,
 "nbformat_minor": 5
}
