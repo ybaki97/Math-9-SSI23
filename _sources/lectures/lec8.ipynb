{
 "cells": [
  {
   "cell_type": "markdown",
   "id": "042e82b3",
   "metadata": {},
   "source": [
    "# Lecture 8: July 12th, 2023\n",
    "\n",
    "__Week 3 Reminders:__\n",
    " - Take MATLAB checkpoint quizzes, even if you are waiting on the grades for GOMa4 and GOMa5 from last week. The checkpoints can only help your grade.\n",
    " - EO2 and GOPy2 outcome quizzes released.\n",
    " - Python Homework #1 due next Wednesday. Start early!"
   ]
  },
  {
   "cell_type": "markdown",
   "id": "bb32cdd5",
   "metadata": {},
   "source": [
    "## Getting Started with Jupyter Notebook"
   ]
  },
  {
   "cell_type": "markdown",
   "id": "0ef43e25",
   "metadata": {},
   "source": [
    "There are two main types of cells in Jupyter notebook. This is an example of a markdown cell. All this means, is that this cell does not run code. It is used for text, images, links, etc.\n",
    "\n",
    " - To create a new cell, press `esc` and then `b` for a cell below, or `a` for a cell above\n",
    " - To toggle between code cells and markdown cells, press `m` for markdown, or `y` for code."
   ]
  },
  {
   "cell_type": "code",
   "execution_count": 3,
   "id": "ac3f1dac",
   "metadata": {
    "scrolled": true
   },
   "outputs": [
    {
     "data": {
      "text/plain": [
       "4"
      ]
     },
     "execution_count": 3,
     "metadata": {},
     "output_type": "execute_result"
    }
   ],
   "source": [
    "#this is an example of a code cell\n",
    "#notice that I'm writing this is a comment\n",
    "2+2"
   ]
  },
  {
   "cell_type": "markdown",
   "id": "51e19884",
   "metadata": {},
   "source": [
    "If you're familiar with HTML, many of the same tricks work here. For example, here is how I could change text...\n",
    "* `__bold__` gives __bold__\n",
    "* `___it___` gives ___it___\n",
    "* `<font color = red> RED </font>` gives <font color = red> RED </font>"
   ]
  },
  {
   "cell_type": "markdown",
   "id": "1fdd9cf6",
   "metadata": {},
   "source": [
    "If you're familiar with LaTeX, you can typeset math by wrapping your code in $$...\n",
    " - `$\\sin(x)$` gives $\\sin(x)$\n",
    " - `$\\int_0^1 e^x dx$` gives $\\int_0^1 e^x dx$"
   ]
  },
  {
   "cell_type": "markdown",
   "id": "b356956c",
   "metadata": {},
   "source": [
    "## Python Data Types"
   ]
  },
  {
   "cell_type": "markdown",
   "id": "13c6f30c",
   "metadata": {},
   "source": [
    "Our first Python unit introduces a number of new data types, and a few familiar ones. It may seem that Python has an endless number of data types, but focus this week on really understanding the data types that are presented. In upcoming units, we may see less common data types that are presented once or twice, just as a way to show you that they exist."
   ]
  },
  {
   "cell_type": "markdown",
   "id": "f84ea4d8",
   "metadata": {},
   "source": [
    "### lists and strings\n",
    "Why start here? On the surface, lists and strings seem very different, but we will soon see they have many similarities..."
   ]
  },
  {
   "cell_type": "code",
   "execution_count": 6,
   "id": "5c854863",
   "metadata": {},
   "outputs": [],
   "source": [
    "s = \"Hello World\" #no error, and no output"
   ]
  },
  {
   "cell_type": "code",
   "execution_count": 8,
   "id": "de1e340d",
   "metadata": {},
   "outputs": [
    {
     "data": {
      "text/plain": [
       "str"
      ]
     },
     "execution_count": 8,
     "metadata": {},
     "output_type": "execute_result"
    }
   ],
   "source": [
    "type(s)"
   ]
  },
  {
   "cell_type": "code",
   "execution_count": 13,
   "id": "b9f8ba45",
   "metadata": {},
   "outputs": [
    {
     "name": "stdout",
     "output_type": "stream",
     "text": [
      "Hello World\n"
     ]
    }
   ],
   "source": [
    "print(s)"
   ]
  },
  {
   "cell_type": "code",
   "execution_count": 10,
   "id": "9b92045e",
   "metadata": {},
   "outputs": [
    {
     "data": {
      "text/plain": [
       "str"
      ]
     },
     "execution_count": 10,
     "metadata": {},
     "output_type": "execute_result"
    }
   ],
   "source": [
    "s2 = 'Hello World' #notice single quotes\n",
    "type(s2)"
   ]
  },
  {
   "cell_type": "code",
   "execution_count": 11,
   "id": "a2db9af5",
   "metadata": {},
   "outputs": [
    {
     "name": "stdout",
     "output_type": "stream",
     "text": [
      "Hello World\n"
     ]
    }
   ],
   "source": [
    "print(s2)"
   ]
  },
  {
   "cell_type": "markdown",
   "id": "8b3be22d",
   "metadata": {},
   "source": [
    "Single quotes and double quotes in Python have no difference. The convention is to pick one and stick to it."
   ]
  },
  {
   "cell_type": "code",
   "execution_count": 14,
   "id": "fb74a420",
   "metadata": {},
   "outputs": [],
   "source": [
    "mylist = [3,1,4,1]"
   ]
  },
  {
   "cell_type": "code",
   "execution_count": 15,
   "id": "5f690b04",
   "metadata": {},
   "outputs": [
    {
     "data": {
      "text/plain": [
       "list"
      ]
     },
     "execution_count": 15,
     "metadata": {},
     "output_type": "execute_result"
    }
   ],
   "source": [
    "type(mylist)"
   ]
  },
  {
   "cell_type": "code",
   "execution_count": 16,
   "id": "fbd2f2e4",
   "metadata": {},
   "outputs": [
    {
     "ename": "SyntaxError",
     "evalue": "invalid syntax (821188930.py, line 1)",
     "output_type": "error",
     "traceback": [
      "\u001b[0;36m  Input \u001b[0;32mIn [16]\u001b[0;36m\u001b[0m\n\u001b[0;31m    mylist2 = [3 1 4 1]\u001b[0m\n\u001b[0m                 ^\u001b[0m\n\u001b[0;31mSyntaxError\u001b[0m\u001b[0;31m:\u001b[0m invalid syntax\n"
     ]
    }
   ],
   "source": [
    "mylist2 = [3 1 4 1] #Notice, I have to use commas"
   ]
  },
  {
   "cell_type": "code",
   "execution_count": 17,
   "id": "bdcde684",
   "metadata": {},
   "outputs": [
    {
     "data": {
      "text/plain": [
       "[3, 1, 4, 1]"
      ]
     },
     "execution_count": 17,
     "metadata": {},
     "output_type": "execute_result"
    }
   ],
   "source": [
    "mylist"
   ]
  },
  {
   "cell_type": "markdown",
   "id": "7cd4c3e1",
   "metadata": {},
   "source": [
    "Here is a big difference from our MATLAB unit: <font color = red> Indexing in Python starts at 0!</font>"
   ]
  },
  {
   "cell_type": "code",
   "execution_count": 18,
   "id": "5cc532c1",
   "metadata": {},
   "outputs": [
    {
     "data": {
      "text/plain": [
       "3"
      ]
     },
     "execution_count": 18,
     "metadata": {},
     "output_type": "execute_result"
    }
   ],
   "source": [
    "mylist[0] "
   ]
  },
  {
   "cell_type": "code",
   "execution_count": 19,
   "id": "bd5c214e",
   "metadata": {},
   "outputs": [
    {
     "data": {
      "text/plain": [
       "1"
      ]
     },
     "execution_count": 19,
     "metadata": {},
     "output_type": "execute_result"
    }
   ],
   "source": [
    "mylist[1]"
   ]
  },
  {
   "cell_type": "code",
   "execution_count": 20,
   "id": "150a367d",
   "metadata": {},
   "outputs": [
    {
     "data": {
      "text/plain": [
       "4"
      ]
     },
     "execution_count": 20,
     "metadata": {},
     "output_type": "execute_result"
    }
   ],
   "source": [
    "len(mylist)"
   ]
  },
  {
   "cell_type": "code",
   "execution_count": 21,
   "id": "d29c7f2e",
   "metadata": {},
   "outputs": [
    {
     "data": {
      "text/plain": [
       "'Hello World'"
      ]
     },
     "execution_count": 21,
     "metadata": {},
     "output_type": "execute_result"
    }
   ],
   "source": [
    "s"
   ]
  },
  {
   "cell_type": "code",
   "execution_count": 22,
   "id": "94e0dea1",
   "metadata": {},
   "outputs": [
    {
     "data": {
      "text/plain": [
       "'H'"
      ]
     },
     "execution_count": 22,
     "metadata": {},
     "output_type": "execute_result"
    }
   ],
   "source": [
    "s[0]"
   ]
  },
  {
   "cell_type": "code",
   "execution_count": 23,
   "id": "d84d5240",
   "metadata": {},
   "outputs": [
    {
     "data": {
      "text/plain": [
       "'e'"
      ]
     },
     "execution_count": 23,
     "metadata": {},
     "output_type": "execute_result"
    }
   ],
   "source": [
    "s[1]"
   ]
  },
  {
   "cell_type": "code",
   "execution_count": 25,
   "id": "cd1c06e2",
   "metadata": {},
   "outputs": [
    {
     "data": {
      "text/plain": [
       "11"
      ]
     },
     "execution_count": 25,
     "metadata": {},
     "output_type": "execute_result"
    }
   ],
   "source": [
    "len(s)"
   ]
  },
  {
   "cell_type": "markdown",
   "id": "525ba270",
   "metadata": {},
   "source": [
    "What goes wrong in this next example is that `s` ___does___ have 11 elements, but they are indexed from 0 to 10. There is no index 11. Notice also that the space counts as an element."
   ]
  },
  {
   "cell_type": "code",
   "execution_count": 24,
   "id": "f606e5ad",
   "metadata": {},
   "outputs": [
    {
     "ename": "IndexError",
     "evalue": "string index out of range",
     "output_type": "error",
     "traceback": [
      "\u001b[0;31m---------------------------------------------------------------------------\u001b[0m",
      "\u001b[0;31mIndexError\u001b[0m                                Traceback (most recent call last)",
      "Input \u001b[0;32mIn [24]\u001b[0m, in \u001b[0;36m<cell line: 1>\u001b[0;34m()\u001b[0m\n\u001b[0;32m----> 1\u001b[0m \u001b[43ms\u001b[49m\u001b[43m[\u001b[49m\u001b[38;5;28;43mlen\u001b[39;49m\u001b[43m(\u001b[49m\u001b[43ms\u001b[49m\u001b[43m)\u001b[49m\u001b[43m]\u001b[49m\n",
      "\u001b[0;31mIndexError\u001b[0m: string index out of range"
     ]
    }
   ],
   "source": [
    "s[len(s)] #s[11]"
   ]
  },
  {
   "cell_type": "markdown",
   "id": "fef75001",
   "metadata": {},
   "source": [
    "So what if I actually did want to get the last element? Here are a few different ways."
   ]
  },
  {
   "cell_type": "code",
   "execution_count": 26,
   "id": "ab0ff174",
   "metadata": {},
   "outputs": [
    {
     "data": {
      "text/plain": [
       "'d'"
      ]
     },
     "execution_count": 26,
     "metadata": {},
     "output_type": "execute_result"
    }
   ],
   "source": [
    "s[len(s)-1]"
   ]
  },
  {
   "cell_type": "code",
   "execution_count": 27,
   "id": "5bb0a9be",
   "metadata": {},
   "outputs": [
    {
     "data": {
      "text/plain": [
       "'Hello World'"
      ]
     },
     "execution_count": 27,
     "metadata": {},
     "output_type": "execute_result"
    }
   ],
   "source": [
    "s"
   ]
  },
  {
   "cell_type": "code",
   "execution_count": 31,
   "id": "eb35db8c",
   "metadata": {},
   "outputs": [
    {
     "data": {
      "text/plain": [
       "'d'"
      ]
     },
     "execution_count": 31,
     "metadata": {},
     "output_type": "execute_result"
    }
   ],
   "source": [
    "s[-1] #this gives the last element! Start counting backwards at -1"
   ]
  },
  {
   "cell_type": "code",
   "execution_count": 29,
   "id": "44fa25a8",
   "metadata": {},
   "outputs": [
    {
     "data": {
      "text/plain": [
       "'l'"
      ]
     },
     "execution_count": 29,
     "metadata": {},
     "output_type": "execute_result"
    }
   ],
   "source": [
    "s[-2]"
   ]
  },
  {
   "cell_type": "code",
   "execution_count": 30,
   "id": "09bac014",
   "metadata": {},
   "outputs": [
    {
     "data": {
      "text/plain": [
       "'r'"
      ]
     },
     "execution_count": 30,
     "metadata": {},
     "output_type": "execute_result"
    }
   ],
   "source": [
    "s[-3]"
   ]
  },
  {
   "cell_type": "code",
   "execution_count": 32,
   "id": "04dbb491",
   "metadata": {},
   "outputs": [
    {
     "data": {
      "text/plain": [
       "[3, 1, 4, 1]"
      ]
     },
     "execution_count": 32,
     "metadata": {},
     "output_type": "execute_result"
    }
   ],
   "source": [
    "mylist"
   ]
  },
  {
   "cell_type": "code",
   "execution_count": 33,
   "id": "73a92f88",
   "metadata": {},
   "outputs": [
    {
     "data": {
      "text/plain": [
       "1"
      ]
     },
     "execution_count": 33,
     "metadata": {},
     "output_type": "execute_result"
    }
   ],
   "source": [
    "mylist[-1]"
   ]
  },
  {
   "cell_type": "code",
   "execution_count": 34,
   "id": "d299a113",
   "metadata": {},
   "outputs": [
    {
     "data": {
      "text/plain": [
       "4"
      ]
     },
     "execution_count": 34,
     "metadata": {},
     "output_type": "execute_result"
    }
   ],
   "source": [
    "mylist[-2]"
   ]
  },
  {
   "cell_type": "markdown",
   "id": "342d0819",
   "metadata": {},
   "source": [
    "### Slicing\n",
    "Slicing should remind you a lot of the colon command from MATLAB. Indeed, it is quite similar, but with a few key syntax differences."
   ]
  },
  {
   "cell_type": "code",
   "execution_count": 35,
   "id": "be6c4486",
   "metadata": {},
   "outputs": [
    {
     "data": {
      "text/plain": [
       "'Hello World'"
      ]
     },
     "execution_count": 35,
     "metadata": {},
     "output_type": "execute_result"
    }
   ],
   "source": [
    "s"
   ]
  },
  {
   "cell_type": "code",
   "execution_count": 36,
   "id": "06ab2042",
   "metadata": {},
   "outputs": [
    {
     "data": {
      "text/plain": [
       "'ell'"
      ]
     },
     "execution_count": 36,
     "metadata": {},
     "output_type": "execute_result"
    }
   ],
   "source": [
    "#Start at the entry of index 1, and go up to, but don't include\n",
    "#the entry of index 4\n",
    "s[1:4]"
   ]
  },
  {
   "cell_type": "markdown",
   "id": "246ff56f",
   "metadata": {},
   "source": [
    "Almost always in Python you include the left endpoint, and do not include the right endpoint."
   ]
  },
  {
   "cell_type": "code",
   "execution_count": 37,
   "id": "5f71376f",
   "metadata": {},
   "outputs": [
    {
     "ename": "SyntaxError",
     "evalue": "invalid syntax (3406753339.py, line 1)",
     "output_type": "error",
     "traceback": [
      "\u001b[0;36m  Input \u001b[0;32mIn [37]\u001b[0;36m\u001b[0m\n\u001b[0;31m    s(:5) #Take the first 5 elements\u001b[0m\n\u001b[0m      ^\u001b[0m\n\u001b[0;31mSyntaxError\u001b[0m\u001b[0;31m:\u001b[0m invalid syntax\n"
     ]
    }
   ],
   "source": [
    "s(:5) #Take the first 5 elements"
   ]
  },
  {
   "cell_type": "markdown",
   "id": "9b0c1249",
   "metadata": {},
   "source": [
    "Yasmeen made a syntax mistake above! She is too used to MATLAB :("
   ]
  },
  {
   "cell_type": "code",
   "execution_count": 38,
   "id": "bf4e705e",
   "metadata": {},
   "outputs": [
    {
     "data": {
      "text/plain": [
       "'Hello'"
      ]
     },
     "execution_count": 38,
     "metadata": {},
     "output_type": "execute_result"
    }
   ],
   "source": [
    "s[:5]"
   ]
  },
  {
   "cell_type": "code",
   "execution_count": 39,
   "id": "f93227d8",
   "metadata": {},
   "outputs": [
    {
     "data": {
      "text/plain": [
       "'Hello'"
      ]
     },
     "execution_count": 39,
     "metadata": {},
     "output_type": "execute_result"
    }
   ],
   "source": [
    "s[0:5]"
   ]
  },
  {
   "cell_type": "code",
   "execution_count": 40,
   "id": "1b856300",
   "metadata": {},
   "outputs": [
    {
     "data": {
      "text/plain": [
       "'lo World'"
      ]
     },
     "execution_count": 40,
     "metadata": {},
     "output_type": "execute_result"
    }
   ],
   "source": [
    "s[3:] #start at index 3, and go all the way to the end"
   ]
  },
  {
   "cell_type": "markdown",
   "id": "3436bc9b",
   "metadata": {},
   "source": [
    "All of this slicing works exactly the same for lists."
   ]
  },
  {
   "cell_type": "code",
   "execution_count": 41,
   "id": "1f2966c6",
   "metadata": {},
   "outputs": [
    {
     "name": "stdout",
     "output_type": "stream",
     "text": [
      "Hello World\n"
     ]
    },
    {
     "data": {
      "text/plain": [
       "'el '"
      ]
     },
     "execution_count": 41,
     "metadata": {},
     "output_type": "execute_result"
    }
   ],
   "source": [
    "#Start at index 1, go up to, but don't include index 7,\n",
    "#count by 2\n",
    "print(s)\n",
    "s[1:7:2]"
   ]
  },
  {
   "cell_type": "code",
   "execution_count": 42,
   "id": "8ddba7a0",
   "metadata": {},
   "outputs": [
    {
     "name": "stdout",
     "output_type": "stream",
     "text": [
      "Hello World\n"
     ]
    },
    {
     "data": {
      "text/plain": [
       "'el o'"
      ]
     },
     "execution_count": 42,
     "metadata": {},
     "output_type": "execute_result"
    }
   ],
   "source": [
    "print(s)\n",
    "s[1:8:2]"
   ]
  },
  {
   "cell_type": "code",
   "execution_count": 43,
   "id": "1619cf40",
   "metadata": {},
   "outputs": [
    {
     "name": "stdout",
     "output_type": "stream",
     "text": [
      "Hello World\n"
     ]
    },
    {
     "data": {
      "text/plain": [
       "'HloWrd'"
      ]
     },
     "execution_count": 43,
     "metadata": {},
     "output_type": "execute_result"
    }
   ],
   "source": [
    "#Start at index 0, go to the end, count by 2\n",
    "print(s)\n",
    "s[::2]"
   ]
  },
  {
   "cell_type": "code",
   "execution_count": 44,
   "id": "6a0c4325",
   "metadata": {},
   "outputs": [
    {
     "data": {
      "text/plain": [
       "'el ol'"
      ]
     },
     "execution_count": 44,
     "metadata": {},
     "output_type": "execute_result"
    }
   ],
   "source": [
    "#What if we want the complement?\n",
    "s[1::2]"
   ]
  },
  {
   "cell_type": "markdown",
   "id": "32bbaff0",
   "metadata": {},
   "source": [
    "### lists, tuples, and sets\n",
    "We've already seen lists, but now we contrast them with two other data types that seem very similar, at least on the surface."
   ]
  },
  {
   "cell_type": "code",
   "execution_count": 138,
   "id": "27dfffaf",
   "metadata": {},
   "outputs": [],
   "source": [
    "mylist = [3,1,4,1]\n",
    "mytuple = (3,1,4,1)\n",
    "myset = {3,1,4,1}"
   ]
  },
  {
   "cell_type": "code",
   "execution_count": 46,
   "id": "da84a947",
   "metadata": {},
   "outputs": [
    {
     "data": {
      "text/plain": [
       "list"
      ]
     },
     "execution_count": 46,
     "metadata": {},
     "output_type": "execute_result"
    }
   ],
   "source": [
    "type(mylist)"
   ]
  },
  {
   "cell_type": "code",
   "execution_count": 47,
   "id": "93ffb67f",
   "metadata": {},
   "outputs": [
    {
     "data": {
      "text/plain": [
       "tuple"
      ]
     },
     "execution_count": 47,
     "metadata": {},
     "output_type": "execute_result"
    }
   ],
   "source": [
    "type(mytuple)"
   ]
  },
  {
   "cell_type": "code",
   "execution_count": 48,
   "id": "8ce85df4",
   "metadata": {},
   "outputs": [
    {
     "data": {
      "text/plain": [
       "set"
      ]
     },
     "execution_count": 48,
     "metadata": {},
     "output_type": "execute_result"
    }
   ],
   "source": [
    "type(myset)"
   ]
  },
  {
   "cell_type": "markdown",
   "id": "174be790",
   "metadata": {},
   "source": [
    "Set is really like sets in the Math 13 sense...\n",
    " - No duplicates\n",
    " - No ordering"
   ]
  },
  {
   "cell_type": "code",
   "execution_count": 139,
   "id": "70568112",
   "metadata": {},
   "outputs": [
    {
     "data": {
      "text/plain": [
       "{1, 3, 4}"
      ]
     },
     "execution_count": 139,
     "metadata": {},
     "output_type": "execute_result"
    }
   ],
   "source": [
    "#no duplicates\n",
    "myset"
   ]
  },
  {
   "cell_type": "code",
   "execution_count": 50,
   "id": "ce4ced41",
   "metadata": {},
   "outputs": [
    {
     "ename": "TypeError",
     "evalue": "'set' object is not subscriptable",
     "output_type": "error",
     "traceback": [
      "\u001b[0;31m---------------------------------------------------------------------------\u001b[0m",
      "\u001b[0;31mTypeError\u001b[0m                                 Traceback (most recent call last)",
      "Input \u001b[0;32mIn [50]\u001b[0m, in \u001b[0;36m<cell line: 1>\u001b[0;34m()\u001b[0m\n\u001b[0;32m----> 1\u001b[0m \u001b[43mmyset\u001b[49m\u001b[43m[\u001b[49m\u001b[38;5;241;43m0\u001b[39;49m\u001b[43m]\u001b[49m\n",
      "\u001b[0;31mTypeError\u001b[0m: 'set' object is not subscriptable"
     ]
    }
   ],
   "source": [
    "#no order\n",
    "myset[0]"
   ]
  },
  {
   "cell_type": "code",
   "execution_count": 51,
   "id": "f322eb4b",
   "metadata": {},
   "outputs": [
    {
     "data": {
      "text/plain": [
       "3"
      ]
     },
     "execution_count": 51,
     "metadata": {},
     "output_type": "execute_result"
    }
   ],
   "source": [
    "mytuple[0]"
   ]
  },
  {
   "cell_type": "code",
   "execution_count": 52,
   "id": "f64cf45c",
   "metadata": {},
   "outputs": [
    {
     "data": {
      "text/plain": [
       "3"
      ]
     },
     "execution_count": 52,
     "metadata": {},
     "output_type": "execute_result"
    }
   ],
   "source": [
    "mylist[0]"
   ]
  },
  {
   "cell_type": "code",
   "execution_count": 53,
   "id": "0ce12719",
   "metadata": {},
   "outputs": [
    {
     "data": {
      "text/plain": [
       "4"
      ]
     },
     "execution_count": 53,
     "metadata": {},
     "output_type": "execute_result"
    }
   ],
   "source": [
    "len(mytuple)"
   ]
  },
  {
   "cell_type": "code",
   "execution_count": 54,
   "id": "6a01726e",
   "metadata": {},
   "outputs": [
    {
     "data": {
      "text/plain": [
       "4"
      ]
     },
     "execution_count": 54,
     "metadata": {},
     "output_type": "execute_result"
    }
   ],
   "source": [
    "len(mylist)"
   ]
  },
  {
   "cell_type": "code",
   "execution_count": 55,
   "id": "becbbe86",
   "metadata": {},
   "outputs": [
    {
     "data": {
      "text/plain": [
       "3"
      ]
     },
     "execution_count": 55,
     "metadata": {},
     "output_type": "execute_result"
    }
   ],
   "source": [
    "len(myset)"
   ]
  },
  {
   "cell_type": "markdown",
   "id": "a95cf97d",
   "metadata": {},
   "source": [
    "__Key fact:__ Lists can be changed once they are made. Lists are called ___mutable___."
   ]
  },
  {
   "cell_type": "code",
   "execution_count": 62,
   "id": "b40f27b0",
   "metadata": {},
   "outputs": [],
   "source": [
    "mylist = [3,1,4,1]"
   ]
  },
  {
   "cell_type": "code",
   "execution_count": 63,
   "id": "124c15d7",
   "metadata": {},
   "outputs": [
    {
     "data": {
      "text/plain": [
       "[3, 1, 19, 1]"
      ]
     },
     "execution_count": 63,
     "metadata": {},
     "output_type": "execute_result"
    }
   ],
   "source": [
    "mylist[2] = 19\n",
    "mylist"
   ]
  },
  {
   "cell_type": "code",
   "execution_count": 64,
   "id": "67617396",
   "metadata": {},
   "outputs": [
    {
     "data": {
      "text/plain": [
       "(3, 1, 4, 1)"
      ]
     },
     "execution_count": 64,
     "metadata": {},
     "output_type": "execute_result"
    }
   ],
   "source": [
    "mytuple"
   ]
  },
  {
   "cell_type": "code",
   "execution_count": 65,
   "id": "eb4c8e36",
   "metadata": {},
   "outputs": [
    {
     "ename": "TypeError",
     "evalue": "'tuple' object does not support item assignment",
     "output_type": "error",
     "traceback": [
      "\u001b[0;31m---------------------------------------------------------------------------\u001b[0m",
      "\u001b[0;31mTypeError\u001b[0m                                 Traceback (most recent call last)",
      "Input \u001b[0;32mIn [65]\u001b[0m, in \u001b[0;36m<cell line: 1>\u001b[0;34m()\u001b[0m\n\u001b[0;32m----> 1\u001b[0m mytuple[\u001b[38;5;241m2\u001b[39m] \u001b[38;5;241m=\u001b[39m \u001b[38;5;241m19\u001b[39m\n",
      "\u001b[0;31mTypeError\u001b[0m: 'tuple' object does not support item assignment"
     ]
    }
   ],
   "source": [
    "mytuple[2] = 19"
   ]
  },
  {
   "cell_type": "code",
   "execution_count": 66,
   "id": "bfb4a422",
   "metadata": {},
   "outputs": [
    {
     "data": {
      "text/plain": [
       "[3, 1, 19, 1, 10]"
      ]
     },
     "execution_count": 66,
     "metadata": {},
     "output_type": "execute_result"
    }
   ],
   "source": [
    "mylist.append(10)\n",
    "mylist"
   ]
  },
  {
   "cell_type": "code",
   "execution_count": 67,
   "id": "ea570a8e",
   "metadata": {},
   "outputs": [
    {
     "ename": "AttributeError",
     "evalue": "'tuple' object has no attribute 'append'",
     "output_type": "error",
     "traceback": [
      "\u001b[0;31m---------------------------------------------------------------------------\u001b[0m",
      "\u001b[0;31mAttributeError\u001b[0m                            Traceback (most recent call last)",
      "Input \u001b[0;32mIn [67]\u001b[0m, in \u001b[0;36m<cell line: 1>\u001b[0;34m()\u001b[0m\n\u001b[0;32m----> 1\u001b[0m \u001b[43mmytuple\u001b[49m\u001b[38;5;241;43m.\u001b[39;49m\u001b[43mappend\u001b[49m(\u001b[38;5;241m10\u001b[39m)\n",
      "\u001b[0;31mAttributeError\u001b[0m: 'tuple' object has no attribute 'append'"
     ]
    }
   ],
   "source": [
    "mytuple.append(10)"
   ]
  },
  {
   "cell_type": "markdown",
   "id": "a154b37a",
   "metadata": {},
   "source": [
    "After the past few examples, you might be tempted to think that list is better than tuple! Let me now convince you that this is not the case, and that these distinct data types serve distinct purposes..."
   ]
  },
  {
   "cell_type": "code",
   "execution_count": 69,
   "id": "61934f0c",
   "metadata": {},
   "outputs": [
    {
     "data": {
      "text/plain": [
       "3"
      ]
     },
     "execution_count": 69,
     "metadata": {},
     "output_type": "execute_result"
    }
   ],
   "source": [
    "newset = {3,1,(4,1)}\n",
    "len(newset) #the tuple counts as a single element."
   ]
  },
  {
   "cell_type": "code",
   "execution_count": 70,
   "id": "72f10012",
   "metadata": {},
   "outputs": [
    {
     "ename": "TypeError",
     "evalue": "unhashable type: 'list'",
     "output_type": "error",
     "traceback": [
      "\u001b[0;31m---------------------------------------------------------------------------\u001b[0m",
      "\u001b[0;31mTypeError\u001b[0m                                 Traceback (most recent call last)",
      "Input \u001b[0;32mIn [70]\u001b[0m, in \u001b[0;36m<cell line: 1>\u001b[0;34m()\u001b[0m\n\u001b[0;32m----> 1\u001b[0m newset2 \u001b[38;5;241m=\u001b[39m {\u001b[38;5;241m3\u001b[39m,\u001b[38;5;241m1\u001b[39m,[\u001b[38;5;241m4\u001b[39m,\u001b[38;5;241m1\u001b[39m]}\n",
      "\u001b[0;31mTypeError\u001b[0m: unhashable type: 'list'"
     ]
    }
   ],
   "source": [
    "newset2 = {3,1,[4,1]}"
   ]
  },
  {
   "cell_type": "markdown",
   "id": "9cfb3570",
   "metadata": {},
   "source": [
    "__Main Takeaway:__ tuples can go in a set and be keys in a dictionary, while lists cannot."
   ]
  },
  {
   "cell_type": "markdown",
   "id": "fc8eb2f1",
   "metadata": {},
   "source": [
    "### ranges and for-loops\n",
    "Our next data type is commonly used with for-loops, and should also remind you of the colon command from MATLAB."
   ]
  },
  {
   "cell_type": "code",
   "execution_count": 71,
   "id": "40fe2784",
   "metadata": {},
   "outputs": [],
   "source": [
    "mystring = \"Hello World\"\n",
    "mylist = [3,1,4,1]\n",
    "mytuple = (3,1,4,1)\n",
    "myset = {3,1,4,1}"
   ]
  },
  {
   "cell_type": "markdown",
   "id": "1a53c621",
   "metadata": {},
   "source": [
    "Here is the basic syntax for for-loops in Python. Key things to notice:\n",
    "* The `:` at the end of the first line\n",
    "* The indentation to enter the for-loop"
   ]
  },
  {
   "cell_type": "code",
   "execution_count": 72,
   "id": "3bd94ea2",
   "metadata": {},
   "outputs": [
    {
     "name": "stdout",
     "output_type": "stream",
     "text": [
      "3\n",
      "1\n",
      "4\n",
      "1\n"
     ]
    }
   ],
   "source": [
    "for x in mylist:\n",
    "    print(x)"
   ]
  },
  {
   "cell_type": "code",
   "execution_count": 74,
   "id": "5d6be389",
   "metadata": {},
   "outputs": [
    {
     "name": "stdout",
     "output_type": "stream",
     "text": [
      "H\n",
      "<class 'str'>\n",
      "1\n",
      "e\n",
      "<class 'str'>\n",
      "1\n",
      "l\n",
      "<class 'str'>\n",
      "1\n",
      "l\n",
      "<class 'str'>\n",
      "1\n",
      "o\n",
      "<class 'str'>\n",
      "1\n",
      " \n",
      "<class 'str'>\n",
      "1\n",
      "W\n",
      "<class 'str'>\n",
      "1\n",
      "o\n",
      "<class 'str'>\n",
      "1\n",
      "r\n",
      "<class 'str'>\n",
      "1\n",
      "l\n",
      "<class 'str'>\n",
      "1\n",
      "d\n",
      "<class 'str'>\n",
      "1\n"
     ]
    }
   ],
   "source": [
    "for x in mystring:\n",
    "    print(x)\n",
    "    print(type(x))\n",
    "    print(len(x))"
   ]
  },
  {
   "cell_type": "markdown",
   "id": "f0c2c192",
   "metadata": {},
   "source": [
    "Notice that whatever we take out of the indentation is not executed until after we finish the for-loop."
   ]
  },
  {
   "cell_type": "code",
   "execution_count": 75,
   "id": "06f91446",
   "metadata": {},
   "outputs": [
    {
     "name": "stdout",
     "output_type": "stream",
     "text": [
      "H\n",
      "e\n",
      "l\n",
      "l\n",
      "o\n",
      " \n",
      "W\n",
      "o\n",
      "r\n",
      "l\n",
      "d\n",
      "<class 'str'>\n",
      "1\n"
     ]
    }
   ],
   "source": [
    "for x in mystring:\n",
    "    print(x)\n",
    "\n",
    "print(type(x))\n",
    "print(len(x))"
   ]
  },
  {
   "cell_type": "code",
   "execution_count": 76,
   "id": "dc8cd898",
   "metadata": {},
   "outputs": [
    {
     "name": "stdout",
     "output_type": "stream",
     "text": [
      "3\n",
      "1\n",
      "4\n",
      "1\n"
     ]
    }
   ],
   "source": [
    "for x in mytuple:\n",
    "    print(x)"
   ]
  },
  {
   "cell_type": "code",
   "execution_count": 77,
   "id": "b41c2622",
   "metadata": {},
   "outputs": [
    {
     "name": "stdout",
     "output_type": "stream",
     "text": [
      "1\n",
      "3\n",
      "4\n"
     ]
    }
   ],
   "source": [
    "for x in myset:\n",
    "    print(x)"
   ]
  },
  {
   "cell_type": "markdown",
   "id": "55870ed1",
   "metadata": {},
   "source": [
    "Based on the above, you may be tempted to think that sets have an order. They do not! You should never base functionality of code on sets having an order."
   ]
  },
  {
   "cell_type": "code",
   "execution_count": 78,
   "id": "49295ae9",
   "metadata": {},
   "outputs": [
    {
     "name": "stdout",
     "output_type": "stream",
     "text": [
      "0\n",
      "1\n",
      "2\n",
      "3\n",
      "4\n"
     ]
    }
   ],
   "source": [
    "for i in range(5):\n",
    "    print(i)"
   ]
  },
  {
   "cell_type": "code",
   "execution_count": 79,
   "id": "97e4efc9",
   "metadata": {},
   "outputs": [
    {
     "data": {
      "text/plain": [
       "range(0, 5)"
      ]
     },
     "execution_count": 79,
     "metadata": {},
     "output_type": "execute_result"
    }
   ],
   "source": [
    "myrange = range(5)\n",
    "myrange"
   ]
  },
  {
   "cell_type": "code",
   "execution_count": 80,
   "id": "66019129",
   "metadata": {},
   "outputs": [
    {
     "data": {
      "text/plain": [
       "range"
      ]
     },
     "execution_count": 80,
     "metadata": {},
     "output_type": "execute_result"
    }
   ],
   "source": [
    "type(myrange)"
   ]
  },
  {
   "cell_type": "code",
   "execution_count": 82,
   "id": "967d17c4",
   "metadata": {},
   "outputs": [
    {
     "data": {
      "text/plain": [
       "range"
      ]
     },
     "execution_count": 82,
     "metadata": {},
     "output_type": "execute_result"
    }
   ],
   "source": [
    "myrange2 = range(10,3,-1)\n",
    "type(myrange2)"
   ]
  },
  {
   "cell_type": "code",
   "execution_count": 83,
   "id": "a3dab7c7",
   "metadata": {},
   "outputs": [
    {
     "name": "stdout",
     "output_type": "stream",
     "text": [
      "10\n",
      "9\n",
      "8\n",
      "7\n",
      "6\n",
      "5\n",
      "4\n"
     ]
    }
   ],
   "source": [
    "for x in myrange2:\n",
    "    print(x)"
   ]
  },
  {
   "cell_type": "markdown",
   "id": "bf3f9993",
   "metadata": {},
   "source": [
    "Key observation: range objects must follow a particular pattern, so we can't get digits of $\\pi$, for instance..."
   ]
  },
  {
   "cell_type": "code",
   "execution_count": 85,
   "id": "6c0ab529",
   "metadata": {},
   "outputs": [
    {
     "data": {
      "text/plain": [
       "3"
      ]
     },
     "execution_count": 85,
     "metadata": {},
     "output_type": "execute_result"
    }
   ],
   "source": [
    "myrange3 = range(3,1000)\n",
    "myrange3[0]"
   ]
  },
  {
   "cell_type": "code",
   "execution_count": 86,
   "id": "66f19e2d",
   "metadata": {},
   "outputs": [
    {
     "data": {
      "text/plain": [
       "999"
      ]
     },
     "execution_count": 86,
     "metadata": {},
     "output_type": "execute_result"
    }
   ],
   "source": [
    "myrange3[-1]"
   ]
  },
  {
   "cell_type": "code",
   "execution_count": 87,
   "id": "31c04fec",
   "metadata": {},
   "outputs": [
    {
     "data": {
      "text/plain": [
       "range(13, 103, 4)"
      ]
     },
     "execution_count": 87,
     "metadata": {},
     "output_type": "execute_result"
    }
   ],
   "source": [
    "myrange3[10:100:4] #notice this returns a range object"
   ]
  },
  {
   "cell_type": "code",
   "execution_count": 88,
   "id": "228e1d78",
   "metadata": {},
   "outputs": [
    {
     "data": {
      "text/plain": [
       "13"
      ]
     },
     "execution_count": 88,
     "metadata": {},
     "output_type": "execute_result"
    }
   ],
   "source": [
    "myrange3[10]"
   ]
  },
  {
   "cell_type": "code",
   "execution_count": 89,
   "id": "001a328b",
   "metadata": {},
   "outputs": [
    {
     "data": {
      "text/plain": [
       "997"
      ]
     },
     "execution_count": 89,
     "metadata": {},
     "output_type": "execute_result"
    }
   ],
   "source": [
    "len(myrange3)"
   ]
  },
  {
   "cell_type": "markdown",
   "id": "31547db1",
   "metadata": {},
   "source": [
    "### ints, floats, bools\n",
    "We are already familiar with all of these data types from our previous units! Let's review them briefly here."
   ]
  },
  {
   "cell_type": "code",
   "execution_count": 90,
   "id": "3b357808",
   "metadata": {},
   "outputs": [
    {
     "data": {
      "text/plain": [
       "True"
      ]
     },
     "execution_count": 90,
     "metadata": {},
     "output_type": "execute_result"
    }
   ],
   "source": [
    "z = 10/2\n",
    "z == 5"
   ]
  },
  {
   "cell_type": "code",
   "execution_count": 91,
   "id": "288bd880",
   "metadata": {},
   "outputs": [
    {
     "data": {
      "text/plain": [
       "True"
      ]
     },
     "execution_count": 91,
     "metadata": {},
     "output_type": "execute_result"
    }
   ],
   "source": [
    "True #notice this is highlighted in green!"
   ]
  },
  {
   "cell_type": "code",
   "execution_count": 92,
   "id": "d9d09186",
   "metadata": {},
   "outputs": [
    {
     "data": {
      "text/plain": [
       "False"
      ]
     },
     "execution_count": 92,
     "metadata": {},
     "output_type": "execute_result"
    }
   ],
   "source": [
    "False "
   ]
  },
  {
   "cell_type": "code",
   "execution_count": 93,
   "id": "38aaeeab",
   "metadata": {},
   "outputs": [
    {
     "data": {
      "text/plain": [
       "bool"
      ]
     },
     "execution_count": 93,
     "metadata": {},
     "output_type": "execute_result"
    }
   ],
   "source": [
    "type(True)"
   ]
  },
  {
   "cell_type": "code",
   "execution_count": 94,
   "id": "6c4bef88",
   "metadata": {},
   "outputs": [
    {
     "ename": "NameError",
     "evalue": "name 'true' is not defined",
     "output_type": "error",
     "traceback": [
      "\u001b[0;31m---------------------------------------------------------------------------\u001b[0m",
      "\u001b[0;31mNameError\u001b[0m                                 Traceback (most recent call last)",
      "Input \u001b[0;32mIn [94]\u001b[0m, in \u001b[0;36m<cell line: 1>\u001b[0;34m()\u001b[0m\n\u001b[0;32m----> 1\u001b[0m \u001b[38;5;28mtype\u001b[39m(\u001b[43mtrue\u001b[49m)\n",
      "\u001b[0;31mNameError\u001b[0m: name 'true' is not defined"
     ]
    }
   ],
   "source": [
    "type(true)"
   ]
  },
  {
   "cell_type": "code",
   "execution_count": 95,
   "id": "6de02b79",
   "metadata": {},
   "outputs": [
    {
     "data": {
      "text/plain": [
       "range(0, 5)"
      ]
     },
     "execution_count": 95,
     "metadata": {},
     "output_type": "execute_result"
    }
   ],
   "source": [
    "range(5)"
   ]
  },
  {
   "cell_type": "code",
   "execution_count": 96,
   "id": "5c2591b3",
   "metadata": {},
   "outputs": [
    {
     "ename": "TypeError",
     "evalue": "'float' object cannot be interpreted as an integer",
     "output_type": "error",
     "traceback": [
      "\u001b[0;31m---------------------------------------------------------------------------\u001b[0m",
      "\u001b[0;31mTypeError\u001b[0m                                 Traceback (most recent call last)",
      "Input \u001b[0;32mIn [96]\u001b[0m, in \u001b[0;36m<cell line: 1>\u001b[0;34m()\u001b[0m\n\u001b[0;32m----> 1\u001b[0m \u001b[38;5;28;43mrange\u001b[39;49m\u001b[43m(\u001b[49m\u001b[43mz\u001b[49m\u001b[43m)\u001b[49m\n",
      "\u001b[0;31mTypeError\u001b[0m: 'float' object cannot be interpreted as an integer"
     ]
    }
   ],
   "source": [
    "range(z)"
   ]
  },
  {
   "cell_type": "code",
   "execution_count": 97,
   "id": "4080336f",
   "metadata": {},
   "outputs": [
    {
     "data": {
      "text/plain": [
       "float"
      ]
     },
     "execution_count": 97,
     "metadata": {},
     "output_type": "execute_result"
    }
   ],
   "source": [
    "type(z)"
   ]
  },
  {
   "cell_type": "code",
   "execution_count": 98,
   "id": "ad237141",
   "metadata": {},
   "outputs": [
    {
     "data": {
      "text/plain": [
       "5.0"
      ]
     },
     "execution_count": 98,
     "metadata": {},
     "output_type": "execute_result"
    }
   ],
   "source": [
    "z"
   ]
  },
  {
   "cell_type": "code",
   "execution_count": 99,
   "id": "17d0503c",
   "metadata": {},
   "outputs": [
    {
     "data": {
      "text/plain": [
       "False"
      ]
     },
     "execution_count": 99,
     "metadata": {},
     "output_type": "execute_result"
    }
   ],
   "source": [
    "(0.1 + 0.1 + 0.1) == 0.3"
   ]
  },
  {
   "cell_type": "markdown",
   "id": "30f1b81d",
   "metadata": {},
   "source": [
    "### dictionaries\n",
    "This is one of my personal favorite Python data types, and also one of the most common. They start off looking pretty similar to sets, but are an entirely diferent data type. "
   ]
  },
  {
   "cell_type": "code",
   "execution_count": 100,
   "id": "7b942473",
   "metadata": {},
   "outputs": [],
   "source": [
    "d = {\"A\":90, \"B\":80,\"C\":70,\"D\":60,\"F\":0}"
   ]
  },
  {
   "cell_type": "markdown",
   "id": "234ba16f",
   "metadata": {},
   "source": [
    "Terminology: \n",
    " * \"A\" through \"F\" are called the ___keys___ of the dictionary\n",
    " * 90 through 0 are called the ___values___ of the dictionary"
   ]
  },
  {
   "cell_type": "code",
   "execution_count": 101,
   "id": "19a47917",
   "metadata": {},
   "outputs": [
    {
     "data": {
      "text/plain": [
       "dict"
      ]
     },
     "execution_count": 101,
     "metadata": {},
     "output_type": "execute_result"
    }
   ],
   "source": [
    "type(d)"
   ]
  },
  {
   "cell_type": "code",
   "execution_count": 103,
   "id": "4a9ddae1",
   "metadata": {},
   "outputs": [
    {
     "ename": "KeyError",
     "evalue": "0",
     "output_type": "error",
     "traceback": [
      "\u001b[0;31m---------------------------------------------------------------------------\u001b[0m",
      "\u001b[0;31mKeyError\u001b[0m                                  Traceback (most recent call last)",
      "Input \u001b[0;32mIn [103]\u001b[0m, in \u001b[0;36m<cell line: 1>\u001b[0;34m()\u001b[0m\n\u001b[0;32m----> 1\u001b[0m \u001b[43md\u001b[49m\u001b[43m[\u001b[49m\u001b[38;5;241;43m0\u001b[39;49m\u001b[43m]\u001b[49m\n",
      "\u001b[0;31mKeyError\u001b[0m: 0"
     ]
    }
   ],
   "source": [
    "d[0] #d[key] looks for key and returns its value.\n",
    "#here, there is no key called 0"
   ]
  },
  {
   "cell_type": "code",
   "execution_count": 105,
   "id": "00ea751e",
   "metadata": {},
   "outputs": [
    {
     "data": {
      "text/plain": [
       "80"
      ]
     },
     "execution_count": 105,
     "metadata": {},
     "output_type": "execute_result"
    }
   ],
   "source": [
    "d[\"B\"] #give the value corresponding to \"B\""
   ]
  },
  {
   "cell_type": "code",
   "execution_count": 106,
   "id": "81cff761",
   "metadata": {},
   "outputs": [],
   "source": [
    "d[0] = [3,1,4,1]"
   ]
  },
  {
   "cell_type": "code",
   "execution_count": 107,
   "id": "6739a4bf",
   "metadata": {},
   "outputs": [
    {
     "data": {
      "text/plain": [
       "{'A': 90, 'B': 80, 'C': 70, 'D': 60, 'F': 0, 0: [3, 1, 4, 1]}"
      ]
     },
     "execution_count": 107,
     "metadata": {},
     "output_type": "execute_result"
    }
   ],
   "source": [
    "d"
   ]
  },
  {
   "cell_type": "markdown",
   "id": "deb5e694",
   "metadata": {},
   "source": [
    "Values can be almost anything that you want. Keys are more tricky, not just anything can be a key in a dictionary."
   ]
  },
  {
   "cell_type": "code",
   "execution_count": 108,
   "id": "86c84430",
   "metadata": {},
   "outputs": [],
   "source": [
    "#update the value of \"B\"\n",
    "d[\"B\"] = 85"
   ]
  },
  {
   "cell_type": "code",
   "execution_count": 109,
   "id": "9be53984",
   "metadata": {},
   "outputs": [
    {
     "data": {
      "text/plain": [
       "{'A': 90, 'B': 85, 'C': 70, 'D': 60, 'F': 0, 0: [3, 1, 4, 1]}"
      ]
     },
     "execution_count": 109,
     "metadata": {},
     "output_type": "execute_result"
    }
   ],
   "source": [
    "d"
   ]
  },
  {
   "cell_type": "markdown",
   "id": "2e30b558",
   "metadata": {},
   "source": [
    "Notice, you can only have one value for each key."
   ]
  },
  {
   "cell_type": "code",
   "execution_count": 110,
   "id": "843c6834",
   "metadata": {},
   "outputs": [],
   "source": [
    "d[\"0\"] = {\"Hello\":\"first word\",\"World\":\"second word\"}"
   ]
  },
  {
   "cell_type": "code",
   "execution_count": 111,
   "id": "9c1c0eb9",
   "metadata": {},
   "outputs": [
    {
     "data": {
      "text/plain": [
       "{'A': 90,\n",
       " 'B': 85,\n",
       " 'C': 70,\n",
       " 'D': 60,\n",
       " 'F': 0,\n",
       " 0: [3, 1, 4, 1],\n",
       " '0': {'Hello': 'first word', 'World': 'second word'}}"
      ]
     },
     "execution_count": 111,
     "metadata": {},
     "output_type": "execute_result"
    }
   ],
   "source": [
    "d"
   ]
  },
  {
   "cell_type": "markdown",
   "id": "51534760",
   "metadata": {},
   "source": [
    "We quickly remind ourselves of some key differences between lists and sets..."
   ]
  },
  {
   "cell_type": "code",
   "execution_count": 112,
   "id": "aa0f3037",
   "metadata": {},
   "outputs": [
    {
     "ename": "TypeError",
     "evalue": "unhashable type: 'list'",
     "output_type": "error",
     "traceback": [
      "\u001b[0;31m---------------------------------------------------------------------------\u001b[0m",
      "\u001b[0;31mTypeError\u001b[0m                                 Traceback (most recent call last)",
      "Input \u001b[0;32mIn [112]\u001b[0m, in \u001b[0;36m<cell line: 2>\u001b[0;34m()\u001b[0m\n\u001b[1;32m      1\u001b[0m \u001b[38;5;66;03m#Error! Lists cannot go in a set\u001b[39;00m\n\u001b[0;32m----> 2\u001b[0m myset \u001b[38;5;241m=\u001b[39m {\u001b[38;5;241m3\u001b[39m,\u001b[38;5;241m1\u001b[39m,[\u001b[38;5;241m4\u001b[39m,\u001b[38;5;241m1\u001b[39m]}\n",
      "\u001b[0;31mTypeError\u001b[0m: unhashable type: 'list'"
     ]
    }
   ],
   "source": [
    "#Error! Lists cannot go in a set\n",
    "myset = {3,1,[4,1]} "
   ]
  },
  {
   "cell_type": "code",
   "execution_count": 113,
   "id": "32e57126",
   "metadata": {},
   "outputs": [],
   "source": [
    "myset = {3,1,(4,1)}"
   ]
  },
  {
   "cell_type": "markdown",
   "id": "982f12d3",
   "metadata": {},
   "source": [
    "We will now see that dictionary keys have similar restrictions!"
   ]
  },
  {
   "cell_type": "code",
   "execution_count": 114,
   "id": "b54097d5",
   "metadata": {},
   "outputs": [
    {
     "ename": "TypeError",
     "evalue": "unhashable type: 'list'",
     "output_type": "error",
     "traceback": [
      "\u001b[0;31m---------------------------------------------------------------------------\u001b[0m",
      "\u001b[0;31mTypeError\u001b[0m                                 Traceback (most recent call last)",
      "Input \u001b[0;32mIn [114]\u001b[0m, in \u001b[0;36m<cell line: 1>\u001b[0;34m()\u001b[0m\n\u001b[0;32m----> 1\u001b[0m d[[\u001b[38;5;241m4\u001b[39m,\u001b[38;5;241m1\u001b[39m]] \u001b[38;5;241m=\u001b[39m \u001b[38;5;124m\"\u001b[39m\u001b[38;5;124mYasmeen\u001b[39m\u001b[38;5;124m\"\u001b[39m\n",
      "\u001b[0;31mTypeError\u001b[0m: unhashable type: 'list'"
     ]
    }
   ],
   "source": [
    "d[[4,1]] = \"Yasmeen\""
   ]
  },
  {
   "cell_type": "markdown",
   "id": "c4ff23ae",
   "metadata": {},
   "source": [
    "Upshot: Lists cannot be keys in a dictionary."
   ]
  },
  {
   "cell_type": "code",
   "execution_count": 115,
   "id": "6f88009a",
   "metadata": {},
   "outputs": [],
   "source": [
    "d[(4,1)] = \"Yasmeen\""
   ]
  },
  {
   "cell_type": "code",
   "execution_count": 116,
   "id": "519cd7a8",
   "metadata": {},
   "outputs": [
    {
     "data": {
      "text/plain": [
       "{'A': 90,\n",
       " 'B': 85,\n",
       " 'C': 70,\n",
       " 'D': 60,\n",
       " 'F': 0,\n",
       " 0: [3, 1, 4, 1],\n",
       " '0': {'Hello': 'first word', 'World': 'second word'},\n",
       " (4, 1): 'Yasmeen'}"
      ]
     },
     "execution_count": 116,
     "metadata": {},
     "output_type": "execute_result"
    }
   ],
   "source": [
    "d"
   ]
  },
  {
   "cell_type": "markdown",
   "id": "7f89b5c0",
   "metadata": {},
   "source": [
    "Upshot: Tuples can be keys in a dictionary"
   ]
  },
  {
   "cell_type": "markdown",
   "id": "01cd8d62",
   "metadata": {},
   "source": [
    "### Converting between data types\n",
    "We often want to convert from one data type to another. This is called ___casting___, and we will see a few examples below."
   ]
  },
  {
   "cell_type": "code",
   "execution_count": 117,
   "id": "351242e6",
   "metadata": {},
   "outputs": [
    {
     "data": {
      "text/plain": [
       "(3, 1, 4, 1)"
      ]
     },
     "execution_count": 117,
     "metadata": {},
     "output_type": "execute_result"
    }
   ],
   "source": [
    "mylist = [3,1,4,1]\n",
    "tuple(mylist)"
   ]
  },
  {
   "cell_type": "code",
   "execution_count": 118,
   "id": "f9f0c321",
   "metadata": {},
   "outputs": [
    {
     "data": {
      "text/plain": [
       "[3, 1, 4, 1]"
      ]
     },
     "execution_count": 118,
     "metadata": {},
     "output_type": "execute_result"
    }
   ],
   "source": [
    "mylist"
   ]
  },
  {
   "cell_type": "code",
   "execution_count": 119,
   "id": "75c197c9",
   "metadata": {},
   "outputs": [],
   "source": [
    "x = tuple(mylist)"
   ]
  },
  {
   "cell_type": "code",
   "execution_count": 120,
   "id": "a293e0eb",
   "metadata": {},
   "outputs": [
    {
     "data": {
      "text/plain": [
       "tuple"
      ]
     },
     "execution_count": 120,
     "metadata": {},
     "output_type": "execute_result"
    }
   ],
   "source": [
    "type(x)"
   ]
  },
  {
   "cell_type": "code",
   "execution_count": 121,
   "id": "b35b08f0",
   "metadata": {},
   "outputs": [
    {
     "data": {
      "text/plain": [
       "['H', 'e', 'l', 'l', 'o', ' ', 'W', 'o', 'r', 'l', 'd']"
      ]
     },
     "execution_count": 121,
     "metadata": {},
     "output_type": "execute_result"
    }
   ],
   "source": [
    "s = \"Hello World\"\n",
    "list(s)"
   ]
  },
  {
   "cell_type": "code",
   "execution_count": 122,
   "id": "e32d8e23",
   "metadata": {},
   "outputs": [
    {
     "name": "stdout",
     "output_type": "stream",
     "text": [
      "H\n",
      "e\n",
      "l\n",
      "l\n",
      "o\n",
      " \n",
      "W\n",
      "o\n",
      "r\n",
      "l\n",
      "d\n"
     ]
    }
   ],
   "source": [
    "for x in s:\n",
    "    print(x)"
   ]
  },
  {
   "cell_type": "code",
   "execution_count": 123,
   "id": "ca51343f",
   "metadata": {},
   "outputs": [
    {
     "data": {
      "text/plain": [
       "[3, 1, 4, 1]"
      ]
     },
     "execution_count": 123,
     "metadata": {},
     "output_type": "execute_result"
    }
   ],
   "source": [
    "mylist"
   ]
  },
  {
   "cell_type": "code",
   "execution_count": 124,
   "id": "7425ed63",
   "metadata": {},
   "outputs": [
    {
     "ename": "TypeError",
     "evalue": "cannot convert dictionary update sequence element #0 to a sequence",
     "output_type": "error",
     "traceback": [
      "\u001b[0;31m---------------------------------------------------------------------------\u001b[0m",
      "\u001b[0;31mTypeError\u001b[0m                                 Traceback (most recent call last)",
      "Input \u001b[0;32mIn [124]\u001b[0m, in \u001b[0;36m<cell line: 2>\u001b[0;34m()\u001b[0m\n\u001b[1;32m      1\u001b[0m \u001b[38;5;66;03m#Don't expect this to work\u001b[39;00m\n\u001b[0;32m----> 2\u001b[0m \u001b[38;5;28;43mdict\u001b[39;49m\u001b[43m(\u001b[49m\u001b[43mmylist\u001b[49m\u001b[43m)\u001b[49m\n",
      "\u001b[0;31mTypeError\u001b[0m: cannot convert dictionary update sequence element #0 to a sequence"
     ]
    }
   ],
   "source": [
    "#Don't expect this to work\n",
    "dict(mylist)"
   ]
  },
  {
   "cell_type": "markdown",
   "id": "31b21b30",
   "metadata": {},
   "source": [
    "We can convert a list to a dictionary, if we're a little more careful and make it easy for Python to gather key-value pairs."
   ]
  },
  {
   "cell_type": "code",
   "execution_count": 126,
   "id": "b25f8f6e",
   "metadata": {},
   "outputs": [],
   "source": [
    "mylist2 = [(3,\"a\"),(1,\"b\"),(1,\"c\")]"
   ]
  },
  {
   "cell_type": "code",
   "execution_count": 128,
   "id": "510841d1",
   "metadata": {},
   "outputs": [
    {
     "data": {
      "text/plain": [
       "{3: 'a', 1: 'c'}"
      ]
     },
     "execution_count": 128,
     "metadata": {},
     "output_type": "execute_result"
    }
   ],
   "source": [
    "#Remember, each key can only have one value\n",
    "dict(mylist2)"
   ]
  },
  {
   "cell_type": "markdown",
   "id": "667cf900",
   "metadata": {},
   "source": [
    "Notice that the value corresponding to 1 got updated from \"b\" to \"c\"."
   ]
  },
  {
   "cell_type": "code",
   "execution_count": 129,
   "id": "03e6aa23",
   "metadata": {},
   "outputs": [
    {
     "data": {
      "text/plain": [
       "True"
      ]
     },
     "execution_count": 129,
     "metadata": {},
     "output_type": "execute_result"
    }
   ],
   "source": [
    "True "
   ]
  },
  {
   "cell_type": "code",
   "execution_count": 130,
   "id": "fd9b17bd",
   "metadata": {},
   "outputs": [
    {
     "data": {
      "text/plain": [
       "False"
      ]
     },
     "execution_count": 130,
     "metadata": {},
     "output_type": "execute_result"
    }
   ],
   "source": [
    "False"
   ]
  },
  {
   "cell_type": "code",
   "execution_count": 131,
   "id": "f2352d18",
   "metadata": {},
   "outputs": [
    {
     "data": {
      "text/plain": [
       "1"
      ]
     },
     "execution_count": 131,
     "metadata": {},
     "output_type": "execute_result"
    }
   ],
   "source": [
    "int(True)"
   ]
  },
  {
   "cell_type": "code",
   "execution_count": 132,
   "id": "676035b3",
   "metadata": {},
   "outputs": [
    {
     "data": {
      "text/plain": [
       "0"
      ]
     },
     "execution_count": 132,
     "metadata": {},
     "output_type": "execute_result"
    }
   ],
   "source": [
    "int(False)"
   ]
  },
  {
   "cell_type": "code",
   "execution_count": 133,
   "id": "beb21feb",
   "metadata": {},
   "outputs": [
    {
     "data": {
      "text/plain": [
       "5"
      ]
     },
     "execution_count": 133,
     "metadata": {},
     "output_type": "execute_result"
    }
   ],
   "source": [
    "4 + True"
   ]
  },
  {
   "cell_type": "code",
   "execution_count": 134,
   "id": "a6d7a646",
   "metadata": {},
   "outputs": [
    {
     "data": {
      "text/plain": [
       "4"
      ]
     },
     "execution_count": 134,
     "metadata": {},
     "output_type": "execute_result"
    }
   ],
   "source": [
    "4 + False"
   ]
  },
  {
   "cell_type": "markdown",
   "id": "70f83172",
   "metadata": {},
   "source": [
    "### Timing comparisons"
   ]
  },
  {
   "cell_type": "markdown",
   "id": "8421c9ac",
   "metadata": {},
   "source": [
    "We won't start this section today, but let me show you a few relevant things..."
   ]
  },
  {
   "cell_type": "code",
   "execution_count": 135,
   "id": "b4087ed7",
   "metadata": {},
   "outputs": [
    {
     "data": {
      "text/plain": [
       "13"
      ]
     },
     "execution_count": 135,
     "metadata": {},
     "output_type": "execute_result"
    }
   ],
   "source": [
    "#Say I want to get 10^7, this will return something strange\n",
    "10^7"
   ]
  },
  {
   "cell_type": "markdown",
   "id": "40d09d09",
   "metadata": {},
   "source": [
    "Be careful, then `^` operation does not exponentiate. You don't need to worry about what it does, just know that here is how we can actually exponentiate."
   ]
  },
  {
   "cell_type": "code",
   "execution_count": 136,
   "id": "181bc3f9",
   "metadata": {},
   "outputs": [
    {
     "data": {
      "text/plain": [
       "10000000"
      ]
     },
     "execution_count": 136,
     "metadata": {},
     "output_type": "execute_result"
    }
   ],
   "source": [
    "10**7"
   ]
  }
 ],
 "metadata": {
  "kernelspec": {
   "display_name": "Python 3 (ipykernel)",
   "language": "python",
   "name": "python3"
  },
  "language_info": {
   "codemirror_mode": {
    "name": "ipython",
    "version": 3
   },
   "file_extension": ".py",
   "mimetype": "text/x-python",
   "name": "python",
   "nbconvert_exporter": "python",
   "pygments_lexer": "ipython3",
   "version": "3.9.13"
  }
 },
 "nbformat": 4,
 "nbformat_minor": 5
}
