{
 "cells": [
  {
   "cell_type": "markdown",
   "id": "2f01ca84",
   "metadata": {},
   "source": [
    "# Lecture 11: July 19th, 2023"
   ]
  },
  {
   "cell_type": "markdown",
   "id": "ba14fd47",
   "metadata": {},
   "source": [
    "__Updates and Reminders:__\n",
    "* Live lecture friends! I ask that you please watch the Matplotlib videos on your own (ideally by Friday morning).\n",
    "* Fresh set of outcome quizzes released this week. If you are missing an EO that's not included this week, keep an eye out for an email from me."
   ]
  },
  {
   "cell_type": "markdown",
   "id": "94f36315",
   "metadata": {},
   "source": [
    "## Broadcasting in NumPy"
   ]
  },
  {
   "cell_type": "markdown",
   "id": "e7a966e2",
   "metadata": {},
   "source": [
    "We'll start today's lecture by going in a litle more depth about broadcasting in NumPy. We saw a few examples in Lecture 10 that will be helpful to keep in mind. This portion of the lecture is done on the iPad."
   ]
  },
  {
   "cell_type": "markdown",
   "id": "5d783674",
   "metadata": {},
   "source": [
    "As a refresher: here's an example we did in Lecture 10."
   ]
  },
  {
   "cell_type": "code",
   "execution_count": 111,
   "id": "21af4613",
   "metadata": {
    "scrolled": false
   },
   "outputs": [],
   "source": [
    "import numpy as np"
   ]
  },
  {
   "cell_type": "code",
   "execution_count": 112,
   "id": "162f91c7",
   "metadata": {
    "scrolled": false
   },
   "outputs": [
    {
     "data": {
      "text/plain": [
       "(4, 4)"
      ]
     },
     "execution_count": 112,
     "metadata": {},
     "output_type": "execute_result"
    }
   ],
   "source": [
    "arr = np.zeros((4,4),dtype=np.int8)\n",
    "arr.shape"
   ]
  },
  {
   "cell_type": "code",
   "execution_count": 113,
   "id": "8528f668",
   "metadata": {
    "scrolled": false
   },
   "outputs": [
    {
     "data": {
      "text/plain": [
       "(4,)"
      ]
     },
     "execution_count": 113,
     "metadata": {},
     "output_type": "execute_result"
    }
   ],
   "source": [
    "v = np.array([3,1,4,1])\n",
    "v.shape"
   ]
  },
  {
   "cell_type": "code",
   "execution_count": 114,
   "id": "7b4e86bb",
   "metadata": {},
   "outputs": [
    {
     "data": {
      "text/plain": [
       "array([[3, 1, 4, 1],\n",
       "       [3, 1, 4, 1],\n",
       "       [3, 1, 4, 1],\n",
       "       [3, 1, 4, 1]], dtype=int8)"
      ]
     },
     "execution_count": 114,
     "metadata": {},
     "output_type": "execute_result"
    }
   ],
   "source": [
    "arr[:] = v\n",
    "arr"
   ]
  },
  {
   "cell_type": "markdown",
   "id": "9e5badd0",
   "metadata": {},
   "source": [
    "![Teaching-17.jpg](Teaching-17.jpg)"
   ]
  },
  {
   "cell_type": "markdown",
   "id": "5189537b",
   "metadata": {},
   "source": [
    "![Teaching-18.jpg](Teaching-18.jpg)"
   ]
  },
  {
   "cell_type": "markdown",
   "id": "62509491",
   "metadata": {},
   "source": [
    "![Teaching-19.jpg](Teaching-19.jpg)"
   ]
  },
  {
   "cell_type": "markdown",
   "id": "4ecd0ffb",
   "metadata": {},
   "source": [
    "![Teaching-20.jpg](Teaching-20.jpg)"
   ]
  },
  {
   "cell_type": "markdown",
   "id": "0bc0b890",
   "metadata": {},
   "source": [
    "![Teaching-21.jpg](Teaching-21.jpg)"
   ]
  },
  {
   "cell_type": "markdown",
   "id": "812bc5de",
   "metadata": {},
   "source": [
    "![Teaching-22.jpg](Teaching-22.jpg)"
   ]
  },
  {
   "cell_type": "markdown",
   "id": "292ee22b",
   "metadata": {},
   "source": [
    "![Teaching-23.jpg](Teaching-23.jpg)"
   ]
  },
  {
   "cell_type": "markdown",
   "id": "06d960d5",
   "metadata": {},
   "source": [
    "![Teaching-24.jpg](Teaching-24.jpg)"
   ]
  },
  {
   "cell_type": "markdown",
   "id": "1b3031fe",
   "metadata": {},
   "source": [
    "![Teaching-25.jpg](Teaching-25.jpg)"
   ]
  },
  {
   "cell_type": "markdown",
   "id": "118cdf38",
   "metadata": {},
   "source": [
    "![Teaching-26.jpg](Teaching-26.jpg)"
   ]
  },
  {
   "cell_type": "markdown",
   "id": "3107286f",
   "metadata": {},
   "source": [
    "![Teaching-27.jpg](Teaching-27.jpg)"
   ]
  },
  {
   "cell_type": "markdown",
   "id": "631c0a47",
   "metadata": {},
   "source": [
    "## Timing a Computation: NumPy vs. List"
   ]
  },
  {
   "cell_type": "markdown",
   "id": "47c36e05",
   "metadata": {},
   "source": [
    "__Goal:__ See examples that show how, in general, NumPy results in code that is both faster and shorter than base python."
   ]
  },
  {
   "cell_type": "code",
   "execution_count": 15,
   "id": "6d440172",
   "metadata": {
    "scrolled": false
   },
   "outputs": [],
   "source": [
    "import numpy as np\n",
    "rng = np.random.default_rng()"
   ]
  },
  {
   "cell_type": "code",
   "execution_count": 20,
   "id": "29983218",
   "metadata": {
    "scrolled": false
   },
   "outputs": [],
   "source": [
    "arr = rng.integers(1,10,size=10**6)"
   ]
  },
  {
   "cell_type": "markdown",
   "id": "9764a9ff",
   "metadata": {},
   "source": [
    "Now, let's turn `arr` into a list. I want these numbers to be the same, since I will be doing timing comparison."
   ]
  },
  {
   "cell_type": "code",
   "execution_count": 21,
   "id": "1ddc94bf",
   "metadata": {
    "scrolled": false
   },
   "outputs": [],
   "source": [
    "mylist = list(arr)"
   ]
  },
  {
   "cell_type": "markdown",
   "id": "d3abb099",
   "metadata": {},
   "source": [
    "Let's look at the first 5 elements of `arr`."
   ]
  },
  {
   "cell_type": "code",
   "execution_count": 22,
   "id": "d2c84da1",
   "metadata": {
    "scrolled": false
   },
   "outputs": [
    {
     "data": {
      "text/plain": [
       "array([7, 6, 7, 8, 9])"
      ]
     },
     "execution_count": 22,
     "metadata": {},
     "output_type": "execute_result"
    }
   ],
   "source": [
    "arr[:5]"
   ]
  },
  {
   "cell_type": "code",
   "execution_count": 23,
   "id": "09141380",
   "metadata": {
    "scrolled": false
   },
   "outputs": [
    {
     "data": {
      "text/plain": [
       "[7, 6, 7, 8, 9]"
      ]
     },
     "execution_count": 23,
     "metadata": {},
     "output_type": "execute_result"
    }
   ],
   "source": [
    "mylist[:5]"
   ]
  },
  {
   "cell_type": "markdown",
   "id": "47cb6d8d",
   "metadata": {},
   "source": [
    "Notice the following works just fine for `arr`."
   ]
  },
  {
   "cell_type": "code",
   "execution_count": 24,
   "id": "2d3de4d2",
   "metadata": {
    "scrolled": false
   },
   "outputs": [
    {
     "data": {
      "text/plain": [
       "array([0.21428571, 0.25      , 0.21428571, 0.1875    , 0.16666667])"
      ]
     },
     "execution_count": 24,
     "metadata": {},
     "output_type": "execute_result"
    }
   ],
   "source": [
    "1.5/arr[:5]"
   ]
  },
  {
   "cell_type": "markdown",
   "id": "cfbb4e56",
   "metadata": {},
   "source": [
    "However, the same syntax will cause an error for `mylist`."
   ]
  },
  {
   "cell_type": "code",
   "execution_count": 25,
   "id": "3ba4241a",
   "metadata": {
    "scrolled": false
   },
   "outputs": [
    {
     "ename": "TypeError",
     "evalue": "unsupported operand type(s) for /: 'float' and 'list'",
     "output_type": "error",
     "traceback": [
      "\u001b[0;31m---------------------------------------------------------------------------\u001b[0m",
      "\u001b[0;31mTypeError\u001b[0m                                 Traceback (most recent call last)",
      "Input \u001b[0;32mIn [25]\u001b[0m, in \u001b[0;36m<cell line: 1>\u001b[0;34m()\u001b[0m\n\u001b[0;32m----> 1\u001b[0m \u001b[38;5;241;43m1.5\u001b[39;49m\u001b[38;5;241;43m/\u001b[39;49m\u001b[43mmylist\u001b[49m\u001b[43m[\u001b[49m\u001b[43m:\u001b[49m\u001b[38;5;241;43m5\u001b[39;49m\u001b[43m]\u001b[49m\n",
      "\u001b[0;31mTypeError\u001b[0m: unsupported operand type(s) for /: 'float' and 'list'"
     ]
    }
   ],
   "source": [
    "1.5/mylist[:5]"
   ]
  },
  {
   "cell_type": "markdown",
   "id": "881a3d7d",
   "metadata": {},
   "source": [
    "The error is telling us that we cannot divide a float (1.5) by a list. To get this computation for `mylist`, we'll need to either use a for-loop, or list comprehension."
   ]
  },
  {
   "cell_type": "markdown",
   "id": "296408bb",
   "metadata": {},
   "source": [
    "### Method 1: for-loops\n"
   ]
  },
  {
   "cell_type": "code",
   "execution_count": 26,
   "id": "c7f25017",
   "metadata": {
    "scrolled": false
   },
   "outputs": [],
   "source": [
    "newlist = []\n",
    "for x in mylist[:5]:\n",
    "    newlist.append(1.5/x)"
   ]
  },
  {
   "cell_type": "code",
   "execution_count": 27,
   "id": "cc2e9fd0",
   "metadata": {
    "scrolled": false
   },
   "outputs": [
    {
     "data": {
      "text/plain": [
       "[0.21428571428571427, 0.25, 0.21428571428571427, 0.1875, 0.16666666666666666]"
      ]
     },
     "execution_count": 27,
     "metadata": {},
     "output_type": "execute_result"
    }
   ],
   "source": [
    "newlist"
   ]
  },
  {
   "cell_type": "markdown",
   "id": "a50a2641",
   "metadata": {},
   "source": [
    "### Method 2: list comprehension"
   ]
  },
  {
   "cell_type": "code",
   "execution_count": 28,
   "id": "7ce3e0d9",
   "metadata": {
    "scrolled": false
   },
   "outputs": [
    {
     "data": {
      "text/plain": [
       "[0.21428571428571427, 0.25, 0.21428571428571427, 0.1875, 0.16666666666666666]"
      ]
     },
     "execution_count": 28,
     "metadata": {},
     "output_type": "execute_result"
    }
   ],
   "source": [
    "[1.5/x for x in mylist[:5]]"
   ]
  },
  {
   "cell_type": "markdown",
   "id": "90f87a46",
   "metadata": {},
   "source": [
    "Little preview: You might think that list comprehension runs faster than a for-loop...we'll see if this is actually true in a little bit!"
   ]
  },
  {
   "cell_type": "markdown",
   "id": "d049ddb8",
   "metadata": {},
   "source": [
    "Now, let's move into timing these computations!"
   ]
  },
  {
   "cell_type": "code",
   "execution_count": 29,
   "id": "5845c92f",
   "metadata": {
    "scrolled": false
   },
   "outputs": [
    {
     "name": "stdout",
     "output_type": "stream",
     "text": [
      "2.85 ms ± 176 µs per loop (mean ± std. dev. of 7 runs, 100 loops each)\n"
     ]
    }
   ],
   "source": [
    "%%timeit\n",
    "1.5/arr #notice I'm taking the full arr with 10^6 elts"
   ]
  },
  {
   "cell_type": "code",
   "execution_count": 30,
   "id": "9ce79b13",
   "metadata": {
    "scrolled": false
   },
   "outputs": [
    {
     "name": "stdout",
     "output_type": "stream",
     "text": [
      "1.88 s ± 12.2 ms per loop (mean ± std. dev. of 7 runs, 1 loop each)\n"
     ]
    }
   ],
   "source": [
    "%%timeit\n",
    "newlist = []\n",
    "for x in mylist:\n",
    "    newlist.append(1.5/x)"
   ]
  },
  {
   "cell_type": "code",
   "execution_count": 32,
   "id": "cc5b9a8d",
   "metadata": {
    "scrolled": false
   },
   "outputs": [
    {
     "name": "stdout",
     "output_type": "stream",
     "text": [
      "1.79 s ± 13.7 ms per loop (mean ± std. dev. of 7 runs, 1 loop each)\n"
     ]
    }
   ],
   "source": [
    "%%timeit\n",
    "[1.5/x for x in mylist]"
   ]
  },
  {
   "cell_type": "markdown",
   "id": "4b12e6d9",
   "metadata": {},
   "source": [
    "__Upshot:__ NumPy arrays are _way_ faster than base python. Another thing to keep in mind: using list comprehension is usually preferred to for-loops, and is more _pythonic_ (elegant), _but_ it is not really faster than using a for-loop."
   ]
  },
  {
   "cell_type": "markdown",
   "id": "b95fb1cd",
   "metadata": {},
   "source": [
    "__Why:__ Why is NumPy so much faster?\n",
    "* NumPy has a way of knowing the data types ahead of time.\n",
    "* NumPy uses vectorized operations - works with the whole vector at once."
   ]
  },
  {
   "cell_type": "markdown",
   "id": "b6b1e7be",
   "metadata": {},
   "source": [
    "## Counting in NumPy"
   ]
  },
  {
   "cell_type": "markdown",
   "id": "5e35a1d8",
   "metadata": {},
   "source": [
    "__Goal:__ Use NumPy to estimate probabilities. The logic to probability estimation is exactly the same as what we saw in our MATLAB unit. We'll just update it to be python-friendly."
   ]
  },
  {
   "cell_type": "markdown",
   "id": "5bd79ebc",
   "metadata": {},
   "source": [
    "(a) Suppose I make a NumPy array of random integers between -50 (inclusive) and 50 (inclusive). Suppose I also have a list with the same numbers."
   ]
  },
  {
   "cell_type": "code",
   "execution_count": 42,
   "id": "4c654047",
   "metadata": {
    "scrolled": false
   },
   "outputs": [],
   "source": [
    "n = 20 #length of array/list\n",
    "arr = rng.integers(-50,51,size=n)\n",
    "mylist = list(arr)"
   ]
  },
  {
   "cell_type": "code",
   "execution_count": 43,
   "id": "3588e328",
   "metadata": {
    "scrolled": false
   },
   "outputs": [
    {
     "data": {
      "text/plain": [
       "array([ 39, -35,  11,  35,  35,  24,  48,  36, -29,   3,  49,  41,  24,\n",
       "        14, -21,   6,  36, -12, -36, -33])"
      ]
     },
     "execution_count": 43,
     "metadata": {},
     "output_type": "execute_result"
    }
   ],
   "source": [
    "arr"
   ]
  },
  {
   "cell_type": "code",
   "execution_count": 44,
   "id": "a4bad006",
   "metadata": {
    "scrolled": false
   },
   "outputs": [
    {
     "data": {
      "text/plain": [
       "[39,\n",
       " -35,\n",
       " 11,\n",
       " 35,\n",
       " 35,\n",
       " 24,\n",
       " 48,\n",
       " 36,\n",
       " -29,\n",
       " 3,\n",
       " 49,\n",
       " 41,\n",
       " 24,\n",
       " 14,\n",
       " -21,\n",
       " 6,\n",
       " 36,\n",
       " -12,\n",
       " -36,\n",
       " -33]"
      ]
     },
     "execution_count": 44,
     "metadata": {},
     "output_type": "execute_result"
    }
   ],
   "source": [
    "mylist"
   ]
  },
  {
   "cell_type": "markdown",
   "id": "87113f8e",
   "metadata": {},
   "source": [
    "(b) How many of the integers are less than 10?"
   ]
  },
  {
   "cell_type": "markdown",
   "id": "13c104c3",
   "metadata": {},
   "source": [
    "We'll do this problem three different ways!"
   ]
  },
  {
   "cell_type": "markdown",
   "id": "4675796b",
   "metadata": {},
   "source": [
    "### Method 1: for-loop"
   ]
  },
  {
   "cell_type": "code",
   "execution_count": 45,
   "id": "74b36132",
   "metadata": {
    "scrolled": true
   },
   "outputs": [],
   "source": [
    "count = 0\n",
    "for x in mylist:\n",
    "    if x < 10:\n",
    "        count += 1 #count = count + 1"
   ]
  },
  {
   "cell_type": "code",
   "execution_count": 46,
   "id": "bd1ef0c0",
   "metadata": {
    "scrolled": true
   },
   "outputs": [
    {
     "data": {
      "text/plain": [
       "8"
      ]
     },
     "execution_count": 46,
     "metadata": {},
     "output_type": "execute_result"
    }
   ],
   "source": [
    "count"
   ]
  },
  {
   "cell_type": "markdown",
   "id": "0beecf07",
   "metadata": {},
   "source": [
    "### Method 2: list comprehension"
   ]
  },
  {
   "cell_type": "code",
   "execution_count": 48,
   "id": "78ed0985",
   "metadata": {
    "scrolled": true
   },
   "outputs": [
    {
     "data": {
      "text/plain": [
       "8"
      ]
     },
     "execution_count": 48,
     "metadata": {},
     "output_type": "execute_result"
    }
   ],
   "source": [
    "len([x for x in mylist if x < 10])"
   ]
  },
  {
   "cell_type": "markdown",
   "id": "6d0ace15",
   "metadata": {},
   "source": [
    "### Method 3: NumPy"
   ]
  },
  {
   "cell_type": "code",
   "execution_count": 49,
   "id": "885d984d",
   "metadata": {
    "scrolled": true
   },
   "outputs": [
    {
     "data": {
      "text/plain": [
       "array([False,  True, False, False, False, False, False, False,  True,\n",
       "        True, False, False, False, False,  True,  True, False,  True,\n",
       "        True,  True])"
      ]
     },
     "execution_count": 49,
     "metadata": {},
     "output_type": "execute_result"
    }
   ],
   "source": [
    "arr < 10"
   ]
  },
  {
   "cell_type": "code",
   "execution_count": 51,
   "id": "60515ef4",
   "metadata": {
    "scrolled": true
   },
   "outputs": [
    {
     "data": {
      "text/plain": [
       "8"
      ]
     },
     "execution_count": 51,
     "metadata": {},
     "output_type": "execute_result"
    }
   ],
   "source": [
    "np.count_nonzero(arr < 10)"
   ]
  },
  {
   "cell_type": "code",
   "execution_count": 50,
   "id": "baf07b97",
   "metadata": {
    "scrolled": true
   },
   "outputs": [
    {
     "data": {
      "text/plain": [
       "array([ 39, -35,  11,  35,  35,  24,  48,  36, -29,   3,  49,  41,  24,\n",
       "        14, -21,   6,  36, -12, -36, -33])"
      ]
     },
     "execution_count": 50,
     "metadata": {},
     "output_type": "execute_result"
    }
   ],
   "source": [
    "arr"
   ]
  },
  {
   "cell_type": "markdown",
   "id": "2d3d75b3",
   "metadata": {},
   "source": [
    "(c) At what indices do these integers less than 10 occur?"
   ]
  },
  {
   "cell_type": "code",
   "execution_count": 52,
   "id": "11d2f8f9",
   "metadata": {
    "scrolled": true
   },
   "outputs": [
    {
     "data": {
      "text/plain": [
       "(array([ 1,  8,  9, 14, 15, 17, 18, 19]),)"
      ]
     },
     "execution_count": 52,
     "metadata": {},
     "output_type": "execute_result"
    }
   ],
   "source": [
    "np.nonzero(arr < 10)"
   ]
  },
  {
   "cell_type": "markdown",
   "id": "6335d26a",
   "metadata": {},
   "source": [
    "(d) Make a new array containing only these integers."
   ]
  },
  {
   "cell_type": "markdown",
   "id": "1e7682bb",
   "metadata": {},
   "source": [
    "This is an example of a boolean mask (also called boolean indexing). This is the most important way of solving this problem."
   ]
  },
  {
   "cell_type": "code",
   "execution_count": 54,
   "id": "40a9c2f3",
   "metadata": {
    "scrolled": true
   },
   "outputs": [
    {
     "data": {
      "text/plain": [
       "array([-35, -29,   3, -21,   6, -12, -36, -33])"
      ]
     },
     "execution_count": 54,
     "metadata": {},
     "output_type": "execute_result"
    }
   ],
   "source": [
    "arr[arr < 10]"
   ]
  },
  {
   "cell_type": "markdown",
   "id": "ba1cc3fd",
   "metadata": {},
   "source": [
    "Here is an example using list comprehension."
   ]
  },
  {
   "cell_type": "code",
   "execution_count": 55,
   "id": "7ee48c8c",
   "metadata": {
    "scrolled": true
   },
   "outputs": [
    {
     "data": {
      "text/plain": [
       "[-35, -29, 3, -21, 6, -12, -36, -33]"
      ]
     },
     "execution_count": 55,
     "metadata": {},
     "output_type": "execute_result"
    }
   ],
   "source": [
    "[x for x in mylist if x < 10]"
   ]
  },
  {
   "cell_type": "markdown",
   "id": "bbc86716",
   "metadata": {},
   "source": [
    "Finally, an example with a for-loop."
   ]
  },
  {
   "cell_type": "code",
   "execution_count": 56,
   "id": "3c5b5a0a",
   "metadata": {
    "scrolled": true
   },
   "outputs": [],
   "source": [
    "newlist = []\n",
    "for x in mylist:\n",
    "    if x < 10:\n",
    "        newlist.append(x)"
   ]
  },
  {
   "cell_type": "code",
   "execution_count": 57,
   "id": "0f2ce843",
   "metadata": {
    "scrolled": true
   },
   "outputs": [
    {
     "data": {
      "text/plain": [
       "[-35, -29, 3, -21, 6, -12, -36, -33]"
      ]
     },
     "execution_count": 57,
     "metadata": {},
     "output_type": "execute_result"
    }
   ],
   "source": [
    "newlist"
   ]
  },
  {
   "cell_type": "markdown",
   "id": "fcdfd2e8",
   "metadata": {},
   "source": [
    "(e) If you pick a random integer between -50 (inclusive) and 50 (inclusive), what is the probability that it is less than 10?"
   ]
  },
  {
   "cell_type": "code",
   "execution_count": 58,
   "id": "51782d54",
   "metadata": {
    "scrolled": true
   },
   "outputs": [],
   "source": [
    "n = 10**7"
   ]
  },
  {
   "cell_type": "code",
   "execution_count": 59,
   "id": "47723710",
   "metadata": {
    "scrolled": true
   },
   "outputs": [],
   "source": [
    "arr = rng.integers(-50,51,size=n)\n",
    "mylist = list(arr)"
   ]
  },
  {
   "cell_type": "code",
   "execution_count": 63,
   "id": "4d775131",
   "metadata": {
    "scrolled": true
   },
   "outputs": [
    {
     "name": "stdout",
     "output_type": "stream",
     "text": [
      "0.5940567\n"
     ]
    }
   ],
   "source": [
    "count = 0\n",
    "for x in mylist:\n",
    "    if x < 10:\n",
    "        count += 1\n",
    "p = count/n\n",
    "print(p)"
   ]
  },
  {
   "cell_type": "code",
   "execution_count": 64,
   "id": "ac90126f",
   "metadata": {
    "scrolled": true
   },
   "outputs": [
    {
     "name": "stdout",
     "output_type": "stream",
     "text": [
      "9.74 ms ± 1.04 ms per loop (mean ± std. dev. of 7 runs, 100 loops each)\n"
     ]
    }
   ],
   "source": [
    "%%timeit\n",
    "np.count_nonzero(arr < 10)/n"
   ]
  },
  {
   "cell_type": "code",
   "execution_count": 65,
   "id": "0864e730",
   "metadata": {
    "scrolled": true
   },
   "outputs": [
    {
     "data": {
      "text/plain": [
       "0.5940567"
      ]
     },
     "execution_count": 65,
     "metadata": {},
     "output_type": "execute_result"
    }
   ],
   "source": [
    "np.count_nonzero(arr < 10)/n"
   ]
  },
  {
   "cell_type": "markdown",
   "id": "03ba56a6",
   "metadata": {},
   "source": [
    "We can actually compute the exact probability pretty easily here. Recall, between -50 (inclusive) and 50 (inclusive) there are 101 integers. Of those 101 integers, 60 are less than 10."
   ]
  },
  {
   "cell_type": "code",
   "execution_count": 66,
   "id": "bbab5fe1",
   "metadata": {
    "scrolled": true
   },
   "outputs": [
    {
     "data": {
      "text/plain": [
       "0.594059405940594"
      ]
     },
     "execution_count": 66,
     "metadata": {},
     "output_type": "execute_result"
    }
   ],
   "source": [
    "60/101"
   ]
  },
  {
   "cell_type": "markdown",
   "id": "7d604917",
   "metadata": {},
   "source": [
    "The most important part of this section of lecture is knowing how to do these computations in NumPy."
   ]
  },
  {
   "cell_type": "markdown",
   "id": "2f2d4bce",
   "metadata": {},
   "source": [
    "## Logic in Python vs. NumPy"
   ]
  },
  {
   "cell_type": "markdown",
   "id": "7fadebff",
   "metadata": {},
   "source": [
    "General Rules:\n",
    "* In base python: `and`, `or`, `not`\n",
    "* In NumPy (or Pandas): `&`, `|`, `~`"
   ]
  },
  {
   "cell_type": "code",
   "execution_count": 71,
   "id": "5594338e",
   "metadata": {
    "scrolled": false
   },
   "outputs": [
    {
     "data": {
      "text/plain": [
       "array([ -3,  47,  41, -38,  39, -37,  24,  18,  11, -22, -45, -16,  39,\n",
       "        41,  33, -49, -18,  -3, -35,  13])"
      ]
     },
     "execution_count": 71,
     "metadata": {},
     "output_type": "execute_result"
    }
   ],
   "source": [
    "import numpy as np\n",
    "rng = np.random.default_rng()\n",
    "n = 20\n",
    "arr = rng.integers(-50,51,size=n)\n",
    "mylist = list(arr)\n",
    "arr"
   ]
  },
  {
   "cell_type": "markdown",
   "id": "6cb6415d",
   "metadata": {},
   "source": [
    "__Motivating Question:__ Find all entries in `arr` and `mylist` that are strictly between -10 and 10."
   ]
  },
  {
   "cell_type": "code",
   "execution_count": 72,
   "id": "102b1cbe",
   "metadata": {
    "scrolled": true
   },
   "outputs": [
    {
     "data": {
      "text/plain": [
       "[-3, -3]"
      ]
     },
     "execution_count": 72,
     "metadata": {},
     "output_type": "execute_result"
    }
   ],
   "source": [
    "[x for x in mylist if (x > -10) and (x < 10)]"
   ]
  },
  {
   "cell_type": "markdown",
   "id": "23cc2f0e",
   "metadata": {},
   "source": [
    "Another way:\n"
   ]
  },
  {
   "cell_type": "code",
   "execution_count": 74,
   "id": "1db2ba7a",
   "metadata": {
    "scrolled": true
   },
   "outputs": [
    {
     "data": {
      "text/plain": [
       "[-3, -3]"
      ]
     },
     "execution_count": 74,
     "metadata": {},
     "output_type": "execute_result"
    }
   ],
   "source": [
    "[x for x in mylist if not((x <= -10) or (x >= 10))]"
   ]
  },
  {
   "cell_type": "markdown",
   "id": "4c26fc6b",
   "metadata": {},
   "source": [
    "__Warning:__ Using `&` seems to work okay here, but you really should type out `and`. There are some situations in base python where `&` will not give what you might expect."
   ]
  },
  {
   "cell_type": "code",
   "execution_count": 73,
   "id": "be1bf94f",
   "metadata": {
    "scrolled": true
   },
   "outputs": [
    {
     "data": {
      "text/plain": [
       "[-3, -3]"
      ]
     },
     "execution_count": 73,
     "metadata": {},
     "output_type": "execute_result"
    }
   ],
   "source": [
    "[x for x in mylist if (x > -10) & (x < 10)]"
   ]
  },
  {
   "cell_type": "code",
   "execution_count": 77,
   "id": "550a7106",
   "metadata": {
    "scrolled": true
   },
   "outputs": [
    {
     "data": {
      "text/plain": [
       "array([-3, -3])"
      ]
     },
     "execution_count": 77,
     "metadata": {},
     "output_type": "execute_result"
    }
   ],
   "source": [
    "arr[(arr > -10) & (arr < 10)]"
   ]
  },
  {
   "cell_type": "markdown",
   "id": "31afe991",
   "metadata": {},
   "source": [
    "Another way:"
   ]
  },
  {
   "cell_type": "code",
   "execution_count": 79,
   "id": "7ec5bb67",
   "metadata": {
    "scrolled": true
   },
   "outputs": [
    {
     "data": {
      "text/plain": [
       "array([-3, -3])"
      ]
     },
     "execution_count": 79,
     "metadata": {},
     "output_type": "execute_result"
    }
   ],
   "source": [
    "arr[~((arr <= -10) | (arr >= 10))]"
   ]
  },
  {
   "cell_type": "markdown",
   "id": "2655eb72",
   "metadata": {},
   "source": [
    "## The `axis` keyword argument"
   ]
  },
  {
   "cell_type": "markdown",
   "id": "81770bcb",
   "metadata": {},
   "source": [
    "__Motivating Question:__ If you roll four distinct 6-sided dice, what is the probability that the biggest value is 5?"
   ]
  },
  {
   "cell_type": "code",
   "execution_count": 119,
   "id": "0a229604",
   "metadata": {
    "scrolled": true
   },
   "outputs": [
    {
     "data": {
      "text/plain": [
       "array([4, 4, 3, 2])"
      ]
     },
     "execution_count": 119,
     "metadata": {},
     "output_type": "execute_result"
    }
   ],
   "source": [
    "rng.integers(1,7,size=4)"
   ]
  },
  {
   "cell_type": "code",
   "execution_count": 121,
   "id": "79fa3234",
   "metadata": {
    "scrolled": true
   },
   "outputs": [
    {
     "name": "stdout",
     "output_type": "stream",
     "text": [
      "0.4\n"
     ]
    }
   ],
   "source": [
    "exps = 10\n",
    "s = 0\n",
    "for i in range(exps):\n",
    "    if np.max(rng.integers(1,7,size=4)) == 5:\n",
    "        s += 1\n",
    "p = s/exps\n",
    "print(p)"
   ]
  },
  {
   "cell_type": "markdown",
   "id": "db17489d",
   "metadata": {},
   "source": [
    "Note: this method is very slow! We're going to use `%time`"
   ]
  },
  {
   "cell_type": "code",
   "execution_count": 122,
   "id": "39080f0b",
   "metadata": {
    "scrolled": true
   },
   "outputs": [
    {
     "name": "stdout",
     "output_type": "stream",
     "text": [
      "0.28499\n",
      "CPU times: user 14.4 s, sys: 320 ms, total: 14.7 s\n",
      "Wall time: 14.6 s\n"
     ]
    }
   ],
   "source": [
    "%%time\n",
    "exps = 10**6\n",
    "s = 0\n",
    "for i in range(exps):\n",
    "    if np.max(rng.integers(1,7,size=4)) == 5:\n",
    "        s += 1\n",
    "p = s/exps\n",
    "print(p)"
   ]
  },
  {
   "cell_type": "markdown",
   "id": "141e5d9a",
   "metadata": {},
   "source": [
    "The way we'll make this fast, is by instead creating a NumPy array with $10^6$ rows, each row representing an experiment."
   ]
  },
  {
   "cell_type": "code",
   "execution_count": 123,
   "id": "dc3f7873",
   "metadata": {
    "scrolled": true
   },
   "outputs": [],
   "source": [
    "exps = 10\n",
    "arr = rng.integers(1,7,size=(exps,4))"
   ]
  },
  {
   "cell_type": "code",
   "execution_count": 124,
   "id": "4e0aa2dc",
   "metadata": {
    "scrolled": true
   },
   "outputs": [
    {
     "name": "stdout",
     "output_type": "stream",
     "text": [
      "[[1 3 1 3]\n",
      " [4 6 1 6]\n",
      " [1 2 6 2]\n",
      " [1 3 4 5]\n",
      " [6 6 6 4]\n",
      " [6 4 1 1]\n",
      " [1 2 6 2]\n",
      " [1 1 6 4]\n",
      " [5 4 3 1]\n",
      " [2 6 6 1]]\n"
     ]
    }
   ],
   "source": [
    "print(arr)"
   ]
  },
  {
   "cell_type": "markdown",
   "id": "0882421c",
   "metadata": {},
   "source": [
    "Notice, this next line of code doesn't do quite what we want..."
   ]
  },
  {
   "cell_type": "code",
   "execution_count": 125,
   "id": "0c0fc138",
   "metadata": {
    "scrolled": true
   },
   "outputs": [
    {
     "data": {
      "text/plain": [
       "6"
      ]
     },
     "execution_count": 125,
     "metadata": {},
     "output_type": "execute_result"
    }
   ],
   "source": [
    "np.max(arr)"
   ]
  },
  {
   "cell_type": "markdown",
   "id": "090d6361",
   "metadata": {},
   "source": [
    "What's happening is that the maximum is taking the maximum over all elements in `arr`. Instead, I want it to take maximums over rows. We will go through two examples of how to do this."
   ]
  },
  {
   "cell_type": "markdown",
   "id": "00f2d920",
   "metadata": {},
   "source": [
    "### Method 1"
   ]
  },
  {
   "cell_type": "markdown",
   "id": "4d80e42d",
   "metadata": {},
   "source": [
    "More flexible (works for more functions), but runs more slowly."
   ]
  },
  {
   "cell_type": "code",
   "execution_count": 87,
   "id": "e8cce1f0",
   "metadata": {
    "scrolled": true
   },
   "outputs": [
    {
     "name": "stdout",
     "output_type": "stream",
     "text": [
      "Help on function apply_along_axis in module numpy:\n",
      "\n",
      "apply_along_axis(func1d, axis, arr, *args, **kwargs)\n",
      "    Apply a function to 1-D slices along the given axis.\n",
      "    \n",
      "    Execute `func1d(a, *args, **kwargs)` where `func1d` operates on 1-D arrays\n",
      "    and `a` is a 1-D slice of `arr` along `axis`.\n",
      "    \n",
      "    This is equivalent to (but faster than) the following use of `ndindex` and\n",
      "    `s_`, which sets each of ``ii``, ``jj``, and ``kk`` to a tuple of indices::\n",
      "    \n",
      "        Ni, Nk = a.shape[:axis], a.shape[axis+1:]\n",
      "        for ii in ndindex(Ni):\n",
      "            for kk in ndindex(Nk):\n",
      "                f = func1d(arr[ii + s_[:,] + kk])\n",
      "                Nj = f.shape\n",
      "                for jj in ndindex(Nj):\n",
      "                    out[ii + jj + kk] = f[jj]\n",
      "    \n",
      "    Equivalently, eliminating the inner loop, this can be expressed as::\n",
      "    \n",
      "        Ni, Nk = a.shape[:axis], a.shape[axis+1:]\n",
      "        for ii in ndindex(Ni):\n",
      "            for kk in ndindex(Nk):\n",
      "                out[ii + s_[...,] + kk] = func1d(arr[ii + s_[:,] + kk])\n",
      "    \n",
      "    Parameters\n",
      "    ----------\n",
      "    func1d : function (M,) -> (Nj...)\n",
      "        This function should accept 1-D arrays. It is applied to 1-D\n",
      "        slices of `arr` along the specified axis.\n",
      "    axis : integer\n",
      "        Axis along which `arr` is sliced.\n",
      "    arr : ndarray (Ni..., M, Nk...)\n",
      "        Input array.\n",
      "    args : any\n",
      "        Additional arguments to `func1d`.\n",
      "    kwargs : any\n",
      "        Additional named arguments to `func1d`.\n",
      "    \n",
      "        .. versionadded:: 1.9.0\n",
      "    \n",
      "    \n",
      "    Returns\n",
      "    -------\n",
      "    out : ndarray  (Ni..., Nj..., Nk...)\n",
      "        The output array. The shape of `out` is identical to the shape of\n",
      "        `arr`, except along the `axis` dimension. This axis is removed, and\n",
      "        replaced with new dimensions equal to the shape of the return value\n",
      "        of `func1d`. So if `func1d` returns a scalar `out` will have one\n",
      "        fewer dimensions than `arr`.\n",
      "    \n",
      "    See Also\n",
      "    --------\n",
      "    apply_over_axes : Apply a function repeatedly over multiple axes.\n",
      "    \n",
      "    Examples\n",
      "    --------\n",
      "    >>> def my_func(a):\n",
      "    ...     \"\"\"Average first and last element of a 1-D array\"\"\"\n",
      "    ...     return (a[0] + a[-1]) * 0.5\n",
      "    >>> b = np.array([[1,2,3], [4,5,6], [7,8,9]])\n",
      "    >>> np.apply_along_axis(my_func, 0, b)\n",
      "    array([4., 5., 6.])\n",
      "    >>> np.apply_along_axis(my_func, 1, b)\n",
      "    array([2.,  5.,  8.])\n",
      "    \n",
      "    For a function that returns a 1D array, the number of dimensions in\n",
      "    `outarr` is the same as `arr`.\n",
      "    \n",
      "    >>> b = np.array([[8,1,7], [4,3,9], [5,2,6]])\n",
      "    >>> np.apply_along_axis(sorted, 1, b)\n",
      "    array([[1, 7, 8],\n",
      "           [3, 4, 9],\n",
      "           [2, 5, 6]])\n",
      "    \n",
      "    For a function that returns a higher dimensional array, those dimensions\n",
      "    are inserted in place of the `axis` dimension.\n",
      "    \n",
      "    >>> b = np.array([[1,2,3], [4,5,6], [7,8,9]])\n",
      "    >>> np.apply_along_axis(np.diag, -1, b)\n",
      "    array([[[1, 0, 0],\n",
      "            [0, 2, 0],\n",
      "            [0, 0, 3]],\n",
      "           [[4, 0, 0],\n",
      "            [0, 5, 0],\n",
      "            [0, 0, 6]],\n",
      "           [[7, 0, 0],\n",
      "            [0, 8, 0],\n",
      "            [0, 0, 9]]])\n",
      "\n"
     ]
    }
   ],
   "source": [
    "help(np.apply_along_axis)"
   ]
  },
  {
   "cell_type": "code",
   "execution_count": 126,
   "id": "8fac7662",
   "metadata": {},
   "outputs": [
    {
     "data": {
      "text/plain": [
       "array([3, 6, 6, 5, 6, 6, 6, 6, 5, 6])"
      ]
     },
     "execution_count": 126,
     "metadata": {},
     "output_type": "execute_result"
    }
   ],
   "source": [
    "np.apply_along_axis(np.max,axis=1,arr=arr)"
   ]
  },
  {
   "cell_type": "code",
   "execution_count": 128,
   "id": "e3e72dff",
   "metadata": {},
   "outputs": [
    {
     "data": {
      "text/plain": [
       "0.2"
      ]
     },
     "execution_count": 128,
     "metadata": {},
     "output_type": "execute_result"
    }
   ],
   "source": [
    "(np.apply_along_axis(np.max,axis=1,arr=arr) == 5).mean()"
   ]
  },
  {
   "cell_type": "code",
   "execution_count": 129,
   "id": "2b5a926e",
   "metadata": {},
   "outputs": [],
   "source": [
    "exps = 10**6\n",
    "arr = rng.integers(1,7,size=(exps,4))"
   ]
  },
  {
   "cell_type": "code",
   "execution_count": 131,
   "id": "72cc48d7",
   "metadata": {},
   "outputs": [
    {
     "name": "stdout",
     "output_type": "stream",
     "text": [
      "CPU times: user 5.67 s, sys: 22.8 ms, total: 5.69 s\n",
      "Wall time: 5.85 s\n"
     ]
    },
    {
     "data": {
      "text/plain": [
       "0.284985"
      ]
     },
     "execution_count": 131,
     "metadata": {},
     "output_type": "execute_result"
    }
   ],
   "source": [
    "%%time\n",
    "(np.apply_along_axis(np.max,axis=1,arr=arr) == 5).mean()"
   ]
  },
  {
   "cell_type": "markdown",
   "id": "270a9ed4",
   "metadata": {},
   "source": [
    "The `axis` keyword is extremely important; it tells us which dimension of the array to work along, so we only talk about `axis` for arrays with at least 2 dimensions. On Friday, we'll go over it in more detail, but the basic idea is that if you want to move horizontally, use `axis = 1`, and if you want to move vertically, use `axis = 0`."
   ]
  },
  {
   "cell_type": "code",
   "execution_count": 89,
   "id": "59dac6b8",
   "metadata": {},
   "outputs": [
    {
     "name": "stdout",
     "output_type": "stream",
     "text": [
      "[[3 2 6 4]\n",
      " [1 4 6 5]\n",
      " [2 3 3 2]\n",
      " [1 6 1 2]\n",
      " [4 2 3 4]\n",
      " [6 5 5 6]\n",
      " [2 5 6 3]\n",
      " [1 3 4 6]\n",
      " [5 5 6 6]\n",
      " [1 3 5 3]]\n"
     ]
    }
   ],
   "source": [
    "print(arr)"
   ]
  },
  {
   "cell_type": "markdown",
   "id": "5ee1e30c",
   "metadata": {},
   "source": [
    "### Method 2"
   ]
  },
  {
   "cell_type": "markdown",
   "id": "c319a76c",
   "metadata": {},
   "source": [
    "Less flexible (can only use with one function), but faster because more specialized.\n"
   ]
  },
  {
   "cell_type": "code",
   "execution_count": 132,
   "id": "de9406a6",
   "metadata": {},
   "outputs": [
    {
     "name": "stdout",
     "output_type": "stream",
     "text": [
      "[[3 3 4 6]\n",
      " [1 6 2 4]\n",
      " [3 3 4 5]\n",
      " [4 5 3 5]\n",
      " [1 6 1 2]]\n"
     ]
    }
   ],
   "source": [
    "print(arr[:5])"
   ]
  },
  {
   "cell_type": "code",
   "execution_count": 133,
   "id": "4801731a",
   "metadata": {},
   "outputs": [
    {
     "data": {
      "text/plain": [
       "6"
      ]
     },
     "execution_count": 133,
     "metadata": {},
     "output_type": "execute_result"
    }
   ],
   "source": [
    "arr[:5].max()"
   ]
  },
  {
   "cell_type": "markdown",
   "id": "a6f4c1e3",
   "metadata": {},
   "source": [
    "Same issue here! It's taking the maximum of all elements."
   ]
  },
  {
   "cell_type": "code",
   "execution_count": 92,
   "id": "e3894bce",
   "metadata": {},
   "outputs": [
    {
     "name": "stdout",
     "output_type": "stream",
     "text": [
      "Help on built-in function max:\n",
      "\n",
      "max(...) method of numpy.ndarray instance\n",
      "    a.max(axis=None, out=None, keepdims=False, initial=<no value>, where=True)\n",
      "    \n",
      "    Return the maximum along a given axis.\n",
      "    \n",
      "    Refer to `numpy.amax` for full documentation.\n",
      "    \n",
      "    See Also\n",
      "    --------\n",
      "    numpy.amax : equivalent function\n",
      "\n"
     ]
    }
   ],
   "source": [
    "help(arr.max)"
   ]
  },
  {
   "cell_type": "code",
   "execution_count": 135,
   "id": "151a487f",
   "metadata": {},
   "outputs": [],
   "source": [
    "exps = 10**6\n",
    "arr = rng.integers(1,7,size=(exps,4))"
   ]
  },
  {
   "cell_type": "code",
   "execution_count": 136,
   "id": "7a33f66e",
   "metadata": {},
   "outputs": [
    {
     "name": "stdout",
     "output_type": "stream",
     "text": [
      "CPU times: user 29.6 ms, sys: 3.6 ms, total: 33.2 ms\n",
      "Wall time: 32.3 ms\n"
     ]
    },
    {
     "data": {
      "text/plain": [
       "array([5, 6, 4, ..., 6, 4, 6])"
      ]
     },
     "execution_count": 136,
     "metadata": {},
     "output_type": "execute_result"
    }
   ],
   "source": [
    "%%time\n",
    "arr.max(axis = 1)"
   ]
  },
  {
   "cell_type": "markdown",
   "id": "cd7db3e0",
   "metadata": {},
   "source": [
    "## More on the `axis` keyword argument"
   ]
  },
  {
   "cell_type": "markdown",
   "id": "d021d5ff",
   "metadata": {},
   "source": [
    "This is a portion that uses the iPad :)"
   ]
  },
  {
   "cell_type": "markdown",
   "id": "b9f58f15",
   "metadata": {},
   "source": [
    "We actually skipped this portion for today. We'll circle back around on Friday."
   ]
  },
  {
   "cell_type": "markdown",
   "id": "8adc83e6",
   "metadata": {},
   "source": [
    "## An Exact Probability"
   ]
  },
  {
   "cell_type": "markdown",
   "id": "d48523e3",
   "metadata": {},
   "source": [
    "__Goal:__ Compute an exact probability to the motivation question of the previous section:\n",
    "* If you roll 4 distinct 6-sided dice, what is the probability that the biggest value is 5?"
   ]
  },
  {
   "cell_type": "markdown",
   "id": "2331ed31",
   "metadata": {},
   "source": [
    "We also skipped this portion because of time. It's not super important, but be sure to watch the lecture video."
   ]
  },
  {
   "cell_type": "markdown",
   "id": "01c9b18f",
   "metadata": {},
   "source": [
    "## `any` and `all`"
   ]
  },
  {
   "cell_type": "markdown",
   "id": "ca885cc8",
   "metadata": {},
   "source": [
    "* Make a 100 row, 4 column NumPy array of random real numbers between 0 and 1."
   ]
  },
  {
   "cell_type": "code",
   "execution_count": 100,
   "id": "8551db9c",
   "metadata": {},
   "outputs": [
    {
     "data": {
      "text/plain": [
       "array([0.83363021, 0.4882195 , 0.21784082, 0.53544272])"
      ]
     },
     "execution_count": 100,
     "metadata": {},
     "output_type": "execute_result"
    }
   ],
   "source": [
    "arr = rng.random(size=(100,4))\n",
    "arr[1]"
   ]
  },
  {
   "cell_type": "markdown",
   "id": "ac18586f",
   "metadata": {},
   "source": [
    "* Find the subarray containing all rows in which at least one number is bigger than 0.6"
   ]
  },
  {
   "cell_type": "code",
   "execution_count": 101,
   "id": "1afaf4c7",
   "metadata": {},
   "outputs": [
    {
     "data": {
      "text/plain": [
       "array([[0.07344904, 0.51424441, 0.89057173, 0.44941814],\n",
       "       [0.83363021, 0.4882195 , 0.21784082, 0.53544272],\n",
       "       [0.68868086, 0.39830638, 0.39777477, 0.42937909],\n",
       "       [0.7650479 , 0.56962514, 0.80797563, 0.79899201],\n",
       "       [0.57909761, 0.83198487, 0.45297323, 0.1150043 ]])"
      ]
     },
     "execution_count": 101,
     "metadata": {},
     "output_type": "execute_result"
    }
   ],
   "source": [
    "arr[:5]"
   ]
  },
  {
   "cell_type": "code",
   "execution_count": 105,
   "id": "6c967e3c",
   "metadata": {},
   "outputs": [
    {
     "data": {
      "text/plain": [
       "array([[0.07344904, 0.51424441, 0.89057173, 0.44941814],\n",
       "       [0.83363021, 0.4882195 , 0.21784082, 0.53544272],\n",
       "       [0.68868086, 0.39830638, 0.39777477, 0.42937909],\n",
       "       [0.7650479 , 0.56962514, 0.80797563, 0.79899201],\n",
       "       [0.57909761, 0.83198487, 0.45297323, 0.1150043 ]])"
      ]
     },
     "execution_count": 105,
     "metadata": {},
     "output_type": "execute_result"
    }
   ],
   "source": [
    "arr[:5][(arr[:5] > 0.6).any(axis=1)]"
   ]
  },
  {
   "cell_type": "code",
   "execution_count": 107,
   "id": "83914c78",
   "metadata": {},
   "outputs": [
    {
     "data": {
      "text/plain": [
       "(89, 4)"
      ]
     },
     "execution_count": 107,
     "metadata": {},
     "output_type": "execute_result"
    }
   ],
   "source": [
    "arr[(arr > 0.6).any(axis=1)].shape"
   ]
  },
  {
   "cell_type": "markdown",
   "id": "e6d91d52",
   "metadata": {},
   "source": [
    "* Find the subarray containing all rows in which no numbers are between 0.4 and 0.6"
   ]
  },
  {
   "cell_type": "code",
   "execution_count": 109,
   "id": "ce3cba8d",
   "metadata": {
    "scrolled": true
   },
   "outputs": [
    {
     "data": {
      "text/plain": [
       "array([[0.16935056, 0.85759768, 0.97595407, 0.87790293],\n",
       "       [0.14951703, 0.66779625, 0.32175895, 0.11822027],\n",
       "       [0.73532107, 0.70469818, 0.32945462, 0.77771751],\n",
       "       [0.14360535, 0.65537624, 0.35299173, 0.24807285],\n",
       "       [0.22526277, 0.16812129, 0.94788184, 0.74075582],\n",
       "       [0.85548703, 0.70620768, 0.84364142, 0.14879249],\n",
       "       [0.06780499, 0.27297667, 0.7725513 , 0.27664519],\n",
       "       [0.73506209, 0.38728547, 0.27183591, 0.37709854],\n",
       "       [0.28979543, 0.61166667, 0.96238071, 0.6809983 ],\n",
       "       [0.152361  , 0.8227426 , 0.09165485, 0.01580897],\n",
       "       [0.34154741, 0.68588724, 0.1726617 , 0.8730123 ],\n",
       "       [0.25467222, 0.10429109, 0.11541443, 0.16851565],\n",
       "       [0.11171943, 0.98144754, 0.25839861, 0.9394376 ],\n",
       "       [0.22437015, 0.87030285, 0.34175942, 0.15071706],\n",
       "       [0.02817027, 0.74984937, 0.11091836, 0.6473861 ],\n",
       "       [0.00473819, 0.02620684, 0.29422595, 0.74151272],\n",
       "       [0.05801492, 0.70594296, 0.00262066, 0.67133176],\n",
       "       [0.07299117, 0.72578812, 0.04338554, 0.2045599 ],\n",
       "       [0.91789523, 0.64407034, 0.34279031, 0.97893419],\n",
       "       [0.24351941, 0.16852503, 0.60528023, 0.66676296],\n",
       "       [0.0563177 , 0.08129742, 0.8971535 , 0.37650132],\n",
       "       [0.27843214, 0.24931903, 0.63939959, 0.96658719],\n",
       "       [0.18941573, 0.28462893, 0.8558779 , 0.24727798],\n",
       "       [0.60997277, 0.97082344, 0.15071507, 0.19554113],\n",
       "       [0.74270975, 0.82449392, 0.12944189, 0.91377796],\n",
       "       [0.64725908, 0.37071441, 0.38919102, 0.89318939],\n",
       "       [0.95677717, 0.3052953 , 0.15329228, 0.87104835],\n",
       "       [0.2617256 , 0.05075795, 0.95419973, 0.35107537],\n",
       "       [0.0920649 , 0.99781942, 0.95197552, 0.19293994],\n",
       "       [0.88867698, 0.25721061, 0.66898291, 0.17916207],\n",
       "       [0.33957883, 0.84155349, 0.7222328 , 0.3387243 ],\n",
       "       [0.28925814, 0.26036072, 0.07858739, 0.36589277],\n",
       "       [0.15697905, 0.70697369, 0.05982924, 0.20490683],\n",
       "       [0.00435549, 0.74741501, 0.97606843, 0.65313454],\n",
       "       [0.97993605, 0.81082476, 0.9855695 , 0.19927056],\n",
       "       [0.77522674, 0.81916858, 0.82827787, 0.6437271 ],\n",
       "       [0.19797425, 0.29515131, 0.3856516 , 0.74851651],\n",
       "       [0.66245782, 0.66615275, 0.97388009, 0.64136375],\n",
       "       [0.63194854, 0.07159524, 0.23233633, 0.85549732]])"
      ]
     },
     "execution_count": 109,
     "metadata": {},
     "output_type": "execute_result"
    }
   ],
   "source": [
    "arr[((arr < 0.4) | (arr > 0.6)).all(axis = 1)]"
   ]
  }
 ],
 "metadata": {
  "kernelspec": {
   "display_name": "Python 3 (ipykernel)",
   "language": "python",
   "name": "python3"
  },
  "language_info": {
   "codemirror_mode": {
    "name": "ipython",
    "version": 3
   },
   "file_extension": ".py",
   "mimetype": "text/x-python",
   "name": "python",
   "nbconvert_exporter": "python",
   "pygments_lexer": "ipython3",
   "version": "3.9.13"
  }
 },
 "nbformat": 4,
 "nbformat_minor": 5
}
