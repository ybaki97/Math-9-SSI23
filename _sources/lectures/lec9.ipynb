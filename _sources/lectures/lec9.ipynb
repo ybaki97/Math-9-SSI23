{
 "cells": [
  {
   "cell_type": "markdown",
   "id": "89becb39",
   "metadata": {},
   "source": [
    "# Lecture 9: July 14th, 2023\n",
    "\n",
    "__Reminders:__\n",
    "* Have a nice weekend!"
   ]
  },
  {
   "cell_type": "markdown",
   "id": "e0931fb6",
   "metadata": {},
   "source": [
    "### Timing comparisons\n",
    "_Remember:_ `^` doesn't work the way you might expect. We should use `**` instead."
   ]
  },
  {
   "cell_type": "code",
   "execution_count": 1,
   "id": "c68ef478",
   "metadata": {},
   "outputs": [
    {
     "data": {
      "text/plain": [
       "13"
      ]
     },
     "execution_count": 1,
     "metadata": {},
     "output_type": "execute_result"
    }
   ],
   "source": [
    "10^7"
   ]
  },
  {
   "cell_type": "code",
   "execution_count": 2,
   "id": "6b576ade",
   "metadata": {},
   "outputs": [
    {
     "data": {
      "text/plain": [
       "10000000"
      ]
     },
     "execution_count": 2,
     "metadata": {},
     "output_type": "execute_result"
    }
   ],
   "source": [
    "10**7"
   ]
  },
  {
   "cell_type": "markdown",
   "id": "7520d373",
   "metadata": {},
   "source": [
    "__Point of this section:__ Recall from Lecture 8 that lists _cannot_ go in sets, or be keys in dictionaries. We will see that searching a set is very fast compared to searching a tuple or a list. Searching for keys in a dictionary is also very fast."
   ]
  },
  {
   "cell_type": "code",
   "execution_count": 3,
   "id": "516872b5",
   "metadata": {},
   "outputs": [],
   "source": [
    "r = range(0,10**7,5)\n",
    "mylist = list(r)\n",
    "mytuple = tuple(r)\n",
    "myset = set(r)"
   ]
  },
  {
   "cell_type": "code",
   "execution_count": 4,
   "id": "e718d0fa",
   "metadata": {},
   "outputs": [
    {
     "data": {
      "text/plain": [
       "True"
      ]
     },
     "execution_count": 4,
     "metadata": {},
     "output_type": "execute_result"
    }
   ],
   "source": [
    "0 in mylist"
   ]
  },
  {
   "cell_type": "code",
   "execution_count": 5,
   "id": "c7149b21",
   "metadata": {},
   "outputs": [
    {
     "data": {
      "text/plain": [
       "False"
      ]
     },
     "execution_count": 5,
     "metadata": {},
     "output_type": "execute_result"
    }
   ],
   "source": [
    "1 in mylist"
   ]
  },
  {
   "cell_type": "code",
   "execution_count": 7,
   "id": "7dfdb484",
   "metadata": {},
   "outputs": [
    {
     "data": {
      "text/plain": [
       "True"
      ]
     },
     "execution_count": 7,
     "metadata": {},
     "output_type": "execute_result"
    }
   ],
   "source": [
    "5 in mylist"
   ]
  },
  {
   "cell_type": "markdown",
   "id": "3ec7ceb9",
   "metadata": {},
   "source": [
    "Now, we'll search each of these data types for a certain number and time how long it takes. We can do this using something called a _Jupyter magic_. These are functions that work because we are in Jupyter notebook. They are not native to python."
   ]
  },
  {
   "cell_type": "code",
   "execution_count": 8,
   "id": "cb45d1e4",
   "metadata": {},
   "outputs": [
    {
     "name": "stdout",
     "output_type": "stream",
     "text": [
      "36.7 ns ± 3.07 ns per loop (mean ± std. dev. of 7 runs, 10,000,000 loops each)\n"
     ]
    }
   ],
   "source": [
    "%%timeit #Example of a Jupyter magic\n",
    "0 in mytuple"
   ]
  },
  {
   "cell_type": "markdown",
   "id": "cc973f99",
   "metadata": {},
   "source": [
    "Recall that ns (nanoseconds) means $10^{-9}$ seconds. Super fast, huh?"
   ]
  },
  {
   "cell_type": "code",
   "execution_count": 9,
   "id": "f636298c",
   "metadata": {},
   "outputs": [
    {
     "name": "stdout",
     "output_type": "stream",
     "text": [
      "37.8 ns ± 1.86 ns per loop (mean ± std. dev. of 7 runs, 10,000,000 loops each)\n"
     ]
    }
   ],
   "source": [
    "%%timeit\n",
    "0 in mylist"
   ]
  },
  {
   "cell_type": "markdown",
   "id": "ddc4795c",
   "metadata": {},
   "source": [
    "This result looks pretty similar to the one for `mytuple`..."
   ]
  },
  {
   "cell_type": "code",
   "execution_count": 10,
   "id": "dc3a6c31",
   "metadata": {},
   "outputs": [
    {
     "name": "stdout",
     "output_type": "stream",
     "text": [
      "42.4 ns ± 2.04 ns per loop (mean ± std. dev. of 7 runs, 10,000,000 loops each)\n"
     ]
    }
   ],
   "source": [
    "%%timeit\n",
    "0 in myset"
   ]
  },
  {
   "cell_type": "markdown",
   "id": "617f57b3",
   "metadata": {},
   "source": [
    "What's going on here? Searching for 0 in `myset` took longer than for `mytuple` and `mylist`. What's happening is that 0 is the first element of all of these objects, so our search time is not a good representative of what will typically happen.\n",
    "\n",
    "To get a better idea of the speed differences, we should try a \"worst-case-scenario\": let's search for something that's not in our list/tuple/set at all! Let's repeat all of these computations, but search for 1 instead."
   ]
  },
  {
   "cell_type": "code",
   "execution_count": 11,
   "id": "1bbd5c30",
   "metadata": {},
   "outputs": [
    {
     "name": "stdout",
     "output_type": "stream",
     "text": [
      "24.8 ms ± 3.75 ms per loop (mean ± std. dev. of 7 runs, 10 loops each)\n"
     ]
    }
   ],
   "source": [
    "%%timeit\n",
    "1 in mytuple"
   ]
  },
  {
   "cell_type": "markdown",
   "id": "095f38ca",
   "metadata": {},
   "source": [
    "Here, ms (millisecond) means $10^{-3}$ seconds."
   ]
  },
  {
   "cell_type": "code",
   "execution_count": 13,
   "id": "bcdae933",
   "metadata": {},
   "outputs": [
    {
     "name": "stdout",
     "output_type": "stream",
     "text": [
      "25 ms ± 887 µs per loop (mean ± std. dev. of 7 runs, 10 loops each)\n"
     ]
    }
   ],
   "source": [
    "%%timeit\n",
    "1 in mylist"
   ]
  },
  {
   "cell_type": "markdown",
   "id": "c8587e4d",
   "metadata": {},
   "source": [
    "Here, $\\mu s$ (microseconds) means $10^{-6}$ seconds."
   ]
  },
  {
   "cell_type": "code",
   "execution_count": 12,
   "id": "ec42b211",
   "metadata": {},
   "outputs": [
    {
     "name": "stdout",
     "output_type": "stream",
     "text": [
      "41.5 ns ± 0.613 ns per loop (mean ± std. dev. of 7 runs, 10,000,000 loops each)\n"
     ]
    }
   ],
   "source": [
    "%%timeit \n",
    "1 in myset"
   ]
  },
  {
   "cell_type": "markdown",
   "id": "634b5077",
   "metadata": {},
   "source": [
    "## Alternating List\n",
    "__Big Goal:__ Write a function that creates a length $n$ list of alternating 3s and 7s: `[3,7,3,7,...]`"
   ]
  },
  {
   "cell_type": "markdown",
   "id": "9ef855d3",
   "metadata": {},
   "source": [
    "### Constant List\n",
    "__Mini Goal:__ Write a function that takes as input a natural number $n$, and as output returns a length $n$ list `[3,3,3,3...]`"
   ]
  },
  {
   "cell_type": "markdown",
   "id": "e43722bf",
   "metadata": {},
   "source": [
    "In this section, we'll learn the basic syntax for writing functions in python."
   ]
  },
  {
   "cell_type": "code",
   "execution_count": 15,
   "id": "37f7221e",
   "metadata": {},
   "outputs": [],
   "source": [
    "def f(n):\n",
    "    mylist = []\n",
    "    for i in range(n):\n",
    "        mylist.append(3)"
   ]
  },
  {
   "cell_type": "markdown",
   "id": "50fbf2db",
   "metadata": {},
   "source": [
    "Notice in the for-loop above, the variable `i` is never used in the loop. When this is the case, people will often use `_` as the variable instead, to indicate that it won't show up."
   ]
  },
  {
   "cell_type": "markdown",
   "id": "0a005462",
   "metadata": {},
   "source": [
    "Let's try running our function."
   ]
  },
  {
   "cell_type": "code",
   "execution_count": 16,
   "id": "65604de4",
   "metadata": {},
   "outputs": [],
   "source": [
    "f(3)"
   ]
  },
  {
   "cell_type": "markdown",
   "id": "24c2a23f",
   "metadata": {},
   "source": [
    "Notice there is no error, but there's also no output! Here's how we can specify the output. The code below still has a small issue."
   ]
  },
  {
   "cell_type": "code",
   "execution_count": 17,
   "id": "c21e5fbe",
   "metadata": {},
   "outputs": [],
   "source": [
    "def f(n):\n",
    "    mylist = []\n",
    "    for i in range(n):\n",
    "        mylist.append(3)\n",
    "        return mylist"
   ]
  },
  {
   "cell_type": "code",
   "execution_count": 18,
   "id": "a5920e79",
   "metadata": {},
   "outputs": [
    {
     "data": {
      "text/plain": [
       "[3]"
      ]
     },
     "execution_count": 18,
     "metadata": {},
     "output_type": "execute_result"
    }
   ],
   "source": [
    "f(3)"
   ]
  },
  {
   "cell_type": "code",
   "execution_count": 19,
   "id": "ab36c950",
   "metadata": {},
   "outputs": [
    {
     "data": {
      "text/plain": [
       "[3]"
      ]
     },
     "execution_count": 19,
     "metadata": {},
     "output_type": "execute_result"
    }
   ],
   "source": [
    "f(5)"
   ]
  },
  {
   "cell_type": "markdown",
   "id": "4637d034",
   "metadata": {},
   "source": [
    "What's going on here? Notice that because `return` is in the for-loop, we exit the function right after we append one 3 to `mylist`. To fix this, we have to move `return` outside of the for-loop."
   ]
  },
  {
   "cell_type": "code",
   "execution_count": 21,
   "id": "9f35f272",
   "metadata": {},
   "outputs": [],
   "source": [
    "def f(n):\n",
    "    mylist = []\n",
    "    for i in range(n):\n",
    "        mylist.append(3)\n",
    "    return mylist"
   ]
  },
  {
   "cell_type": "markdown",
   "id": "e2bb5f20",
   "metadata": {},
   "source": [
    "Finally, our function should work as expected."
   ]
  },
  {
   "cell_type": "code",
   "execution_count": 22,
   "id": "49d6cd37",
   "metadata": {},
   "outputs": [
    {
     "data": {
      "text/plain": [
       "[3, 3, 3]"
      ]
     },
     "execution_count": 22,
     "metadata": {},
     "output_type": "execute_result"
    }
   ],
   "source": [
    "f(3)"
   ]
  },
  {
   "cell_type": "code",
   "execution_count": 23,
   "id": "3be4a62c",
   "metadata": {},
   "outputs": [
    {
     "data": {
      "text/plain": [
       "[3, 3, 3, 3]"
      ]
     },
     "execution_count": 23,
     "metadata": {},
     "output_type": "execute_result"
    }
   ],
   "source": [
    "f(4)"
   ]
  },
  {
   "cell_type": "code",
   "execution_count": 24,
   "id": "886059d4",
   "metadata": {},
   "outputs": [
    {
     "data": {
      "text/plain": [
       "[]"
      ]
     },
     "execution_count": 24,
     "metadata": {},
     "output_type": "execute_result"
    }
   ],
   "source": [
    "f(0)"
   ]
  },
  {
   "cell_type": "code",
   "execution_count": 25,
   "id": "804dc3ea",
   "metadata": {},
   "outputs": [
    {
     "data": {
      "text/plain": [
       "[3, 3, 3, 3, 3, 3, 3]"
      ]
     },
     "execution_count": 25,
     "metadata": {},
     "output_type": "execute_result"
    }
   ],
   "source": [
    "f(7)"
   ]
  },
  {
   "cell_type": "markdown",
   "id": "e9f44fc3",
   "metadata": {},
   "source": [
    "Notice I ran `f(7)` above. We might think that `n` is defined, since it's used in the function. However,"
   ]
  },
  {
   "cell_type": "code",
   "execution_count": 26,
   "id": "e3cc63e4",
   "metadata": {},
   "outputs": [
    {
     "ename": "NameError",
     "evalue": "name 'n' is not defined",
     "output_type": "error",
     "traceback": [
      "\u001b[0;31m---------------------------------------------------------------------------\u001b[0m",
      "\u001b[0;31mNameError\u001b[0m                                 Traceback (most recent call last)",
      "Input \u001b[0;32mIn [26]\u001b[0m, in \u001b[0;36m<cell line: 1>\u001b[0;34m()\u001b[0m\n\u001b[0;32m----> 1\u001b[0m \u001b[43mn\u001b[49m\n",
      "\u001b[0;31mNameError\u001b[0m: name 'n' is not defined"
     ]
    }
   ],
   "source": [
    "n"
   ]
  },
  {
   "cell_type": "markdown",
   "id": "5de05c95",
   "metadata": {},
   "source": [
    "Notice that `n` is not defined to be 7. This only happens within the function. What if we define `n` outside of the function?"
   ]
  },
  {
   "cell_type": "code",
   "execution_count": 29,
   "id": "aa2c48b0",
   "metadata": {},
   "outputs": [
    {
     "data": {
      "text/plain": [
       "[3, 3, 3, 3]"
      ]
     },
     "execution_count": 29,
     "metadata": {},
     "output_type": "execute_result"
    }
   ],
   "source": [
    "n = 100\n",
    "f(4)"
   ]
  },
  {
   "cell_type": "code",
   "execution_count": 30,
   "id": "27bfaac4",
   "metadata": {},
   "outputs": [
    {
     "data": {
      "text/plain": [
       "100"
      ]
     },
     "execution_count": 30,
     "metadata": {},
     "output_type": "execute_result"
    }
   ],
   "source": [
    "n"
   ]
  },
  {
   "cell_type": "markdown",
   "id": "72459d10",
   "metadata": {},
   "source": [
    "The point of this was to show that input variables are locally defined."
   ]
  },
  {
   "cell_type": "markdown",
   "id": "5921fb64",
   "metadata": {},
   "source": [
    "### Alternating List - Version 1"
   ]
  },
  {
   "cell_type": "markdown",
   "id": "f3173819",
   "metadata": {},
   "source": [
    "Let's copy-paste our constant function. We will make use of it here."
   ]
  },
  {
   "cell_type": "code",
   "execution_count": 32,
   "id": "ac7113ac",
   "metadata": {},
   "outputs": [],
   "source": [
    "def constant(n):\n",
    "    mylist = []\n",
    "    for i in range(n):\n",
    "        mylist.append(3)\n",
    "    return mylist"
   ]
  },
  {
   "cell_type": "markdown",
   "id": "fbe7ce9d",
   "metadata": {},
   "source": [
    "Now we try to write our alternating function. Our strategy is to first create a length $n$ list of 3s, and then change the odd indices to be 7s."
   ]
  },
  {
   "cell_type": "code",
   "execution_count": 33,
   "id": "ee32b725",
   "metadata": {},
   "outputs": [],
   "source": [
    "def alt1(n):\n",
    "    mylist = constant(n)\n",
    "    for i in range(1,n,2):\n",
    "        mylist[i] = 7\n",
    "    return mylist"
   ]
  },
  {
   "cell_type": "markdown",
   "id": "0d4eca9b",
   "metadata": {},
   "source": [
    "Before we test `alt1(n)`, I want to make one comment. Notice how instead of copy-pasting the code for `constant(n)` in `alt1(n)`, we simply called it in a single line. This is because if we realized we need to make changes to `constant(n)`, we only need to do it in one place. If we copy-paste to multiple locations, we have to update the code in all of these locations."
   ]
  },
  {
   "cell_type": "code",
   "execution_count": 34,
   "id": "75058a4a",
   "metadata": {},
   "outputs": [
    {
     "data": {
      "text/plain": [
       "[3, 7, 3, 7]"
      ]
     },
     "execution_count": 34,
     "metadata": {},
     "output_type": "execute_result"
    }
   ],
   "source": [
    "alt1(4)"
   ]
  },
  {
   "cell_type": "code",
   "execution_count": 35,
   "id": "6f87abc3",
   "metadata": {},
   "outputs": [
    {
     "data": {
      "text/plain": [
       "[3, 7, 3, 7, 3]"
      ]
     },
     "execution_count": 35,
     "metadata": {},
     "output_type": "execute_result"
    }
   ],
   "source": [
    "alt1(5)"
   ]
  },
  {
   "cell_type": "code",
   "execution_count": 36,
   "id": "46d8654e",
   "metadata": {},
   "outputs": [
    {
     "data": {
      "text/plain": [
       "[3, 7, 3, 7, 3, 7, 3, 7, 3, 7]"
      ]
     },
     "execution_count": 36,
     "metadata": {},
     "output_type": "execute_result"
    }
   ],
   "source": [
    "alt1(10)"
   ]
  },
  {
   "cell_type": "markdown",
   "id": "111d01b5",
   "metadata": {},
   "source": [
    "The nice thing about `alt1(n)` is that we didn't need to check if indices of `mylist` were even or odd."
   ]
  },
  {
   "cell_type": "markdown",
   "id": "f81ae838",
   "metadata": {},
   "source": [
    "### Alternating List - Version 2"
   ]
  },
  {
   "cell_type": "markdown",
   "id": "6ea22686",
   "metadata": {},
   "source": [
    "Let's see another way of writing a function that does the same thing as `alt1(n)`. The strategy this time is to check whether an index is even or odd."
   ]
  },
  {
   "cell_type": "code",
   "execution_count": 42,
   "id": "87383705",
   "metadata": {},
   "outputs": [],
   "source": [
    "def alt2(n):\n",
    "    mylist = []\n",
    "    for i in range(n): #i represents the index of mylist\n",
    "        if i%2 == 0:\n",
    "            mylist.append(3)\n",
    "        else:\n",
    "            mylist.append(7)\n",
    "    return mylist"
   ]
  },
  {
   "cell_type": "markdown",
   "id": "43968491",
   "metadata": {},
   "source": [
    "Notice how we didn't need to specify an `elif`. This is because an integer only has two possible remainders when we divide by 2. If the remainder is not 0, it must be 1."
   ]
  },
  {
   "cell_type": "markdown",
   "id": "c72549e7",
   "metadata": {},
   "source": [
    "How can we check whether a number is even or odd? We can use `m%n` to check the remainder of `m` divded by `n`."
   ]
  },
  {
   "cell_type": "code",
   "execution_count": 37,
   "id": "58d5c47c",
   "metadata": {},
   "outputs": [
    {
     "data": {
      "text/plain": [
       "1"
      ]
     },
     "execution_count": 37,
     "metadata": {},
     "output_type": "execute_result"
    }
   ],
   "source": [
    "5%2"
   ]
  },
  {
   "cell_type": "code",
   "execution_count": 38,
   "id": "7f21a315",
   "metadata": {},
   "outputs": [
    {
     "data": {
      "text/plain": [
       "1"
      ]
     },
     "execution_count": 38,
     "metadata": {},
     "output_type": "execute_result"
    }
   ],
   "source": [
    "7%2"
   ]
  },
  {
   "cell_type": "code",
   "execution_count": 39,
   "id": "8c3b4022",
   "metadata": {},
   "outputs": [
    {
     "data": {
      "text/plain": [
       "0"
      ]
     },
     "execution_count": 39,
     "metadata": {},
     "output_type": "execute_result"
    }
   ],
   "source": [
    "4%2"
   ]
  },
  {
   "cell_type": "markdown",
   "id": "6d5f7df4",
   "metadata": {},
   "source": [
    "__Observe:__ even numbers have a remainder of 0 when we divide by 2, and odd numbers have a remainder of 1 when we divide by 2."
   ]
  },
  {
   "cell_type": "markdown",
   "id": "01d772c7",
   "metadata": {},
   "source": [
    "Now, we test `alt2(n)` a few times."
   ]
  },
  {
   "cell_type": "code",
   "execution_count": 43,
   "id": "754101d1",
   "metadata": {},
   "outputs": [
    {
     "data": {
      "text/plain": [
       "[3, 7, 3, 7, 3]"
      ]
     },
     "execution_count": 43,
     "metadata": {},
     "output_type": "execute_result"
    }
   ],
   "source": [
    "alt2(5)"
   ]
  },
  {
   "cell_type": "code",
   "execution_count": 44,
   "id": "5991afc7",
   "metadata": {},
   "outputs": [
    {
     "data": {
      "text/plain": [
       "[3, 7, 3, 7, 3, 7]"
      ]
     },
     "execution_count": 44,
     "metadata": {},
     "output_type": "execute_result"
    }
   ],
   "source": [
    "alt2(6)"
   ]
  },
  {
   "cell_type": "code",
   "execution_count": 45,
   "id": "e6f70197",
   "metadata": {},
   "outputs": [
    {
     "data": {
      "text/plain": [
       "[3, 7, 3, 7]"
      ]
     },
     "execution_count": 45,
     "metadata": {},
     "output_type": "execute_result"
    }
   ],
   "source": [
    "alt2(4)"
   ]
  },
  {
   "cell_type": "markdown",
   "id": "a6446a67",
   "metadata": {},
   "source": [
    "### Alternating List - Version 3"
   ]
  },
  {
   "cell_type": "markdown",
   "id": "2ea097b0",
   "metadata": {},
   "source": [
    "For this version of the alternating function, we will use NumPy. NumPy is one of the most important python libraries, and should remind you a lot of MATLAB. Let's start by seeing how we can import it into this notebook."
   ]
  },
  {
   "cell_type": "code",
   "execution_count": 46,
   "id": "8fec155a",
   "metadata": {},
   "outputs": [],
   "source": [
    "import numpy as np"
   ]
  },
  {
   "cell_type": "markdown",
   "id": "9c7444a0",
   "metadata": {},
   "source": [
    "__Note:__ \n",
    "* `np` is a standard abbreviation, and you should not use anything else when importing numpy.\n",
    "\n",
    "* Notice that when I evaluate the cell with the import statement there is no error. If you get an error at this step, it means that NumPy is not installed on your computer."
   ]
  },
  {
   "cell_type": "code",
   "execution_count": 47,
   "id": "7d1ea4c2",
   "metadata": {},
   "outputs": [
    {
     "data": {
      "text/plain": [
       "array([[0., 0., 0., 0.],\n",
       "       [0., 0., 0., 0.],\n",
       "       [0., 0., 0., 0.]])"
      ]
     },
     "execution_count": 47,
     "metadata": {},
     "output_type": "execute_result"
    }
   ],
   "source": [
    "np.zeros((3,4)) #notice the dimensions are in a tuple"
   ]
  },
  {
   "cell_type": "markdown",
   "id": "dd989428",
   "metadata": {},
   "source": [
    "The data type `numpy.ndarray` should make you think $n$-dimensional array."
   ]
  },
  {
   "cell_type": "code",
   "execution_count": 49,
   "id": "4af6be11",
   "metadata": {},
   "outputs": [
    {
     "data": {
      "text/plain": [
       "numpy.ndarray"
      ]
     },
     "execution_count": 49,
     "metadata": {},
     "output_type": "execute_result"
    }
   ],
   "source": [
    "A = np.zeros((3,5))\n",
    "type(A)"
   ]
  },
  {
   "cell_type": "markdown",
   "id": "9a5420a8",
   "metadata": {},
   "source": [
    "Notice that the following doesn't give a square array, which is what we would expect in MATLAB."
   ]
  },
  {
   "cell_type": "code",
   "execution_count": 53,
   "id": "88239062",
   "metadata": {},
   "outputs": [
    {
     "data": {
      "text/plain": [
       "array([0., 0., 0., 0., 0., 0., 0.])"
      ]
     },
     "execution_count": 53,
     "metadata": {},
     "output_type": "execute_result"
    }
   ],
   "source": [
    "np.zeros(7)"
   ]
  },
  {
   "cell_type": "markdown",
   "id": "da926e42",
   "metadata": {},
   "source": [
    "Notice that the entires of my array are floating point numbers, not integers."
   ]
  },
  {
   "cell_type": "code",
   "execution_count": 52,
   "id": "b12210f6",
   "metadata": {},
   "outputs": [
    {
     "data": {
      "text/plain": [
       "numpy.float64"
      ]
     },
     "execution_count": 52,
     "metadata": {},
     "output_type": "execute_result"
    }
   ],
   "source": [
    "type(np.zeros(7)[0])"
   ]
  },
  {
   "cell_type": "code",
   "execution_count": 54,
   "id": "298d921f",
   "metadata": {},
   "outputs": [
    {
     "name": "stdout",
     "output_type": "stream",
     "text": [
      "Help on built-in function zeros in module numpy:\n",
      "\n",
      "zeros(...)\n",
      "    zeros(shape, dtype=float, order='C', *, like=None)\n",
      "    \n",
      "    Return a new array of given shape and type, filled with zeros.\n",
      "    \n",
      "    Parameters\n",
      "    ----------\n",
      "    shape : int or tuple of ints\n",
      "        Shape of the new array, e.g., ``(2, 3)`` or ``2``.\n",
      "    dtype : data-type, optional\n",
      "        The desired data-type for the array, e.g., `numpy.int8`.  Default is\n",
      "        `numpy.float64`.\n",
      "    order : {'C', 'F'}, optional, default: 'C'\n",
      "        Whether to store multi-dimensional data in row-major\n",
      "        (C-style) or column-major (Fortran-style) order in\n",
      "        memory.\n",
      "    like : array_like, optional\n",
      "        Reference object to allow the creation of arrays which are not\n",
      "        NumPy arrays. If an array-like passed in as ``like`` supports\n",
      "        the ``__array_function__`` protocol, the result will be defined\n",
      "        by it. In this case, it ensures the creation of an array object\n",
      "        compatible with that passed in via this argument.\n",
      "    \n",
      "        .. versionadded:: 1.20.0\n",
      "    \n",
      "    Returns\n",
      "    -------\n",
      "    out : ndarray\n",
      "        Array of zeros with the given shape, dtype, and order.\n",
      "    \n",
      "    See Also\n",
      "    --------\n",
      "    zeros_like : Return an array of zeros with shape and type of input.\n",
      "    empty : Return a new uninitialized array.\n",
      "    ones : Return a new array setting values to one.\n",
      "    full : Return a new array of given shape filled with value.\n",
      "    \n",
      "    Examples\n",
      "    --------\n",
      "    >>> np.zeros(5)\n",
      "    array([ 0.,  0.,  0.,  0.,  0.])\n",
      "    \n",
      "    >>> np.zeros((5,), dtype=int)\n",
      "    array([0, 0, 0, 0, 0])\n",
      "    \n",
      "    >>> np.zeros((2, 1))\n",
      "    array([[ 0.],\n",
      "           [ 0.]])\n",
      "    \n",
      "    >>> s = (2,2)\n",
      "    >>> np.zeros(s)\n",
      "    array([[ 0.,  0.],\n",
      "           [ 0.,  0.]])\n",
      "    \n",
      "    >>> np.zeros((2,), dtype=[('x', 'i4'), ('y', 'i4')]) # custom dtype\n",
      "    array([(0, 0), (0, 0)],\n",
      "          dtype=[('x', '<i4'), ('y', '<i4')])\n",
      "\n"
     ]
    }
   ],
   "source": [
    "help(np.zeros)"
   ]
  },
  {
   "cell_type": "code",
   "execution_count": 55,
   "id": "f23ec647",
   "metadata": {},
   "outputs": [
    {
     "data": {
      "text/plain": [
       "array([0, 0, 0, 0, 0, 0, 0])"
      ]
     },
     "execution_count": 55,
     "metadata": {},
     "output_type": "execute_result"
    }
   ],
   "source": [
    "np.zeros(7,dtype=np.int64)"
   ]
  },
  {
   "cell_type": "markdown",
   "id": "f029340c",
   "metadata": {},
   "source": [
    "Now let's try to use NumPy to write another version of our alternating function. We start with creating a constant array."
   ]
  },
  {
   "cell_type": "code",
   "execution_count": 59,
   "id": "e1bc3828",
   "metadata": {},
   "outputs": [],
   "source": [
    "def alt3(n):\n",
    "    A = np.zeros(n,dtype=np.int64)\n",
    "    return A"
   ]
  },
  {
   "cell_type": "code",
   "execution_count": 60,
   "id": "931f041c",
   "metadata": {},
   "outputs": [
    {
     "data": {
      "text/plain": [
       "array([0, 0, 0, 0])"
      ]
     },
     "execution_count": 60,
     "metadata": {},
     "output_type": "execute_result"
    }
   ],
   "source": [
    "alt3(4)"
   ]
  },
  {
   "cell_type": "code",
   "execution_count": 62,
   "id": "9e4d5a77",
   "metadata": {},
   "outputs": [
    {
     "data": {
      "text/plain": [
       "array([3, 3, 3, 3, 3])"
      ]
     },
     "execution_count": 62,
     "metadata": {},
     "output_type": "execute_result"
    }
   ],
   "source": [
    "alt3(5) + 3"
   ]
  },
  {
   "cell_type": "code",
   "execution_count": 63,
   "id": "2e20788e",
   "metadata": {},
   "outputs": [],
   "source": [
    "#constant with all threes\n",
    "def alt3(n):\n",
    "    A = np.zeros(n,dtype=np.int64) + 3\n",
    "    return A"
   ]
  },
  {
   "cell_type": "markdown",
   "id": "e8404921",
   "metadata": {},
   "source": [
    "We might be tempted to think this same strategy works with lists. But this is not the case!"
   ]
  },
  {
   "cell_type": "code",
   "execution_count": 64,
   "id": "362d8935",
   "metadata": {},
   "outputs": [],
   "source": [
    "mylist = [0,0,0]"
   ]
  },
  {
   "cell_type": "code",
   "execution_count": 65,
   "id": "ce7ba374",
   "metadata": {},
   "outputs": [
    {
     "ename": "TypeError",
     "evalue": "can only concatenate list (not \"int\") to list",
     "output_type": "error",
     "traceback": [
      "\u001b[0;31m---------------------------------------------------------------------------\u001b[0m",
      "\u001b[0;31mTypeError\u001b[0m                                 Traceback (most recent call last)",
      "Input \u001b[0;32mIn [65]\u001b[0m, in \u001b[0;36m<cell line: 1>\u001b[0;34m()\u001b[0m\n\u001b[0;32m----> 1\u001b[0m \u001b[43mmylist\u001b[49m\u001b[43m \u001b[49m\u001b[38;5;241;43m+\u001b[39;49m\u001b[43m \u001b[49m\u001b[38;5;241;43m3\u001b[39;49m\n",
      "\u001b[0;31mTypeError\u001b[0m: can only concatenate list (not \"int\") to list"
     ]
    }
   ],
   "source": [
    "mylist + 3"
   ]
  },
  {
   "cell_type": "markdown",
   "id": "23a6ba2d",
   "metadata": {},
   "source": [
    "Now, let's update our function so that the odd entries are 7s."
   ]
  },
  {
   "cell_type": "code",
   "execution_count": 66,
   "id": "a4de4110",
   "metadata": {},
   "outputs": [],
   "source": [
    "def alt3(n):\n",
    "    A = np.zeros(n,dtype=np.int64) + 3\n",
    "    A[1::2] = 7\n",
    "    return A"
   ]
  },
  {
   "cell_type": "markdown",
   "id": "bcbe6210",
   "metadata": {},
   "source": [
    "Now, we test our function a few times before making some last comments."
   ]
  },
  {
   "cell_type": "code",
   "execution_count": 67,
   "id": "f617ba03",
   "metadata": {},
   "outputs": [
    {
     "data": {
      "text/plain": [
       "array([3, 7, 3, 7, 3, 7, 3, 7, 3, 7])"
      ]
     },
     "execution_count": 67,
     "metadata": {},
     "output_type": "execute_result"
    }
   ],
   "source": [
    "alt3(10)"
   ]
  },
  {
   "cell_type": "code",
   "execution_count": 68,
   "id": "d8dcf4e3",
   "metadata": {},
   "outputs": [
    {
     "data": {
      "text/plain": [
       "array([3, 7, 3, 7])"
      ]
     },
     "execution_count": 68,
     "metadata": {},
     "output_type": "execute_result"
    }
   ],
   "source": [
    "alt3(4)"
   ]
  },
  {
   "cell_type": "markdown",
   "id": "fc7a9c02",
   "metadata": {},
   "source": [
    "Notice how `A[1::2] = 7` worked as we would expect in MATLAB. This will not work with just lists."
   ]
  },
  {
   "cell_type": "code",
   "execution_count": 69,
   "id": "6ae1b03c",
   "metadata": {},
   "outputs": [],
   "source": [
    "mylist = [3,1,4,1,5,9]"
   ]
  },
  {
   "cell_type": "code",
   "execution_count": 70,
   "id": "9eed20e9",
   "metadata": {},
   "outputs": [
    {
     "data": {
      "text/plain": [
       "[3, 4, 5]"
      ]
     },
     "execution_count": 70,
     "metadata": {},
     "output_type": "execute_result"
    }
   ],
   "source": [
    "mylist[::2]"
   ]
  },
  {
   "cell_type": "markdown",
   "id": "cb066982",
   "metadata": {},
   "source": [
    "What if I wanted to set all of these entries to -17?"
   ]
  },
  {
   "cell_type": "code",
   "execution_count": 71,
   "id": "6e3057ed",
   "metadata": {},
   "outputs": [
    {
     "ename": "TypeError",
     "evalue": "must assign iterable to extended slice",
     "output_type": "error",
     "traceback": [
      "\u001b[0;31m---------------------------------------------------------------------------\u001b[0m",
      "\u001b[0;31mTypeError\u001b[0m                                 Traceback (most recent call last)",
      "Input \u001b[0;32mIn [71]\u001b[0m, in \u001b[0;36m<cell line: 1>\u001b[0;34m()\u001b[0m\n\u001b[0;32m----> 1\u001b[0m mylist[::\u001b[38;5;241m2\u001b[39m] \u001b[38;5;241m=\u001b[39m \u001b[38;5;241m-\u001b[39m\u001b[38;5;241m17\u001b[39m\n",
      "\u001b[0;31mTypeError\u001b[0m: must assign iterable to extended slice"
     ]
    }
   ],
   "source": [
    "mylist[::2] = -17"
   ]
  },
  {
   "cell_type": "markdown",
   "id": "25903bb8",
   "metadata": {},
   "source": [
    "What's going wrong here is that I need to assign `mylist[::2]` to a list with the same number of elements."
   ]
  },
  {
   "cell_type": "code",
   "execution_count": 73,
   "id": "8df99874",
   "metadata": {},
   "outputs": [
    {
     "data": {
      "text/plain": [
       "[-17, 1, -17, 1, -17, 9]"
      ]
     },
     "execution_count": 73,
     "metadata": {},
     "output_type": "execute_result"
    }
   ],
   "source": [
    "mylist[::2] = [-17,-17,-17]\n",
    "mylist"
   ]
  },
  {
   "cell_type": "markdown",
   "id": "675b2a2d",
   "metadata": {},
   "source": [
    "The point is that this is a lot more complicated than using NumPy! Notice how we needed to know exactly how long `mylist[::2]` is."
   ]
  },
  {
   "cell_type": "markdown",
   "id": "5cec34e8",
   "metadata": {},
   "source": [
    "### Timing Alternating List Strategies\n",
    "__Upshot:__ NumPy will be much faster than base python!"
   ]
  },
  {
   "cell_type": "markdown",
   "id": "cb17def4",
   "metadata": {},
   "source": [
    "Let's start by copy-pasting our code for `alt3(n)`. Remember, this is the code that used NumPy."
   ]
  },
  {
   "cell_type": "code",
   "execution_count": 74,
   "id": "3f03965e",
   "metadata": {},
   "outputs": [],
   "source": [
    "def alt3(n):\n",
    "    A = np.zeros(n,dtype=np.int64) + 3\n",
    "    A[1::2] = 7\n",
    "    return A"
   ]
  },
  {
   "cell_type": "markdown",
   "id": "5c86c057",
   "metadata": {},
   "source": [
    "To get a more accurate time comparison, we're going to write another function `alt4(n)` which uses lists and is meant to mimic how `alt3(n)` is structured:\n",
    "* Create a length n list of all 3s.\n",
    "* Change all of the odd indices to be 7s."
   ]
  },
  {
   "cell_type": "code",
   "execution_count": 76,
   "id": "c8b63762",
   "metadata": {},
   "outputs": [],
   "source": [
    "def alt4(n):\n",
    "    mylist = []\n",
    "    for i in range(n):\n",
    "        mylist.append(3)\n",
    "    for i in range(1,n,2):\n",
    "        mylist[i] = 7\n",
    "    return mylist"
   ]
  },
  {
   "cell_type": "markdown",
   "id": "ee5b5758",
   "metadata": {},
   "source": [
    "Let's run a couple of test cases."
   ]
  },
  {
   "cell_type": "code",
   "execution_count": 77,
   "id": "ca6258df",
   "metadata": {},
   "outputs": [
    {
     "data": {
      "text/plain": [
       "[3, 7, 3, 7, 3, 7, 3, 7, 3, 7]"
      ]
     },
     "execution_count": 77,
     "metadata": {},
     "output_type": "execute_result"
    }
   ],
   "source": [
    "alt4(10)"
   ]
  },
  {
   "cell_type": "code",
   "execution_count": 78,
   "id": "fe17f160",
   "metadata": {},
   "outputs": [
    {
     "data": {
      "text/plain": [
       "[3, 7, 3, 7, 3]"
      ]
     },
     "execution_count": 78,
     "metadata": {},
     "output_type": "execute_result"
    }
   ],
   "source": [
    "alt4(5)"
   ]
  },
  {
   "cell_type": "markdown",
   "id": "2c3d1fdc",
   "metadata": {},
   "source": [
    "Recall, we can use the Jupyter magic `%%timeit` to time how long it takes a block of code to run."
   ]
  },
  {
   "cell_type": "code",
   "execution_count": 79,
   "id": "975cc3ef",
   "metadata": {},
   "outputs": [
    {
     "name": "stdout",
     "output_type": "stream",
     "text": [
      "1.45 µs ± 49 ns per loop (mean ± std. dev. of 7 runs, 1,000,000 loops each)\n"
     ]
    }
   ],
   "source": [
    "%%timeit \n",
    "alt4(10)"
   ]
  },
  {
   "cell_type": "markdown",
   "id": "96414614",
   "metadata": {},
   "source": [
    "We will now see a timing method that gives just the time, without all of the extra information given by `%%timeit`."
   ]
  },
  {
   "cell_type": "code",
   "execution_count": 80,
   "id": "19c216c8",
   "metadata": {},
   "outputs": [],
   "source": [
    "#come with python, no installation\n",
    "import time "
   ]
  },
  {
   "cell_type": "code",
   "execution_count": 81,
   "id": "0ef30631",
   "metadata": {},
   "outputs": [
    {
     "data": {
      "text/plain": [
       "1689356161.100248"
      ]
     },
     "execution_count": 81,
     "metadata": {},
     "output_type": "execute_result"
    }
   ],
   "source": [
    "time.time()"
   ]
  },
  {
   "cell_type": "markdown",
   "id": "47ef0ef9",
   "metadata": {},
   "source": [
    "This gives how much time has elapsed since the beginning of (computer) time: January 1st, 1970."
   ]
  },
  {
   "cell_type": "code",
   "execution_count": 82,
   "id": "2a07148b",
   "metadata": {},
   "outputs": [
    {
     "data": {
      "text/plain": [
       "1689356199.444617"
      ]
     },
     "execution_count": 82,
     "metadata": {},
     "output_type": "execute_result"
    }
   ],
   "source": [
    "time.time()"
   ]
  },
  {
   "cell_type": "markdown",
   "id": "61484b85",
   "metadata": {},
   "source": [
    "Notice, if I take the difference between these two numbers, I can calculate how long I was talking for :)"
   ]
  },
  {
   "cell_type": "markdown",
   "id": "742c67ca",
   "metadata": {},
   "source": [
    "Here's how we can compute the time of some computation without using Jupyter magics."
   ]
  },
  {
   "cell_type": "code",
   "execution_count": 83,
   "id": "b41656ae",
   "metadata": {},
   "outputs": [],
   "source": [
    "start = time.time()\n",
    "alt4(10**3)\n",
    "end = time.time()\n",
    "t = end - start"
   ]
  },
  {
   "cell_type": "code",
   "execution_count": 84,
   "id": "dc3dbf7b",
   "metadata": {},
   "outputs": [
    {
     "data": {
      "text/plain": [
       "0.0002002716064453125"
      ]
     },
     "execution_count": 84,
     "metadata": {},
     "output_type": "execute_result"
    }
   ],
   "source": [
    "t"
   ]
  },
  {
   "cell_type": "markdown",
   "id": "17af8fd1",
   "metadata": {},
   "source": [
    "__Mini Goal:__ Use a while loop to find $n$ such that `alt4(n)` takes more than 5 seconds to run."
   ]
  },
  {
   "cell_type": "code",
   "execution_count": 85,
   "id": "dcba6023",
   "metadata": {},
   "outputs": [],
   "source": [
    "t = 0\n",
    "n = 100\n",
    "while t < 5:\n",
    "    n = 2*n\n",
    "    start = time.time()\n",
    "    alt4(n)\n",
    "    end = time.time()\n",
    "    t = end-start"
   ]
  },
  {
   "cell_type": "code",
   "execution_count": 86,
   "id": "cc43b1ee",
   "metadata": {},
   "outputs": [
    {
     "data": {
      "text/plain": [
       "5.554392099380493"
      ]
     },
     "execution_count": 86,
     "metadata": {},
     "output_type": "execute_result"
    }
   ],
   "source": [
    "t"
   ]
  },
  {
   "cell_type": "code",
   "execution_count": 87,
   "id": "60b7b513",
   "metadata": {},
   "outputs": [
    {
     "data": {
      "text/plain": [
       "52428800"
      ]
     },
     "execution_count": 87,
     "metadata": {},
     "output_type": "execute_result"
    }
   ],
   "source": [
    "n"
   ]
  },
  {
   "cell_type": "markdown",
   "id": "ce9f2aa7",
   "metadata": {},
   "source": [
    "Notice: it wouldn't make sense for us to increment `n = 2*n` at the end of the while-loop. Why?"
   ]
  },
  {
   "cell_type": "markdown",
   "id": "95c9b823",
   "metadata": {},
   "source": [
    "Now, let's see how much faster `alt3(n)`, our NumPy version, can run for the same `n`."
   ]
  },
  {
   "cell_type": "code",
   "execution_count": 88,
   "id": "3009b041",
   "metadata": {},
   "outputs": [
    {
     "name": "stdout",
     "output_type": "stream",
     "text": [
      "52428800\n",
      "0.3384990692138672\n"
     ]
    }
   ],
   "source": [
    "print(n)\n",
    "start = time.time()\n",
    "alt3(n)\n",
    "end = time.time()\n",
    "t = end-start\n",
    "print(t)"
   ]
  },
  {
   "cell_type": "markdown",
   "id": "ef01f256",
   "metadata": {},
   "source": [
    "Appreciate the difference! What took base python (lists) more than 5 seconds, took NumPy about $\\frac{1}{3}$ of a second."
   ]
  },
  {
   "cell_type": "markdown",
   "id": "53addff6",
   "metadata": {},
   "source": [
    "Let's now keep our NumPy code, but return a list at the very end. "
   ]
  },
  {
   "cell_type": "code",
   "execution_count": 89,
   "id": "58615748",
   "metadata": {},
   "outputs": [],
   "source": [
    "def alt3a(n):\n",
    "    A = np.zeros(n,dtype=np.int64) + 3\n",
    "    A[1::2] = 7\n",
    "    return list(A)"
   ]
  },
  {
   "cell_type": "code",
   "execution_count": 91,
   "id": "470e0518",
   "metadata": {},
   "outputs": [
    {
     "name": "stdout",
     "output_type": "stream",
     "text": [
      "52428800\n",
      "4.120077848434448\n"
     ]
    }
   ],
   "source": [
    "print(n)\n",
    "start = time.time()\n",
    "alt3a(n)\n",
    "end = time.time()\n",
    "t = end-start\n",
    "print(t)"
   ]
  },
  {
   "cell_type": "markdown",
   "id": "7a7ca301",
   "metadata": {},
   "source": [
    "What made `alt3a(n)` so slow? It was the fact that we converted `A` to a list."
   ]
  },
  {
   "cell_type": "markdown",
   "id": "2380bf13",
   "metadata": {},
   "source": [
    "What if we used for-loops instead of slicing in our NumPy function?"
   ]
  },
  {
   "cell_type": "code",
   "execution_count": 92,
   "id": "e980b687",
   "metadata": {},
   "outputs": [],
   "source": [
    "def alt3b(n):\n",
    "    A = np.zeros(n,dtype=np.int64) + 3\n",
    "    for i in range(1,n,2):\n",
    "        A[i] = 7\n",
    "    return A"
   ]
  },
  {
   "cell_type": "code",
   "execution_count": 93,
   "id": "521f19b6",
   "metadata": {},
   "outputs": [
    {
     "name": "stdout",
     "output_type": "stream",
     "text": [
      "52428800\n",
      "3.4194891452789307\n"
     ]
    }
   ],
   "source": [
    "print(n)\n",
    "start = time.time()\n",
    "alt3b(n)\n",
    "end = time.time()\n",
    "t = end-start\n",
    "print(t)"
   ]
  },
  {
   "cell_type": "markdown",
   "id": "d35f4519",
   "metadata": {},
   "source": [
    "__Takeaway:__ Using for-loops is very slow! Avoid them when you can :)"
   ]
  }
 ],
 "metadata": {
  "kernelspec": {
   "display_name": "Python 3 (ipykernel)",
   "language": "python",
   "name": "python3"
  },
  "language_info": {
   "codemirror_mode": {
    "name": "ipython",
    "version": 3
   },
   "file_extension": ".py",
   "mimetype": "text/x-python",
   "name": "python",
   "nbconvert_exporter": "python",
   "pygments_lexer": "ipython3",
   "version": "3.9.13"
  }
 },
 "nbformat": 4,
 "nbformat_minor": 5
}
